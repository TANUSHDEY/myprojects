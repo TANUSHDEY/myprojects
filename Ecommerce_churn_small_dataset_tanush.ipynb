{
 "cells": [
  {
   "cell_type": "code",
   "execution_count": 2,
   "metadata": {},
   "outputs": [
    {
     "ename": "NameError",
     "evalue": "name 'spark' is not defined",
     "output_type": "error",
     "traceback": [
      "\u001b[0;31m---------------------------------------------------------------------------\u001b[0m",
      "\u001b[0;31mNameError\u001b[0m                                 Traceback (most recent call last)",
      "\u001b[0;32m<ipython-input-2-84901cd22f32>\u001b[0m in \u001b[0;36m<module>\u001b[0;34m\u001b[0m\n\u001b[0;32m----> 1\u001b[0;31m \u001b[0mspark\u001b[0m\u001b[0;34m\u001b[0m\u001b[0;34m\u001b[0m\u001b[0m\n\u001b[0m",
      "\u001b[0;31mNameError\u001b[0m: name 'spark' is not defined"
     ]
    }
   ],
   "source": []
  },
  {
   "cell_type": "code",
   "execution_count": 2,
   "metadata": {},
   "outputs": [
    {
     "name": "stdout",
     "output_type": "stream",
     "text": [
      "<SparkContext master=local appName=test>\n",
      "<pyspark.sql.context.SQLContext object at 0x7f898f3385b0>\n"
     ]
    }
   ],
   "source": [
    "from pyspark import SparkConf, SparkContext, SQLContext\n",
    "\n",
    "conf = SparkConf().setAppName(\"test\").setMaster(\"local\")\n",
    "sc = SparkContext(conf=conf)\n",
    "sqlContext = SQLContext(sc)\n",
    "print(sc)\n",
    "print(sqlContext)"
   ]
  },
  {
   "cell_type": "code",
   "execution_count": 3,
   "metadata": {},
   "outputs": [],
   "source": [
    "from pyspark.sql import SparkSession\n",
    "spark = SparkSession.builder.appName(\"test\").config(\"spark.sql.broadcastTimeout\", \"3600000000\").getOrCreate()"
   ]
  },
  {
   "cell_type": "code",
   "execution_count": 1,
   "metadata": {},
   "outputs": [
    {
     "ename": "NameError",
     "evalue": "name 'spark' is not defined",
     "output_type": "error",
     "traceback": [
      "\u001b[0;31m---------------------------------------------------------------------------\u001b[0m",
      "\u001b[0;31mNameError\u001b[0m                                 Traceback (most recent call last)",
      "\u001b[0;32m<ipython-input-1-d0341064d494>\u001b[0m in \u001b[0;36m<module>\u001b[0;34m\u001b[0m\n\u001b[0;32m----> 1\u001b[0;31m \u001b[0mspark\u001b[0m\u001b[0;34m.\u001b[0m\u001b[0msparkContext\u001b[0m\u001b[0;34m.\u001b[0m\u001b[0mgetConf\u001b[0m\u001b[0;34m(\u001b[0m\u001b[0;34m)\u001b[0m\u001b[0;34m.\u001b[0m\u001b[0mget\u001b[0m\u001b[0;34m(\u001b[0m\u001b[0;34m'spark.driver.memory'\u001b[0m\u001b[0;34m)\u001b[0m\u001b[0;34m\u001b[0m\u001b[0;34m\u001b[0m\u001b[0m\n\u001b[0m",
      "\u001b[0;31mNameError\u001b[0m: name 'spark' is not defined"
     ]
    }
   ],
   "source": [
    "spark.sparkContext.getConf().get('spark.driver.memory')"
   ]
  },
  {
   "cell_type": "markdown",
   "metadata": {},
   "source": [
    "# Initialising the Spark session\n",
    "spark.sparkContext.getConf().get('spark.driver.memory')"
   ]
  },
  {
   "cell_type": "code",
   "execution_count": 7,
   "metadata": {},
   "outputs": [
    {
     "ename": "AttributeError",
     "evalue": "'SparkContext' object has no attribute 'list_packages'",
     "output_type": "error",
     "traceback": [
      "\u001b[0;31m---------------------------------------------------------------------------\u001b[0m",
      "\u001b[0;31mAttributeError\u001b[0m                            Traceback (most recent call last)",
      "\u001b[0;32m<ipython-input-7-412be2c717e9>\u001b[0m in \u001b[0;36m<module>\u001b[0;34m\u001b[0m\n\u001b[1;32m      1\u001b[0m \u001b[0;31m# check the libraries in already installed on the cluster\u001b[0m\u001b[0;34m\u001b[0m\u001b[0;34m\u001b[0m\u001b[0;34m\u001b[0m\u001b[0m\n\u001b[0;32m----> 2\u001b[0;31m \u001b[0mspark\u001b[0m\u001b[0;34m.\u001b[0m\u001b[0msparkContext\u001b[0m\u001b[0;34m.\u001b[0m\u001b[0mlist_packages\u001b[0m\u001b[0;34m(\u001b[0m\u001b[0;34m)\u001b[0m\u001b[0;34m\u001b[0m\u001b[0;34m\u001b[0m\u001b[0m\n\u001b[0m",
      "\u001b[0;31mAttributeError\u001b[0m: 'SparkContext' object has no attribute 'list_packages'"
     ]
    }
   ],
   "source": [
    "# check the libraries in already installed on the cluster \n",
    "spark.sparkContext.list_packages()"
   ]
  },
  {
   "cell_type": "code",
   "execution_count": 5,
   "metadata": {},
   "outputs": [],
   "source": [
    "# Data stored in Public S3 Bucket 'chicago-crime-mlc' as 'Chicago_Crimes_2012_to_2017.csv'\n",
    "df = spark.read.csv('s3://tdronitaaws/2019-Oct (1).csv', header = True, inferSchema = False)"
   ]
  },
  {
   "cell_type": "code",
   "execution_count": 6,
   "metadata": {},
   "outputs": [],
   "source": [
    "from pyspark.sql.functions import col\n",
    "\n",
    "df = df.where(col(\"brand\").isNotNull())\n",
    "\n",
    "\n",
    "df = df.where(col(\"category_code\").isNotNull())\n",
    "\n",
    "df = df.where(col(\"user_session\").isNotNull())"
   ]
  },
  {
   "cell_type": "code",
   "execution_count": 7,
   "metadata": {},
   "outputs": [
    {
     "name": "stdout",
     "output_type": "stream",
     "text": [
      "+----------+----------+----------+-----------+-------------+-----+-----+-------+------------+\n",
      "|event_time|event_type|product_id|category_id|category_code|brand|price|user_id|user_session|\n",
      "+----------+----------+----------+-----------+-------------+-----+-----+-------+------------+\n",
      "|         0|         0|         0|          0|            0|    0|    0|      0|           0|\n",
      "+----------+----------+----------+-----------+-------------+-----+-----+-------+------------+\n",
      "\n"
     ]
    }
   ],
   "source": [
    "from pyspark.sql.functions import col, countDistinct\n",
    "from pyspark.sql.functions import when, count, col, isnull\n",
    "import pyspark.sql.functions as F\n",
    "from pyspark.sql.types import FloatType\n",
    "\n",
    "df.select([count(when(isnull(c), c)).alias(c) for c in df.columns]).show()"
   ]
  },
  {
   "cell_type": "code",
   "execution_count": 422,
   "metadata": {},
   "outputs": [
    {
     "name": "stdout",
     "output_type": "stream",
     "text": [
      "(26560620, 9)\n"
     ]
    }
   ],
   "source": [
    "# Number of rows and columns in the dataset\n",
    "print((df.count(), len(df.columns)))"
   ]
  },
  {
   "cell_type": "code",
   "execution_count": 209,
   "metadata": {},
   "outputs": [
    {
     "data": {
      "text/plain": [
       "[Row(event_time='2019-10-01 00:00:00 UTC', event_type='view', product_id='3900821', category_id='2053013552326770905', category_code='appliances.environment.water_heater', brand='aqua', price='33.20', user_id='554748717', user_session='9333dfbd-b87a-4708-9857-6336556b0fcc'),\n",
       " Row(event_time='2019-10-01 00:00:01 UTC', event_type='view', product_id='1307067', category_id='2053013558920217191', category_code='computers.notebook', brand='lenovo', price='251.74', user_id='550050854', user_session='7c90fc70-0e80-4590-96f3-13c02c18c713')]"
      ]
     },
     "execution_count": 209,
     "metadata": {},
     "output_type": "execute_result"
    }
   ],
   "source": [
    "# Printing the first two row\n",
    "df.head(2)"
   ]
  },
  {
   "cell_type": "code",
   "execution_count": 210,
   "metadata": {},
   "outputs": [
    {
     "name": "stdout",
     "output_type": "stream",
     "text": [
      "+--------------------+----------+----------+-------------------+--------------------+------+-------+---------+--------------------+\n",
      "|          event_time|event_type|product_id|        category_id|       category_code| brand|  price|  user_id|        user_session|\n",
      "+--------------------+----------+----------+-------------------+--------------------+------+-------+---------+--------------------+\n",
      "|2019-10-01 00:00:...|      view|   3900821|2053013552326770905|appliances.enviro...|  aqua|  33.20|554748717|9333dfbd-b87a-470...|\n",
      "|2019-10-01 00:00:...|      view|   1307067|2053013558920217191|  computers.notebook|lenovo| 251.74|550050854|7c90fc70-0e80-459...|\n",
      "|2019-10-01 00:00:...|      view|   1004237|2053013555631882655|electronics.smart...| apple|1081.98|535871217|c6bd7419-2748-4c5...|\n",
      "|2019-10-01 00:00:...|      view|   1480613|2053013561092866779|   computers.desktop|pulser| 908.62|512742880|0d0d91c2-c9c2-4e8...|\n",
      "|2019-10-01 00:00:...|      view|  28719074|2053013565480109009|  apparel.shoes.keds| baden| 102.71|520571932|ac1cd4e5-a3ce-422...|\n",
      "+--------------------+----------+----------+-------------------+--------------------+------+-------+---------+--------------------+\n",
      "only showing top 5 rows\n",
      "\n"
     ]
    }
   ],
   "source": [
    "df.show(5)"
   ]
  },
  {
   "cell_type": "code",
   "execution_count": 478,
   "metadata": {},
   "outputs": [
    {
     "data": {
      "text/plain": [
       "['event_time',\n",
       " 'event_type',\n",
       " 'product_id',\n",
       " 'category_id',\n",
       " 'category_code',\n",
       " 'brand',\n",
       " 'price',\n",
       " 'user_id',\n",
       " 'user_session']"
      ]
     },
     "execution_count": 478,
     "metadata": {},
     "output_type": "execute_result"
    }
   ],
   "source": [
    "df.columns"
   ]
  },
  {
   "cell_type": "code",
   "execution_count": 212,
   "metadata": {},
   "outputs": [
    {
     "name": "stdout",
     "output_type": "stream",
     "text": [
      "+-----------------------+\n",
      "|event_time             |\n",
      "+-----------------------+\n",
      "|2019-10-01 00:00:00 UTC|\n",
      "|2019-10-01 00:00:01 UTC|\n",
      "|2019-10-01 00:00:04 UTC|\n",
      "|2019-10-01 00:00:05 UTC|\n",
      "|2019-10-01 00:00:10 UTC|\n",
      "|2019-10-01 00:00:11 UTC|\n",
      "|2019-10-01 00:00:11 UTC|\n",
      "|2019-10-01 00:00:11 UTC|\n",
      "|2019-10-01 00:00:13 UTC|\n",
      "|2019-10-01 00:00:16 UTC|\n",
      "+-----------------------+\n",
      "only showing top 10 rows\n",
      "\n"
     ]
    }
   ],
   "source": [
    "#Data exploration and cleaning\n",
    "\n",
    "df.select(\"event_time\").show(10, truncate = False)"
   ]
  },
  {
   "cell_type": "code",
   "execution_count": 213,
   "metadata": {},
   "outputs": [
    {
     "data": {
      "text/plain": [
       "[('event_time', 'string')]"
      ]
     },
     "execution_count": 213,
     "metadata": {},
     "output_type": "execute_result"
    }
   ],
   "source": [
    "df.select(\"event_time\").dtypes"
   ]
  },
  {
   "cell_type": "code",
   "execution_count": 8,
   "metadata": {},
   "outputs": [],
   "source": [
    "# create a time stamp column \"Date_time\"\n",
    "\n",
    "from pyspark.sql.functions import to_timestamp\n",
    "\n",
    "df = df.withColumn(\"Date_time\", to_timestamp(\"event_time\"))"
   ]
  },
  {
   "cell_type": "code",
   "execution_count": 215,
   "metadata": {},
   "outputs": [
    {
     "name": "stdout",
     "output_type": "stream",
     "text": [
      "+--------------------+----------+----------+-------------------+--------------------+------+-------+---------+--------------------+-------------------+\n",
      "|          event_time|event_type|product_id|        category_id|       category_code| brand|  price|  user_id|        user_session|          Date_time|\n",
      "+--------------------+----------+----------+-------------------+--------------------+------+-------+---------+--------------------+-------------------+\n",
      "|2019-10-01 00:00:...|      view|   3900821|2053013552326770905|appliances.enviro...|  aqua|  33.20|554748717|9333dfbd-b87a-470...|2019-10-01 05:30:00|\n",
      "|2019-10-01 00:00:...|      view|   1307067|2053013558920217191|  computers.notebook|lenovo| 251.74|550050854|7c90fc70-0e80-459...|2019-10-01 05:30:01|\n",
      "|2019-10-01 00:00:...|      view|   1004237|2053013555631882655|electronics.smart...| apple|1081.98|535871217|c6bd7419-2748-4c5...|2019-10-01 05:30:04|\n",
      "|2019-10-01 00:00:...|      view|   1480613|2053013561092866779|   computers.desktop|pulser| 908.62|512742880|0d0d91c2-c9c2-4e8...|2019-10-01 05:30:05|\n",
      "|2019-10-01 00:00:...|      view|  28719074|2053013565480109009|  apparel.shoes.keds| baden| 102.71|520571932|ac1cd4e5-a3ce-422...|2019-10-01 05:30:10|\n",
      "+--------------------+----------+----------+-------------------+--------------------+------+-------+---------+--------------------+-------------------+\n",
      "only showing top 5 rows\n",
      "\n"
     ]
    }
   ],
   "source": [
    "df.show(5)"
   ]
  },
  {
   "cell_type": "code",
   "execution_count": 9,
   "metadata": {},
   "outputs": [],
   "source": [
    "#Extracting hour from the data set\n",
    "\n",
    "\n",
    "from pyspark.sql.functions import hour\n",
    "\n",
    "df =df.withColumn(\"hour\", hour(df[\"Date_time\"]))"
   ]
  },
  {
   "cell_type": "code",
   "execution_count": 10,
   "metadata": {},
   "outputs": [],
   "source": [
    "from pyspark.sql.functions import dayofweek\n",
    "\n",
    "df =df.withColumn(\"day_of_week\", dayofweek(df[\"Date_time\"]))"
   ]
  },
  {
   "cell_type": "code",
   "execution_count": 218,
   "metadata": {},
   "outputs": [],
   "source": []
  },
  {
   "cell_type": "code",
   "execution_count": 222,
   "metadata": {},
   "outputs": [
    {
     "name": "stdout",
     "output_type": "stream",
     "text": [
      "+----------+----------+-------------------+--------------------+------+-------+---------+--------------------+----+-----------+\n",
      "|event_type|product_id|        category_id|       category_code| brand|  price|  user_id|        user_session|hour|day_of_week|\n",
      "+----------+----------+-------------------+--------------------+------+-------+---------+--------------------+----+-----------+\n",
      "|      view|   3900821|2053013552326770905|appliances.enviro...|  aqua|  33.20|554748717|9333dfbd-b87a-470...|   5|          3|\n",
      "|      view|   1307067|2053013558920217191|  computers.notebook|lenovo| 251.74|550050854|7c90fc70-0e80-459...|   5|          3|\n",
      "|      view|   1004237|2053013555631882655|electronics.smart...| apple|1081.98|535871217|c6bd7419-2748-4c5...|   5|          3|\n",
      "|      view|   1480613|2053013561092866779|   computers.desktop|pulser| 908.62|512742880|0d0d91c2-c9c2-4e8...|   5|          3|\n",
      "+----------+----------+-------------------+--------------------+------+-------+---------+--------------------+----+-----------+\n",
      "only showing top 4 rows\n",
      "\n"
     ]
    }
   ],
   "source": [
    "df.show(4)"
   ]
  },
  {
   "cell_type": "code",
   "execution_count": 11,
   "metadata": {},
   "outputs": [],
   "source": [
    "df = df.drop('event_time','Date_time')"
   ]
  },
  {
   "cell_type": "code",
   "execution_count": 221,
   "metadata": {},
   "outputs": [
    {
     "name": "stdout",
     "output_type": "stream",
     "text": [
      "+----------+----------+-------------------+--------------------+------+-------+---------+--------------------+----+-----------+\n",
      "|event_type|product_id|        category_id|       category_code| brand|  price|  user_id|        user_session|hour|day_of_week|\n",
      "+----------+----------+-------------------+--------------------+------+-------+---------+--------------------+----+-----------+\n",
      "|      view|   3900821|2053013552326770905|appliances.enviro...|  aqua|  33.20|554748717|9333dfbd-b87a-470...|   5|          3|\n",
      "|      view|   1307067|2053013558920217191|  computers.notebook|lenovo| 251.74|550050854|7c90fc70-0e80-459...|   5|          3|\n",
      "|      view|   1004237|2053013555631882655|electronics.smart...| apple|1081.98|535871217|c6bd7419-2748-4c5...|   5|          3|\n",
      "|      view|   1480613|2053013561092866779|   computers.desktop|pulser| 908.62|512742880|0d0d91c2-c9c2-4e8...|   5|          3|\n",
      "+----------+----------+-------------------+--------------------+------+-------+---------+--------------------+----+-----------+\n",
      "only showing top 4 rows\n",
      "\n"
     ]
    }
   ],
   "source": [
    "df.show(4)"
   ]
  },
  {
   "cell_type": "code",
   "execution_count": 12,
   "metadata": {},
   "outputs": [],
   "source": [
    "hour_df = df.groupBy('hour').count().orderBy('count',ascending= False).toPandas()"
   ]
  },
  {
   "cell_type": "code",
   "execution_count": null,
   "metadata": {},
   "outputs": [],
   "source": [
    "hour_df.head(10)"
   ]
  },
  {
   "cell_type": "code",
   "execution_count": 13,
   "metadata": {},
   "outputs": [],
   "source": [
    "#import matplotlib\n",
    "import matplotlib.pyplot as plt\n"
   ]
  },
  {
   "cell_type": "code",
   "execution_count": 14,
   "metadata": {},
   "outputs": [
    {
     "name": "stderr",
     "output_type": "stream",
     "text": [
      "UsageError: Line magic function `%matplot` not found.\n"
     ]
    },
    {
     "data": {
      "text/plain": [
       "<Figure size 1008x720 with 0 Axes>"
      ]
     },
     "metadata": {},
     "output_type": "display_data"
    },
    {
     "data": {
      "image/png": "[encoded data removed]",
      "text/plain": [
       "<Figure size 432x288 with 1 Axes>"
      ]
     },
     "metadata": {
      "needs_background": "light"
     },
     "output_type": "display_data"
    }
   ],
   "source": [
    "# create the plot \n",
    "plt.figure(figsize=(14,10))\n",
    "#plot view data for hour\n",
    "\n",
    "hour_df.plot(x='hour' , y='count', kind ='bar' , color ='red')\n",
    "plt.title('User activity by hour')\n",
    "plt.ylabel('Activity')\n",
    "plt.xlabel('Hour')\n",
    "\n",
    "#display the plot\n",
    "%matplot plt\n",
    "\n"
   ]
  },
  {
   "cell_type": "code",
   "execution_count": 15,
   "metadata": {},
   "outputs": [],
   "source": [
    "day_of_week = df.groupBy('day_of_week').count().orderBy('count',ascending= False).toPandas()"
   ]
  },
  {
   "cell_type": "code",
   "execution_count": null,
   "metadata": {},
   "outputs": [],
   "source": [
    "day_of_week.head(10)"
   ]
  },
  {
   "cell_type": "code",
   "execution_count": 16,
   "metadata": {},
   "outputs": [
    {
     "name": "stderr",
     "output_type": "stream",
     "text": [
      "UsageError: Line magic function `%matplot` not found.\n"
     ]
    },
    {
     "data": {
      "text/plain": [
       "<Figure size 1008x720 with 0 Axes>"
      ]
     },
     "metadata": {},
     "output_type": "display_data"
    },
    {
     "data": {
      "image/png": "[encoded data removed]",
      "text/plain": [
       "<Figure size 432x288 with 1 Axes>"
      ]
     },
     "metadata": {
      "needs_background": "light"
     },
     "output_type": "display_data"
    }
   ],
   "source": [
    "#import matplotlib\n",
    "import matplotlib.pyplot as plt\n",
    "# create the plot \n",
    "plt.figure(figsize=(14,10))\n",
    "#plot view data for hour\n",
    "\n",
    "day_of_week.plot(x='day_of_week' , y='count', kind ='bar' , color ='blue')\n",
    "plt.title('User activity by day_of_week')\n",
    "plt.ylabel('Activity')\n",
    "plt.xlabel('day_of_week')\n",
    "\n",
    "#display the plot\n",
    "%matplot plt\n",
    "\n",
    "\n"
   ]
  },
  {
   "cell_type": "code",
   "execution_count": 484,
   "metadata": {},
   "outputs": [
    {
     "name": "stdout",
     "output_type": "stream",
     "text": [
      "+----------+\n",
      "|product_id|\n",
      "+----------+\n",
      "|   1306639|\n",
      "|   1306571|\n",
      "+----------+\n",
      "only showing top 2 rows\n",
      "\n"
     ]
    }
   ],
   "source": [
    "\n",
    "df.select('product_id').distinct().show(2)"
   ]
  },
  {
   "cell_type": "code",
   "execution_count": 485,
   "metadata": {},
   "outputs": [],
   "source": [
    "prod_id = df.groupBy('product_id').count().orderBy('count',ascending= False).toPandas()"
   ]
  },
  {
   "cell_type": "code",
   "execution_count": 486,
   "metadata": {},
   "outputs": [
    {
     "data": {
      "text/html": [
       "<div>\n",
       "<style scoped>\n",
       "    .dataframe tbody tr th:only-of-type {\n",
       "        vertical-align: middle;\n",
       "    }\n",
       "\n",
       "    .dataframe tbody tr th {\n",
       "        vertical-align: top;\n",
       "    }\n",
       "\n",
       "    .dataframe thead th {\n",
       "        text-align: right;\n",
       "    }\n",
       "</style>\n",
       "<table border=\"1\" class=\"dataframe\">\n",
       "  <thead>\n",
       "    <tr style=\"text-align: right;\">\n",
       "      <th></th>\n",
       "      <th>product_id</th>\n",
       "      <th>count</th>\n",
       "    </tr>\n",
       "  </thead>\n",
       "  <tbody>\n",
       "    <tr>\n",
       "      <th>0</th>\n",
       "      <td>1004856</td>\n",
       "      <td>500354</td>\n",
       "    </tr>\n",
       "    <tr>\n",
       "      <th>1</th>\n",
       "      <td>1004767</td>\n",
       "      <td>438231</td>\n",
       "    </tr>\n",
       "    <tr>\n",
       "      <th>2</th>\n",
       "      <td>1005115</td>\n",
       "      <td>355786</td>\n",
       "    </tr>\n",
       "    <tr>\n",
       "      <th>3</th>\n",
       "      <td>1004833</td>\n",
       "      <td>237545</td>\n",
       "    </tr>\n",
       "    <tr>\n",
       "      <th>4</th>\n",
       "      <td>1004249</td>\n",
       "      <td>231070</td>\n",
       "    </tr>\n",
       "  </tbody>\n",
       "</table>\n",
       "</div>"
      ],
      "text/plain": [
       "  product_id   count\n",
       "0    1004856  500354\n",
       "1    1004767  438231\n",
       "2    1005115  355786\n",
       "3    1004833  237545\n",
       "4    1004249  231070"
      ]
     },
     "execution_count": 486,
     "metadata": {},
     "output_type": "execute_result"
    }
   ],
   "source": [
    "prod_id.head()"
   ]
  },
  {
   "cell_type": "code",
   "execution_count": 487,
   "metadata": {},
   "outputs": [],
   "source": [
    "brand = df.groupBy('brand').count().orderBy('count',ascending= False).toPandas()"
   ]
  },
  {
   "cell_type": "code",
   "execution_count": 488,
   "metadata": {},
   "outputs": [
    {
     "data": {
      "text/html": [
       "<div>\n",
       "<style scoped>\n",
       "    .dataframe tbody tr th:only-of-type {\n",
       "        vertical-align: middle;\n",
       "    }\n",
       "\n",
       "    .dataframe tbody tr th {\n",
       "        vertical-align: top;\n",
       "    }\n",
       "\n",
       "    .dataframe thead th {\n",
       "        text-align: right;\n",
       "    }\n",
       "</style>\n",
       "<table border=\"1\" class=\"dataframe\">\n",
       "  <thead>\n",
       "    <tr style=\"text-align: right;\">\n",
       "      <th></th>\n",
       "      <th>brand</th>\n",
       "      <th>count</th>\n",
       "    </tr>\n",
       "  </thead>\n",
       "  <tbody>\n",
       "    <tr>\n",
       "      <th>0</th>\n",
       "      <td>samsung</td>\n",
       "      <td>5158902</td>\n",
       "    </tr>\n",
       "    <tr>\n",
       "      <th>1</th>\n",
       "      <td>apple</td>\n",
       "      <td>4092652</td>\n",
       "    </tr>\n",
       "    <tr>\n",
       "      <th>2</th>\n",
       "      <td>xiaomi</td>\n",
       "      <td>2697644</td>\n",
       "    </tr>\n",
       "    <tr>\n",
       "      <th>3</th>\n",
       "      <td>huawei</td>\n",
       "      <td>1092346</td>\n",
       "    </tr>\n",
       "    <tr>\n",
       "      <th>4</th>\n",
       "      <td>lg</td>\n",
       "      <td>508999</td>\n",
       "    </tr>\n",
       "  </tbody>\n",
       "</table>\n",
       "</div>"
      ],
      "text/plain": [
       "     brand    count\n",
       "0  samsung  5158902\n",
       "1    apple  4092652\n",
       "2   xiaomi  2697644\n",
       "3   huawei  1092346\n",
       "4       lg   508999"
      ]
     },
     "execution_count": 488,
     "metadata": {},
     "output_type": "execute_result"
    }
   ],
   "source": [
    "brand.head()"
   ]
  },
  {
   "cell_type": "code",
   "execution_count": 489,
   "metadata": {},
   "outputs": [],
   "source": [
    "category_code = df.groupBy('category_code').count().orderBy('count',ascending= False).toPandas()"
   ]
  },
  {
   "cell_type": "code",
   "execution_count": 490,
   "metadata": {},
   "outputs": [
    {
     "data": {
      "text/html": [
       "<div>\n",
       "<style scoped>\n",
       "    .dataframe tbody tr th:only-of-type {\n",
       "        vertical-align: middle;\n",
       "    }\n",
       "\n",
       "    .dataframe tbody tr th {\n",
       "        vertical-align: top;\n",
       "    }\n",
       "\n",
       "    .dataframe thead th {\n",
       "        text-align: right;\n",
       "    }\n",
       "</style>\n",
       "<table border=\"1\" class=\"dataframe\">\n",
       "  <thead>\n",
       "    <tr style=\"text-align: right;\">\n",
       "      <th></th>\n",
       "      <th>category_code</th>\n",
       "      <th>count</th>\n",
       "    </tr>\n",
       "  </thead>\n",
       "  <tbody>\n",
       "    <tr>\n",
       "      <th>0</th>\n",
       "      <td>electronics.smartphone</td>\n",
       "      <td>11485320</td>\n",
       "    </tr>\n",
       "    <tr>\n",
       "      <th>1</th>\n",
       "      <td>electronics.clocks</td>\n",
       "      <td>1132207</td>\n",
       "    </tr>\n",
       "    <tr>\n",
       "      <th>2</th>\n",
       "      <td>computers.notebook</td>\n",
       "      <td>1131269</td>\n",
       "    </tr>\n",
       "    <tr>\n",
       "      <th>3</th>\n",
       "      <td>electronics.video.tv</td>\n",
       "      <td>1112047</td>\n",
       "    </tr>\n",
       "    <tr>\n",
       "      <th>4</th>\n",
       "      <td>electronics.audio.headphone</td>\n",
       "      <td>1092952</td>\n",
       "    </tr>\n",
       "    <tr>\n",
       "      <th>5</th>\n",
       "      <td>appliances.kitchen.washer</td>\n",
       "      <td>860417</td>\n",
       "    </tr>\n",
       "    <tr>\n",
       "      <th>6</th>\n",
       "      <td>appliances.environment.vacuum</td>\n",
       "      <td>778587</td>\n",
       "    </tr>\n",
       "    <tr>\n",
       "      <th>7</th>\n",
       "      <td>appliances.kitchen.refrigerators</td>\n",
       "      <td>712119</td>\n",
       "    </tr>\n",
       "    <tr>\n",
       "      <th>8</th>\n",
       "      <td>apparel.shoes</td>\n",
       "      <td>604625</td>\n",
       "    </tr>\n",
       "    <tr>\n",
       "      <th>9</th>\n",
       "      <td>computers.desktop</td>\n",
       "      <td>403070</td>\n",
       "    </tr>\n",
       "  </tbody>\n",
       "</table>\n",
       "</div>"
      ],
      "text/plain": [
       "                      category_code     count\n",
       "0            electronics.smartphone  11485320\n",
       "1                electronics.clocks   1132207\n",
       "2                computers.notebook   1131269\n",
       "3              electronics.video.tv   1112047\n",
       "4       electronics.audio.headphone   1092952\n",
       "5         appliances.kitchen.washer    860417\n",
       "6     appliances.environment.vacuum    778587\n",
       "7  appliances.kitchen.refrigerators    712119\n",
       "8                     apparel.shoes    604625\n",
       "9                 computers.desktop    403070"
      ]
     },
     "execution_count": 490,
     "metadata": {},
     "output_type": "execute_result"
    }
   ],
   "source": [
    "category_code.head(10)"
   ]
  },
  {
   "cell_type": "code",
   "execution_count": 491,
   "metadata": {},
   "outputs": [
    {
     "data": {
      "text/plain": [
       "[Row(c=2323036)]"
      ]
     },
     "execution_count": 491,
     "metadata": {},
     "output_type": "execute_result"
    }
   ],
   "source": [
    "from pyspark.sql.functions import col, countDistinct\n",
    "\n",
    "df.agg(countDistinct(df.user_id).alias('c')).collect()"
   ]
  },
  {
   "cell_type": "code",
   "execution_count": 493,
   "metadata": {},
   "outputs": [
    {
     "ename": "KeyboardInterrupt",
     "evalue": "",
     "output_type": "error",
     "traceback": [
      "\u001b[0;31m---------------------------------------------------------------------------\u001b[0m",
      "\u001b[0;31mKeyboardInterrupt\u001b[0m                         Traceback (most recent call last)",
      "\u001b[0;32m<ipython-input-493-101060d74041>\u001b[0m in \u001b[0;36m<module>\u001b[0;34m\u001b[0m\n\u001b[0;32m----> 1\u001b[0;31m \u001b[0muser_id\u001b[0m \u001b[0;34m=\u001b[0m \u001b[0mdf\u001b[0m\u001b[0;34m.\u001b[0m\u001b[0mgroupBy\u001b[0m\u001b[0;34m(\u001b[0m\u001b[0;34m'user_id'\u001b[0m\u001b[0;34m)\u001b[0m\u001b[0;34m.\u001b[0m\u001b[0mcount\u001b[0m\u001b[0;34m(\u001b[0m\u001b[0;34m)\u001b[0m\u001b[0;34m.\u001b[0m\u001b[0morderBy\u001b[0m\u001b[0;34m(\u001b[0m\u001b[0;34m'count'\u001b[0m\u001b[0;34m,\u001b[0m\u001b[0mascending\u001b[0m\u001b[0;34m=\u001b[0m \u001b[0;32mFalse\u001b[0m\u001b[0;34m)\u001b[0m\u001b[0;34m.\u001b[0m\u001b[0mtoPandas\u001b[0m\u001b[0;34m(\u001b[0m\u001b[0;34m)\u001b[0m\u001b[0;34m\u001b[0m\u001b[0;34m\u001b[0m\u001b[0m\n\u001b[0m",
      "\u001b[0;32m~/opt/anaconda3/lib/python3.8/site-packages/pyspark/sql/pandas/conversion.py\u001b[0m in \u001b[0;36mtoPandas\u001b[0;34m(self)\u001b[0m\n\u001b[1;32m    139\u001b[0m \u001b[0;34m\u001b[0m\u001b[0m\n\u001b[1;32m    140\u001b[0m         \u001b[0;31m# Below is toPandas without Arrow optimization.\u001b[0m\u001b[0;34m\u001b[0m\u001b[0;34m\u001b[0m\u001b[0;34m\u001b[0m\u001b[0m\n\u001b[0;32m--> 141\u001b[0;31m         \u001b[0mpdf\u001b[0m \u001b[0;34m=\u001b[0m \u001b[0mpd\u001b[0m\u001b[0;34m.\u001b[0m\u001b[0mDataFrame\u001b[0m\u001b[0;34m.\u001b[0m\u001b[0mfrom_records\u001b[0m\u001b[0;34m(\u001b[0m\u001b[0mself\u001b[0m\u001b[0;34m.\u001b[0m\u001b[0mcollect\u001b[0m\u001b[0;34m(\u001b[0m\u001b[0;34m)\u001b[0m\u001b[0;34m,\u001b[0m \u001b[0mcolumns\u001b[0m\u001b[0;34m=\u001b[0m\u001b[0mself\u001b[0m\u001b[0;34m.\u001b[0m\u001b[0mcolumns\u001b[0m\u001b[0;34m)\u001b[0m\u001b[0;34m\u001b[0m\u001b[0;34m\u001b[0m\u001b[0m\n\u001b[0m\u001b[1;32m    142\u001b[0m         \u001b[0mcolumn_counter\u001b[0m \u001b[0;34m=\u001b[0m \u001b[0mCounter\u001b[0m\u001b[0;34m(\u001b[0m\u001b[0mself\u001b[0m\u001b[0;34m.\u001b[0m\u001b[0mcolumns\u001b[0m\u001b[0;34m)\u001b[0m\u001b[0;34m\u001b[0m\u001b[0;34m\u001b[0m\u001b[0m\n\u001b[1;32m    143\u001b[0m \u001b[0;34m\u001b[0m\u001b[0m\n",
      "\u001b[0;32m~/opt/anaconda3/lib/python3.8/site-packages/pyspark/sql/dataframe.py\u001b[0m in \u001b[0;36mcollect\u001b[0;34m(self)\u001b[0m\n\u001b[1;32m    675\u001b[0m         \"\"\"\n\u001b[1;32m    676\u001b[0m         \u001b[0;32mwith\u001b[0m \u001b[0mSCCallSiteSync\u001b[0m\u001b[0;34m(\u001b[0m\u001b[0mself\u001b[0m\u001b[0;34m.\u001b[0m\u001b[0m_sc\u001b[0m\u001b[0;34m)\u001b[0m \u001b[0;32mas\u001b[0m \u001b[0mcss\u001b[0m\u001b[0;34m:\u001b[0m\u001b[0;34m\u001b[0m\u001b[0;34m\u001b[0m\u001b[0m\n\u001b[0;32m--> 677\u001b[0;31m             \u001b[0msock_info\u001b[0m \u001b[0;34m=\u001b[0m \u001b[0mself\u001b[0m\u001b[0;34m.\u001b[0m\u001b[0m_jdf\u001b[0m\u001b[0;34m.\u001b[0m\u001b[0mcollectToPython\u001b[0m\u001b[0;34m(\u001b[0m\u001b[0;34m)\u001b[0m\u001b[0;34m\u001b[0m\u001b[0;34m\u001b[0m\u001b[0m\n\u001b[0m\u001b[1;32m    678\u001b[0m         \u001b[0;32mreturn\u001b[0m \u001b[0mlist\u001b[0m\u001b[0;34m(\u001b[0m\u001b[0m_load_from_socket\u001b[0m\u001b[0;34m(\u001b[0m\u001b[0msock_info\u001b[0m\u001b[0;34m,\u001b[0m \u001b[0mBatchedSerializer\u001b[0m\u001b[0;34m(\u001b[0m\u001b[0mPickleSerializer\u001b[0m\u001b[0;34m(\u001b[0m\u001b[0;34m)\u001b[0m\u001b[0;34m)\u001b[0m\u001b[0;34m)\u001b[0m\u001b[0;34m)\u001b[0m\u001b[0;34m\u001b[0m\u001b[0;34m\u001b[0m\u001b[0m\n\u001b[1;32m    679\u001b[0m \u001b[0;34m\u001b[0m\u001b[0m\n",
      "\u001b[0;32m~/opt/anaconda3/lib/python3.8/site-packages/py4j/java_gateway.py\u001b[0m in \u001b[0;36m__call__\u001b[0;34m(self, *args)\u001b[0m\n\u001b[1;32m   1306\u001b[0m             \u001b[0mproto\u001b[0m\u001b[0;34m.\u001b[0m\u001b[0mEND_COMMAND_PART\u001b[0m\u001b[0;34m\u001b[0m\u001b[0;34m\u001b[0m\u001b[0m\n\u001b[1;32m   1307\u001b[0m \u001b[0;34m\u001b[0m\u001b[0m\n\u001b[0;32m-> 1308\u001b[0;31m         \u001b[0manswer\u001b[0m \u001b[0;34m=\u001b[0m \u001b[0mself\u001b[0m\u001b[0;34m.\u001b[0m\u001b[0mgateway_client\u001b[0m\u001b[0;34m.\u001b[0m\u001b[0msend_command\u001b[0m\u001b[0;34m(\u001b[0m\u001b[0mcommand\u001b[0m\u001b[0;34m)\u001b[0m\u001b[0;34m\u001b[0m\u001b[0;34m\u001b[0m\u001b[0m\n\u001b[0m\u001b[1;32m   1309\u001b[0m         return_value = get_return_value(\n\u001b[1;32m   1310\u001b[0m             answer, self.gateway_client, self.target_id, self.name)\n",
      "\u001b[0;32m~/opt/anaconda3/lib/python3.8/site-packages/py4j/java_gateway.py\u001b[0m in \u001b[0;36msend_command\u001b[0;34m(self, command, retry, binary)\u001b[0m\n\u001b[1;32m   1036\u001b[0m         \u001b[0mconnection\u001b[0m \u001b[0;34m=\u001b[0m \u001b[0mself\u001b[0m\u001b[0;34m.\u001b[0m\u001b[0m_get_connection\u001b[0m\u001b[0;34m(\u001b[0m\u001b[0;34m)\u001b[0m\u001b[0;34m\u001b[0m\u001b[0;34m\u001b[0m\u001b[0m\n\u001b[1;32m   1037\u001b[0m         \u001b[0;32mtry\u001b[0m\u001b[0;34m:\u001b[0m\u001b[0;34m\u001b[0m\u001b[0;34m\u001b[0m\u001b[0m\n\u001b[0;32m-> 1038\u001b[0;31m             \u001b[0mresponse\u001b[0m \u001b[0;34m=\u001b[0m \u001b[0mconnection\u001b[0m\u001b[0;34m.\u001b[0m\u001b[0msend_command\u001b[0m\u001b[0;34m(\u001b[0m\u001b[0mcommand\u001b[0m\u001b[0;34m)\u001b[0m\u001b[0;34m\u001b[0m\u001b[0;34m\u001b[0m\u001b[0m\n\u001b[0m\u001b[1;32m   1039\u001b[0m             \u001b[0;32mif\u001b[0m \u001b[0mbinary\u001b[0m\u001b[0;34m:\u001b[0m\u001b[0;34m\u001b[0m\u001b[0;34m\u001b[0m\u001b[0m\n\u001b[1;32m   1040\u001b[0m                 \u001b[0;32mreturn\u001b[0m \u001b[0mresponse\u001b[0m\u001b[0;34m,\u001b[0m \u001b[0mself\u001b[0m\u001b[0;34m.\u001b[0m\u001b[0m_create_connection_guard\u001b[0m\u001b[0;34m(\u001b[0m\u001b[0mconnection\u001b[0m\u001b[0;34m)\u001b[0m\u001b[0;34m\u001b[0m\u001b[0;34m\u001b[0m\u001b[0m\n",
      "\u001b[0;32m~/opt/anaconda3/lib/python3.8/site-packages/py4j/java_gateway.py\u001b[0m in \u001b[0;36msend_command\u001b[0;34m(self, command)\u001b[0m\n\u001b[1;32m   1203\u001b[0m \u001b[0;34m\u001b[0m\u001b[0m\n\u001b[1;32m   1204\u001b[0m         \u001b[0;32mtry\u001b[0m\u001b[0;34m:\u001b[0m\u001b[0;34m\u001b[0m\u001b[0;34m\u001b[0m\u001b[0m\n\u001b[0;32m-> 1205\u001b[0;31m             \u001b[0manswer\u001b[0m \u001b[0;34m=\u001b[0m \u001b[0msmart_decode\u001b[0m\u001b[0;34m(\u001b[0m\u001b[0mself\u001b[0m\u001b[0;34m.\u001b[0m\u001b[0mstream\u001b[0m\u001b[0;34m.\u001b[0m\u001b[0mreadline\u001b[0m\u001b[0;34m(\u001b[0m\u001b[0;34m)\u001b[0m\u001b[0;34m[\u001b[0m\u001b[0;34m:\u001b[0m\u001b[0;34m-\u001b[0m\u001b[0;36m1\u001b[0m\u001b[0;34m]\u001b[0m\u001b[0;34m)\u001b[0m\u001b[0;34m\u001b[0m\u001b[0;34m\u001b[0m\u001b[0m\n\u001b[0m\u001b[1;32m   1206\u001b[0m             \u001b[0mlogger\u001b[0m\u001b[0;34m.\u001b[0m\u001b[0mdebug\u001b[0m\u001b[0;34m(\u001b[0m\u001b[0;34m\"Answer received: {0}\"\u001b[0m\u001b[0;34m.\u001b[0m\u001b[0mformat\u001b[0m\u001b[0;34m(\u001b[0m\u001b[0manswer\u001b[0m\u001b[0;34m)\u001b[0m\u001b[0;34m)\u001b[0m\u001b[0;34m\u001b[0m\u001b[0;34m\u001b[0m\u001b[0m\n\u001b[1;32m   1207\u001b[0m             \u001b[0;32mif\u001b[0m \u001b[0manswer\u001b[0m\u001b[0;34m.\u001b[0m\u001b[0mstartswith\u001b[0m\u001b[0;34m(\u001b[0m\u001b[0mproto\u001b[0m\u001b[0;34m.\u001b[0m\u001b[0mRETURN_MESSAGE\u001b[0m\u001b[0;34m)\u001b[0m\u001b[0;34m:\u001b[0m\u001b[0;34m\u001b[0m\u001b[0;34m\u001b[0m\u001b[0m\n",
      "\u001b[0;32m~/opt/anaconda3/lib/python3.8/socket.py\u001b[0m in \u001b[0;36mreadinto\u001b[0;34m(self, b)\u001b[0m\n\u001b[1;32m    667\u001b[0m         \u001b[0;32mwhile\u001b[0m \u001b[0;32mTrue\u001b[0m\u001b[0;34m:\u001b[0m\u001b[0;34m\u001b[0m\u001b[0;34m\u001b[0m\u001b[0m\n\u001b[1;32m    668\u001b[0m             \u001b[0;32mtry\u001b[0m\u001b[0;34m:\u001b[0m\u001b[0;34m\u001b[0m\u001b[0;34m\u001b[0m\u001b[0m\n\u001b[0;32m--> 669\u001b[0;31m                 \u001b[0;32mreturn\u001b[0m \u001b[0mself\u001b[0m\u001b[0;34m.\u001b[0m\u001b[0m_sock\u001b[0m\u001b[0;34m.\u001b[0m\u001b[0mrecv_into\u001b[0m\u001b[0;34m(\u001b[0m\u001b[0mb\u001b[0m\u001b[0;34m)\u001b[0m\u001b[0;34m\u001b[0m\u001b[0;34m\u001b[0m\u001b[0m\n\u001b[0m\u001b[1;32m    670\u001b[0m             \u001b[0;32mexcept\u001b[0m \u001b[0mtimeout\u001b[0m\u001b[0;34m:\u001b[0m\u001b[0;34m\u001b[0m\u001b[0;34m\u001b[0m\u001b[0m\n\u001b[1;32m    671\u001b[0m                 \u001b[0mself\u001b[0m\u001b[0;34m.\u001b[0m\u001b[0m_timeout_occurred\u001b[0m \u001b[0;34m=\u001b[0m \u001b[0;32mTrue\u001b[0m\u001b[0;34m\u001b[0m\u001b[0;34m\u001b[0m\u001b[0m\n",
      "\u001b[0;31mKeyboardInterrupt\u001b[0m: "
     ]
    }
   ],
   "source": [
    "user_id = df.groupBy('user_id').count().orderBy('count',ascending= False).toPandas()"
   ]
  },
  {
   "cell_type": "code",
   "execution_count": null,
   "metadata": {},
   "outputs": [],
   "source": [
    "user_id.head(5)"
   ]
  },
  {
   "cell_type": "code",
   "execution_count": 17,
   "metadata": {},
   "outputs": [
    {
     "data": {
      "text/plain": [
       "[Row(avg(price)=464.32835944604653)]"
      ]
     },
     "execution_count": 17,
     "metadata": {},
     "output_type": "execute_result"
    }
   ],
   "source": [
    "from pyspark.sql.functions import col, avg,max\n",
    "\n",
    "df.filter(df['category_code'] == 'electronics.smartphone').filter(df['event_type'] == 'purchase').agg(avg(col(\"price\"))).collect()"
   ]
  },
  {
   "cell_type": "code",
   "execution_count": 18,
   "metadata": {},
   "outputs": [
    {
     "data": {
      "text/plain": [
       "[Row(max(price)='999.77')]"
      ]
     },
     "execution_count": 18,
     "metadata": {},
     "output_type": "execute_result"
    }
   ],
   "source": [
    "df.filter(df['category_code'] == 'electronics.smartphone').filter(df['event_type'] == 'purchase').agg(max(col(\"price\"))).collect()"
   ]
  },
  {
   "cell_type": "code",
   "execution_count": 19,
   "metadata": {},
   "outputs": [],
   "source": [
    "event_type = df.groupBy('event_type').count().orderBy('count',ascending= False).toPandas()"
   ]
  },
  {
   "cell_type": "code",
   "execution_count": null,
   "metadata": {},
   "outputs": [],
   "source": [
    "event_type .head(20)"
   ]
  },
  {
   "cell_type": "code",
   "execution_count": 20,
   "metadata": {},
   "outputs": [
    {
     "name": "stderr",
     "output_type": "stream",
     "text": [
      "UsageError: Line magic function `%matplot` not found.\n"
     ]
    },
    {
     "data": {
      "text/plain": [
       "<Figure size 1008x720 with 0 Axes>"
      ]
     },
     "metadata": {},
     "output_type": "display_data"
    },
    {
     "data": {
      "image/png": "[encoded data removed]",
      "text/plain": [
       "<Figure size 432x288 with 1 Axes>"
      ]
     },
     "metadata": {
      "needs_background": "light"
     },
     "output_type": "display_data"
    }
   ],
   "source": [
    "#import matplotlib\n",
    "import matplotlib.pyplot as plt\n",
    "# create the plot \n",
    "plt.figure(figsize=(14,10))\n",
    "#plot view data for hour\n",
    "\n",
    "event_type.plot(x='event_type' , y='count', kind ='bar' , color ='blue')\n",
    "plt.title('User activity by event_type')\n",
    "plt.ylabel('Activity')\n",
    "plt.xlabel('event_type')\n",
    "\n",
    "#display the plot\n",
    "%matplot plt\n",
    "\n",
    "\n"
   ]
  },
  {
   "cell_type": "code",
   "execution_count": 21,
   "metadata": {},
   "outputs": [],
   "source": [
    "\n",
    "from pyspark.sql.functions import substring_index\n",
    "df =df.withColumn(\"category1\", substring_index(df.category_code, '.', 1))\n"
   ]
  },
  {
   "cell_type": "code",
   "execution_count": 22,
   "metadata": {},
   "outputs": [],
   "source": [
    "df = df.drop('category2','category3')"
   ]
  },
  {
   "cell_type": "code",
   "execution_count": 23,
   "metadata": {},
   "outputs": [],
   "source": [
    "df =df.withColumn(\"category3\", substring_index(df.category_code, '.', 2))"
   ]
  },
  {
   "cell_type": "code",
   "execution_count": 228,
   "metadata": {},
   "outputs": [
    {
     "name": "stdout",
     "output_type": "stream",
     "text": [
      "+----------+----------+-------------------+--------------------+--------+-------+---------+--------------------+----+-----------+-----------+--------------------+\n",
      "|event_type|product_id|        category_id|       category_code|   brand|  price|  user_id|        user_session|hour|day_of_week|  category1|           category3|\n",
      "+----------+----------+-------------------+--------------------+--------+-------+---------+--------------------+----+-----------+-----------+--------------------+\n",
      "|      view|   3900821|2053013552326770905|appliances.enviro...|    aqua|  33.20|554748717|9333dfbd-b87a-470...|   5|          3| appliances|appliances.enviro...|\n",
      "|      view|   1307067|2053013558920217191|  computers.notebook|  lenovo| 251.74|550050854|7c90fc70-0e80-459...|   5|          3|  computers|  computers.notebook|\n",
      "|      view|   1004237|2053013555631882655|electronics.smart...|   apple|1081.98|535871217|c6bd7419-2748-4c5...|   5|          3|electronics|electronics.smart...|\n",
      "|      view|   1480613|2053013561092866779|   computers.desktop|  pulser| 908.62|512742880|0d0d91c2-c9c2-4e8...|   5|          3|  computers|   computers.desktop|\n",
      "|      view|  28719074|2053013565480109009|  apparel.shoes.keds|   baden| 102.71|520571932|ac1cd4e5-a3ce-422...|   5|          3|    apparel|       apparel.shoes|\n",
      "|      view|   1004545|2053013555631882655|electronics.smart...|  huawei| 566.01|537918940|406c46ed-90a4-478...|   5|          3|electronics|electronics.smart...|\n",
      "|      view|   2900536|2053013554776244595|appliances.kitche...|elenberg|  51.46|555158050|b5bdd0b3-4ca2-4c5...|   5|          3| appliances|  appliances.kitchen|\n",
      "|      view|   1005011|2053013555631882655|electronics.smart...| samsung| 900.64|530282093|50a293fb-5940-41b...|   5|          3|electronics|electronics.smart...|\n",
      "|      view|   3900746|2053013552326770905|appliances.enviro...|   haier| 102.38|555444559|98b88fa0-d8fa-4b9...|   5|          3| appliances|appliances.enviro...|\n",
      "|      view|  13500240|2053013557099889147|furniture.bedroom...|     brw|  93.18|555446365|7f0062d8-ead0-4e0...|   5|          3|  furniture|   furniture.bedroom|\n",
      "|      view|   1801995|2053013554415534427|electronics.video.tv|   haier| 193.03|537192226|e3151795-c355-4ef...|   5|          3|electronics|   electronics.video|\n",
      "|      view|  10900029|2053013555069845885|appliances.kitche...|   bosch|  58.95|519528062|901b9e3c-3f8f-414...|   5|          3| appliances|  appliances.kitchen|\n",
      "|      view|   1306631|2053013558920217191|  computers.notebook|      hp| 580.89|550050854|7c90fc70-0e80-459...|   5|          3|  computers|  computers.notebook|\n",
      "|      view|   1005135|2053013555631882655|electronics.smart...|   apple|1747.79|535871217|c6bd7419-2748-4c5...|   5|          3|electronics|electronics.smart...|\n",
      "|      view|   1003306|2053013555631882655|electronics.smart...|   apple| 588.77|555446831|6ec635da-ea15-4a5...|   5|          3|electronics|electronics.smart...|\n",
      "|      view|   4803399|2053013554658804075|electronics.audio...|     jbl|  33.21|555428858|8a6afed4-77f8-40c...|   5|          3|electronics|   electronics.audio|\n",
      "|      view|   1480714|2053013561092866779|   computers.desktop|  pulser| 921.49|512742880|0d0d91c2-c9c2-4e8...|   5|          3|  computers|   computers.desktop|\n",
      "|      view|   1004739|2053013555631882655|electronics.smart...|  xiaomi| 197.55|519530528|9882d21f-2c5f-496...|   5|          3|electronics|electronics.smart...|\n",
      "|      view|   6200260|2053013552293216471|appliances.enviro...|   midea|  47.62|538645907|7d9a8784-7b6c-426...|   5|          3| appliances|appliances.enviro...|\n",
      "|      view|   1003306|2053013555631882655|electronics.smart...|   apple| 588.77|555446831|6ec635da-ea15-4a5...|   5|          3|electronics|electronics.smart...|\n",
      "+----------+----------+-------------------+--------------------+--------+-------+---------+--------------------+----+-----------+-----------+--------------------+\n",
      "only showing top 20 rows\n",
      "\n"
     ]
    }
   ],
   "source": [
    "df.show()"
   ]
  },
  {
   "cell_type": "code",
   "execution_count": 24,
   "metadata": {},
   "outputs": [],
   "source": [
    "df =df.withColumn(\"category2\", substring_index(df.category3, '.', -1))"
   ]
  },
  {
   "cell_type": "code",
   "execution_count": 230,
   "metadata": {},
   "outputs": [
    {
     "name": "stdout",
     "output_type": "stream",
     "text": [
      "+----------+----------+-------------------+--------------------+--------+-------+---------+--------------------+----+-----------+-----------+--------------------+-----------+\n",
      "|event_type|product_id|        category_id|       category_code|   brand|  price|  user_id|        user_session|hour|day_of_week|  category1|           category3|  category2|\n",
      "+----------+----------+-------------------+--------------------+--------+-------+---------+--------------------+----+-----------+-----------+--------------------+-----------+\n",
      "|      view|   3900821|2053013552326770905|appliances.enviro...|    aqua|  33.20|554748717|9333dfbd-b87a-470...|   5|          3| appliances|appliances.enviro...|environment|\n",
      "|      view|   1307067|2053013558920217191|  computers.notebook|  lenovo| 251.74|550050854|7c90fc70-0e80-459...|   5|          3|  computers|  computers.notebook|   notebook|\n",
      "|      view|   1004237|2053013555631882655|electronics.smart...|   apple|1081.98|535871217|c6bd7419-2748-4c5...|   5|          3|electronics|electronics.smart...| smartphone|\n",
      "|      view|   1480613|2053013561092866779|   computers.desktop|  pulser| 908.62|512742880|0d0d91c2-c9c2-4e8...|   5|          3|  computers|   computers.desktop|    desktop|\n",
      "|      view|  28719074|2053013565480109009|  apparel.shoes.keds|   baden| 102.71|520571932|ac1cd4e5-a3ce-422...|   5|          3|    apparel|       apparel.shoes|      shoes|\n",
      "|      view|   1004545|2053013555631882655|electronics.smart...|  huawei| 566.01|537918940|406c46ed-90a4-478...|   5|          3|electronics|electronics.smart...| smartphone|\n",
      "|      view|   2900536|2053013554776244595|appliances.kitche...|elenberg|  51.46|555158050|b5bdd0b3-4ca2-4c5...|   5|          3| appliances|  appliances.kitchen|    kitchen|\n",
      "|      view|   1005011|2053013555631882655|electronics.smart...| samsung| 900.64|530282093|50a293fb-5940-41b...|   5|          3|electronics|electronics.smart...| smartphone|\n",
      "|      view|   3900746|2053013552326770905|appliances.enviro...|   haier| 102.38|555444559|98b88fa0-d8fa-4b9...|   5|          3| appliances|appliances.enviro...|environment|\n",
      "|      view|  13500240|2053013557099889147|furniture.bedroom...|     brw|  93.18|555446365|7f0062d8-ead0-4e0...|   5|          3|  furniture|   furniture.bedroom|    bedroom|\n",
      "|      view|   1801995|2053013554415534427|electronics.video.tv|   haier| 193.03|537192226|e3151795-c355-4ef...|   5|          3|electronics|   electronics.video|      video|\n",
      "|      view|  10900029|2053013555069845885|appliances.kitche...|   bosch|  58.95|519528062|901b9e3c-3f8f-414...|   5|          3| appliances|  appliances.kitchen|    kitchen|\n",
      "|      view|   1306631|2053013558920217191|  computers.notebook|      hp| 580.89|550050854|7c90fc70-0e80-459...|   5|          3|  computers|  computers.notebook|   notebook|\n",
      "|      view|   1005135|2053013555631882655|electronics.smart...|   apple|1747.79|535871217|c6bd7419-2748-4c5...|   5|          3|electronics|electronics.smart...| smartphone|\n",
      "|      view|   1003306|2053013555631882655|electronics.smart...|   apple| 588.77|555446831|6ec635da-ea15-4a5...|   5|          3|electronics|electronics.smart...| smartphone|\n",
      "|      view|   4803399|2053013554658804075|electronics.audio...|     jbl|  33.21|555428858|8a6afed4-77f8-40c...|   5|          3|electronics|   electronics.audio|      audio|\n",
      "|      view|   1480714|2053013561092866779|   computers.desktop|  pulser| 921.49|512742880|0d0d91c2-c9c2-4e8...|   5|          3|  computers|   computers.desktop|    desktop|\n",
      "|      view|   1004739|2053013555631882655|electronics.smart...|  xiaomi| 197.55|519530528|9882d21f-2c5f-496...|   5|          3|electronics|electronics.smart...| smartphone|\n",
      "|      view|   6200260|2053013552293216471|appliances.enviro...|   midea|  47.62|538645907|7d9a8784-7b6c-426...|   5|          3| appliances|appliances.enviro...|environment|\n",
      "|      view|   1003306|2053013555631882655|electronics.smart...|   apple| 588.77|555446831|6ec635da-ea15-4a5...|   5|          3|electronics|electronics.smart...| smartphone|\n",
      "+----------+----------+-------------------+--------------------+--------+-------+---------+--------------------+----+-----------+-----------+--------------------+-----------+\n",
      "only showing top 20 rows\n",
      "\n"
     ]
    }
   ],
   "source": [
    "df.show()"
   ]
  },
  {
   "cell_type": "code",
   "execution_count": 25,
   "metadata": {},
   "outputs": [],
   "source": [
    "df = df.drop('category3')"
   ]
  },
  {
   "cell_type": "code",
   "execution_count": 102,
   "metadata": {},
   "outputs": [
    {
     "data": {
      "text/html": [
       "<div>\n",
       "<style scoped>\n",
       "    .dataframe tbody tr th:only-of-type {\n",
       "        vertical-align: middle;\n",
       "    }\n",
       "\n",
       "    .dataframe tbody tr th {\n",
       "        vertical-align: top;\n",
       "    }\n",
       "\n",
       "    .dataframe thead th {\n",
       "        text-align: right;\n",
       "    }\n",
       "</style>\n",
       "<table border=\"1\" class=\"dataframe\">\n",
       "  <thead>\n",
       "    <tr style=\"text-align: right;\">\n",
       "      <th></th>\n",
       "      <th>event_type</th>\n",
       "      <th>count</th>\n",
       "    </tr>\n",
       "  </thead>\n",
       "  <tbody>\n",
       "    <tr>\n",
       "      <th>0</th>\n",
       "      <td>view</td>\n",
       "      <td>30096</td>\n",
       "    </tr>\n",
       "    <tr>\n",
       "      <th>1</th>\n",
       "      <td>purchase</td>\n",
       "      <td>551</td>\n",
       "    </tr>\n",
       "    <tr>\n",
       "      <th>2</th>\n",
       "      <td>cart</td>\n",
       "      <td>528</td>\n",
       "    </tr>\n",
       "  </tbody>\n",
       "</table>\n",
       "</div>"
      ],
      "text/plain": [
       "  event_type  count\n",
       "0       view  30096\n",
       "1   purchase    551\n",
       "2       cart    528"
      ]
     },
     "execution_count": 102,
     "metadata": {},
     "output_type": "execute_result"
    }
   ],
   "source": [
    "event_type.head(20)"
   ]
  },
  {
   "cell_type": "code",
   "execution_count": 31,
   "metadata": {},
   "outputs": [
    {
     "name": "stderr",
     "output_type": "stream",
     "text": [
      "ERROR:py4j.java_gateway:An error occurred while trying to connect to the Java server (127.0.0.1:51131)\n",
      "Traceback (most recent call last):\n",
      "  File \"/Users/tanushdey/opt/anaconda3/lib/python3.8/site-packages/py4j/java_gateway.py\", line 982, in _get_connection\n",
      "    connection = self.deque.pop()\n",
      "IndexError: pop from an empty deque\n",
      "\n",
      "During handling of the above exception, another exception occurred:\n",
      "\n",
      "Traceback (most recent call last):\n",
      "  File \"/Users/tanushdey/opt/anaconda3/lib/python3.8/site-packages/py4j/java_gateway.py\", line 1120, in start\n",
      "    self.socket.connect((self.address, self.port))\n",
      "ConnectionRefusedError: [Errno 61] Connection refused\n"
     ]
    },
    {
     "ename": "Py4JNetworkError",
     "evalue": "An error occurred while trying to connect to the Java server (127.0.0.1:51131)",
     "output_type": "error",
     "traceback": [
      "\u001b[0;31m---------------------------------------------------------------------------\u001b[0m",
      "\u001b[0;31mIndexError\u001b[0m                                Traceback (most recent call last)",
      "\u001b[0;32m~/opt/anaconda3/lib/python3.8/site-packages/py4j/java_gateway.py\u001b[0m in \u001b[0;36m_get_connection\u001b[0;34m(self)\u001b[0m\n\u001b[1;32m    981\u001b[0m         \u001b[0;32mtry\u001b[0m\u001b[0;34m:\u001b[0m\u001b[0;34m\u001b[0m\u001b[0;34m\u001b[0m\u001b[0m\n\u001b[0;32m--> 982\u001b[0;31m             \u001b[0mconnection\u001b[0m \u001b[0;34m=\u001b[0m \u001b[0mself\u001b[0m\u001b[0;34m.\u001b[0m\u001b[0mdeque\u001b[0m\u001b[0;34m.\u001b[0m\u001b[0mpop\u001b[0m\u001b[0;34m(\u001b[0m\u001b[0;34m)\u001b[0m\u001b[0;34m\u001b[0m\u001b[0;34m\u001b[0m\u001b[0m\n\u001b[0m\u001b[1;32m    983\u001b[0m         \u001b[0;32mexcept\u001b[0m \u001b[0mIndexError\u001b[0m\u001b[0;34m:\u001b[0m\u001b[0;34m\u001b[0m\u001b[0;34m\u001b[0m\u001b[0m\n",
      "\u001b[0;31mIndexError\u001b[0m: pop from an empty deque",
      "\nDuring handling of the above exception, another exception occurred:\n",
      "\u001b[0;31mConnectionRefusedError\u001b[0m                    Traceback (most recent call last)",
      "\u001b[0;32m~/opt/anaconda3/lib/python3.8/site-packages/py4j/java_gateway.py\u001b[0m in \u001b[0;36mstart\u001b[0;34m(self)\u001b[0m\n\u001b[1;32m   1119\u001b[0m         \u001b[0;32mtry\u001b[0m\u001b[0;34m:\u001b[0m\u001b[0;34m\u001b[0m\u001b[0;34m\u001b[0m\u001b[0m\n\u001b[0;32m-> 1120\u001b[0;31m             \u001b[0mself\u001b[0m\u001b[0;34m.\u001b[0m\u001b[0msocket\u001b[0m\u001b[0;34m.\u001b[0m\u001b[0mconnect\u001b[0m\u001b[0;34m(\u001b[0m\u001b[0;34m(\u001b[0m\u001b[0mself\u001b[0m\u001b[0;34m.\u001b[0m\u001b[0maddress\u001b[0m\u001b[0;34m,\u001b[0m \u001b[0mself\u001b[0m\u001b[0;34m.\u001b[0m\u001b[0mport\u001b[0m\u001b[0;34m)\u001b[0m\u001b[0;34m)\u001b[0m\u001b[0;34m\u001b[0m\u001b[0;34m\u001b[0m\u001b[0m\n\u001b[0m\u001b[1;32m   1121\u001b[0m             \u001b[0mself\u001b[0m\u001b[0;34m.\u001b[0m\u001b[0mstream\u001b[0m \u001b[0;34m=\u001b[0m \u001b[0mself\u001b[0m\u001b[0;34m.\u001b[0m\u001b[0msocket\u001b[0m\u001b[0;34m.\u001b[0m\u001b[0mmakefile\u001b[0m\u001b[0;34m(\u001b[0m\u001b[0;34m\"rb\"\u001b[0m\u001b[0;34m)\u001b[0m\u001b[0;34m\u001b[0m\u001b[0;34m\u001b[0m\u001b[0m\n",
      "\u001b[0;31mConnectionRefusedError\u001b[0m: [Errno 61] Connection refused",
      "\nDuring handling of the above exception, another exception occurred:\n",
      "\u001b[0;31mPy4JNetworkError\u001b[0m                          Traceback (most recent call last)",
      "\u001b[0;32m<ipython-input-31-59be993522ea>\u001b[0m in \u001b[0;36m<module>\u001b[0;34m\u001b[0m\n\u001b[1;32m      1\u001b[0m \u001b[0;32mfrom\u001b[0m \u001b[0mpyspark\u001b[0m\u001b[0;34m.\u001b[0m\u001b[0msql\u001b[0m\u001b[0;34m.\u001b[0m\u001b[0mfunctions\u001b[0m \u001b[0;32mimport\u001b[0m \u001b[0mcol\u001b[0m\u001b[0;34m,\u001b[0m \u001b[0mcountDistinct\u001b[0m\u001b[0;34m\u001b[0m\u001b[0;34m\u001b[0m\u001b[0m\n\u001b[0;32m----> 2\u001b[0;31m \u001b[0mSession\u001b[0m \u001b[0;34m=\u001b[0m \u001b[0mdf\u001b[0m\u001b[0;34m.\u001b[0m\u001b[0mselect\u001b[0m\u001b[0;34m(\u001b[0m\u001b[0;34m'user_id'\u001b[0m\u001b[0;34m,\u001b[0m\u001b[0;34m'user_session'\u001b[0m\u001b[0;34m)\u001b[0m\u001b[0;34m.\u001b[0m\u001b[0mdistinct\u001b[0m\u001b[0;34m(\u001b[0m\u001b[0;34m)\u001b[0m\u001b[0;34m\u001b[0m\u001b[0;34m\u001b[0m\u001b[0m\n\u001b[0m",
      "\u001b[0;32m~/opt/anaconda3/lib/python3.8/site-packages/pyspark/sql/dataframe.py\u001b[0m in \u001b[0;36mselect\u001b[0;34m(self, *cols)\u001b[0m\n\u001b[1;32m   1667\u001b[0m         \u001b[0;34m[\u001b[0m\u001b[0mRow\u001b[0m\u001b[0;34m(\u001b[0m\u001b[0mname\u001b[0m\u001b[0;34m=\u001b[0m\u001b[0;34m'Alice'\u001b[0m\u001b[0;34m,\u001b[0m \u001b[0mage\u001b[0m\u001b[0;34m=\u001b[0m\u001b[0;36m12\u001b[0m\u001b[0;34m)\u001b[0m\u001b[0;34m,\u001b[0m \u001b[0mRow\u001b[0m\u001b[0;34m(\u001b[0m\u001b[0mname\u001b[0m\u001b[0;34m=\u001b[0m\u001b[0;34m'Bob'\u001b[0m\u001b[0;34m,\u001b[0m \u001b[0mage\u001b[0m\u001b[0;34m=\u001b[0m\u001b[0;36m15\u001b[0m\u001b[0;34m)\u001b[0m\u001b[0;34m]\u001b[0m\u001b[0;34m\u001b[0m\u001b[0;34m\u001b[0m\u001b[0m\n\u001b[1;32m   1668\u001b[0m         \"\"\"\n\u001b[0;32m-> 1669\u001b[0;31m         \u001b[0mjdf\u001b[0m \u001b[0;34m=\u001b[0m \u001b[0mself\u001b[0m\u001b[0;34m.\u001b[0m\u001b[0m_jdf\u001b[0m\u001b[0;34m.\u001b[0m\u001b[0mselect\u001b[0m\u001b[0;34m(\u001b[0m\u001b[0mself\u001b[0m\u001b[0;34m.\u001b[0m\u001b[0m_jcols\u001b[0m\u001b[0;34m(\u001b[0m\u001b[0;34m*\u001b[0m\u001b[0mcols\u001b[0m\u001b[0;34m)\u001b[0m\u001b[0;34m)\u001b[0m\u001b[0;34m\u001b[0m\u001b[0;34m\u001b[0m\u001b[0m\n\u001b[0m\u001b[1;32m   1670\u001b[0m         \u001b[0;32mreturn\u001b[0m \u001b[0mDataFrame\u001b[0m\u001b[0;34m(\u001b[0m\u001b[0mjdf\u001b[0m\u001b[0;34m,\u001b[0m \u001b[0mself\u001b[0m\u001b[0;34m.\u001b[0m\u001b[0msql_ctx\u001b[0m\u001b[0;34m)\u001b[0m\u001b[0;34m\u001b[0m\u001b[0;34m\u001b[0m\u001b[0m\n\u001b[1;32m   1671\u001b[0m \u001b[0;34m\u001b[0m\u001b[0m\n",
      "\u001b[0;32m~/opt/anaconda3/lib/python3.8/site-packages/pyspark/sql/dataframe.py\u001b[0m in \u001b[0;36m_jcols\u001b[0;34m(self, *cols)\u001b[0m\n\u001b[1;32m   1423\u001b[0m         \u001b[0;32mif\u001b[0m \u001b[0mlen\u001b[0m\u001b[0;34m(\u001b[0m\u001b[0mcols\u001b[0m\u001b[0;34m)\u001b[0m \u001b[0;34m==\u001b[0m \u001b[0;36m1\u001b[0m \u001b[0;32mand\u001b[0m \u001b[0misinstance\u001b[0m\u001b[0;34m(\u001b[0m\u001b[0mcols\u001b[0m\u001b[0;34m[\u001b[0m\u001b[0;36m0\u001b[0m\u001b[0;34m]\u001b[0m\u001b[0;34m,\u001b[0m \u001b[0mlist\u001b[0m\u001b[0;34m)\u001b[0m\u001b[0;34m:\u001b[0m\u001b[0;34m\u001b[0m\u001b[0;34m\u001b[0m\u001b[0m\n\u001b[1;32m   1424\u001b[0m             \u001b[0mcols\u001b[0m \u001b[0;34m=\u001b[0m \u001b[0mcols\u001b[0m\u001b[0;34m[\u001b[0m\u001b[0;36m0\u001b[0m\u001b[0;34m]\u001b[0m\u001b[0;34m\u001b[0m\u001b[0;34m\u001b[0m\u001b[0m\n\u001b[0;32m-> 1425\u001b[0;31m         \u001b[0;32mreturn\u001b[0m \u001b[0mself\u001b[0m\u001b[0;34m.\u001b[0m\u001b[0m_jseq\u001b[0m\u001b[0;34m(\u001b[0m\u001b[0mcols\u001b[0m\u001b[0;34m,\u001b[0m \u001b[0m_to_java_column\u001b[0m\u001b[0;34m)\u001b[0m\u001b[0;34m\u001b[0m\u001b[0;34m\u001b[0m\u001b[0m\n\u001b[0m\u001b[1;32m   1426\u001b[0m \u001b[0;34m\u001b[0m\u001b[0m\n\u001b[1;32m   1427\u001b[0m     \u001b[0;32mdef\u001b[0m \u001b[0m_sort_cols\u001b[0m\u001b[0;34m(\u001b[0m\u001b[0mself\u001b[0m\u001b[0;34m,\u001b[0m \u001b[0mcols\u001b[0m\u001b[0;34m,\u001b[0m \u001b[0mkwargs\u001b[0m\u001b[0;34m)\u001b[0m\u001b[0;34m:\u001b[0m\u001b[0;34m\u001b[0m\u001b[0;34m\u001b[0m\u001b[0m\n",
      "\u001b[0;32m~/opt/anaconda3/lib/python3.8/site-packages/pyspark/sql/dataframe.py\u001b[0m in \u001b[0;36m_jseq\u001b[0;34m(self, cols, converter)\u001b[0m\n\u001b[1;32m   1410\u001b[0m     \u001b[0;32mdef\u001b[0m \u001b[0m_jseq\u001b[0m\u001b[0;34m(\u001b[0m\u001b[0mself\u001b[0m\u001b[0;34m,\u001b[0m \u001b[0mcols\u001b[0m\u001b[0;34m,\u001b[0m \u001b[0mconverter\u001b[0m\u001b[0;34m=\u001b[0m\u001b[0;32mNone\u001b[0m\u001b[0;34m)\u001b[0m\u001b[0;34m:\u001b[0m\u001b[0;34m\u001b[0m\u001b[0;34m\u001b[0m\u001b[0m\n\u001b[1;32m   1411\u001b[0m         \u001b[0;34m\"\"\"Return a JVM Seq of Columns from a list of Column or names\"\"\"\u001b[0m\u001b[0;34m\u001b[0m\u001b[0;34m\u001b[0m\u001b[0m\n\u001b[0;32m-> 1412\u001b[0;31m         \u001b[0;32mreturn\u001b[0m \u001b[0m_to_seq\u001b[0m\u001b[0;34m(\u001b[0m\u001b[0mself\u001b[0m\u001b[0;34m.\u001b[0m\u001b[0msql_ctx\u001b[0m\u001b[0;34m.\u001b[0m\u001b[0m_sc\u001b[0m\u001b[0;34m,\u001b[0m \u001b[0mcols\u001b[0m\u001b[0;34m,\u001b[0m \u001b[0mconverter\u001b[0m\u001b[0;34m)\u001b[0m\u001b[0;34m\u001b[0m\u001b[0;34m\u001b[0m\u001b[0m\n\u001b[0m\u001b[1;32m   1413\u001b[0m \u001b[0;34m\u001b[0m\u001b[0m\n\u001b[1;32m   1414\u001b[0m     \u001b[0;32mdef\u001b[0m \u001b[0m_jmap\u001b[0m\u001b[0;34m(\u001b[0m\u001b[0mself\u001b[0m\u001b[0;34m,\u001b[0m \u001b[0mjm\u001b[0m\u001b[0;34m)\u001b[0m\u001b[0;34m:\u001b[0m\u001b[0;34m\u001b[0m\u001b[0;34m\u001b[0m\u001b[0m\n",
      "\u001b[0;32m~/opt/anaconda3/lib/python3.8/site-packages/pyspark/sql/column.py\u001b[0m in \u001b[0;36m_to_seq\u001b[0;34m(sc, cols, converter)\u001b[0m\n\u001b[1;32m     59\u001b[0m     \"\"\"\n\u001b[1;32m     60\u001b[0m     \u001b[0;32mif\u001b[0m \u001b[0mconverter\u001b[0m\u001b[0;34m:\u001b[0m\u001b[0;34m\u001b[0m\u001b[0;34m\u001b[0m\u001b[0m\n\u001b[0;32m---> 61\u001b[0;31m         \u001b[0mcols\u001b[0m \u001b[0;34m=\u001b[0m \u001b[0;34m[\u001b[0m\u001b[0mconverter\u001b[0m\u001b[0;34m(\u001b[0m\u001b[0mc\u001b[0m\u001b[0;34m)\u001b[0m \u001b[0;32mfor\u001b[0m \u001b[0mc\u001b[0m \u001b[0;32min\u001b[0m \u001b[0mcols\u001b[0m\u001b[0;34m]\u001b[0m\u001b[0;34m\u001b[0m\u001b[0;34m\u001b[0m\u001b[0m\n\u001b[0m\u001b[1;32m     62\u001b[0m     \u001b[0;32mreturn\u001b[0m \u001b[0msc\u001b[0m\u001b[0;34m.\u001b[0m\u001b[0m_jvm\u001b[0m\u001b[0;34m.\u001b[0m\u001b[0mPythonUtils\u001b[0m\u001b[0;34m.\u001b[0m\u001b[0mtoSeq\u001b[0m\u001b[0;34m(\u001b[0m\u001b[0mcols\u001b[0m\u001b[0;34m)\u001b[0m\u001b[0;34m\u001b[0m\u001b[0;34m\u001b[0m\u001b[0m\n\u001b[1;32m     63\u001b[0m \u001b[0;34m\u001b[0m\u001b[0m\n",
      "\u001b[0;32m~/opt/anaconda3/lib/python3.8/site-packages/pyspark/sql/column.py\u001b[0m in \u001b[0;36m<listcomp>\u001b[0;34m(.0)\u001b[0m\n\u001b[1;32m     59\u001b[0m     \"\"\"\n\u001b[1;32m     60\u001b[0m     \u001b[0;32mif\u001b[0m \u001b[0mconverter\u001b[0m\u001b[0;34m:\u001b[0m\u001b[0;34m\u001b[0m\u001b[0;34m\u001b[0m\u001b[0m\n\u001b[0;32m---> 61\u001b[0;31m         \u001b[0mcols\u001b[0m \u001b[0;34m=\u001b[0m \u001b[0;34m[\u001b[0m\u001b[0mconverter\u001b[0m\u001b[0;34m(\u001b[0m\u001b[0mc\u001b[0m\u001b[0;34m)\u001b[0m \u001b[0;32mfor\u001b[0m \u001b[0mc\u001b[0m \u001b[0;32min\u001b[0m \u001b[0mcols\u001b[0m\u001b[0;34m]\u001b[0m\u001b[0;34m\u001b[0m\u001b[0;34m\u001b[0m\u001b[0m\n\u001b[0m\u001b[1;32m     62\u001b[0m     \u001b[0;32mreturn\u001b[0m \u001b[0msc\u001b[0m\u001b[0;34m.\u001b[0m\u001b[0m_jvm\u001b[0m\u001b[0;34m.\u001b[0m\u001b[0mPythonUtils\u001b[0m\u001b[0;34m.\u001b[0m\u001b[0mtoSeq\u001b[0m\u001b[0;34m(\u001b[0m\u001b[0mcols\u001b[0m\u001b[0;34m)\u001b[0m\u001b[0;34m\u001b[0m\u001b[0;34m\u001b[0m\u001b[0m\n\u001b[1;32m     63\u001b[0m \u001b[0;34m\u001b[0m\u001b[0m\n",
      "\u001b[0;32m~/opt/anaconda3/lib/python3.8/site-packages/pyspark/sql/column.py\u001b[0m in \u001b[0;36m_to_java_column\u001b[0;34m(col)\u001b[0m\n\u001b[1;32m     41\u001b[0m         \u001b[0mjcol\u001b[0m \u001b[0;34m=\u001b[0m \u001b[0mcol\u001b[0m\u001b[0;34m.\u001b[0m\u001b[0m_jc\u001b[0m\u001b[0;34m\u001b[0m\u001b[0;34m\u001b[0m\u001b[0m\n\u001b[1;32m     42\u001b[0m     \u001b[0;32melif\u001b[0m \u001b[0misinstance\u001b[0m\u001b[0;34m(\u001b[0m\u001b[0mcol\u001b[0m\u001b[0;34m,\u001b[0m \u001b[0mstr\u001b[0m\u001b[0;34m)\u001b[0m\u001b[0;34m:\u001b[0m\u001b[0;34m\u001b[0m\u001b[0;34m\u001b[0m\u001b[0m\n\u001b[0;32m---> 43\u001b[0;31m         \u001b[0mjcol\u001b[0m \u001b[0;34m=\u001b[0m \u001b[0m_create_column_from_name\u001b[0m\u001b[0;34m(\u001b[0m\u001b[0mcol\u001b[0m\u001b[0;34m)\u001b[0m\u001b[0;34m\u001b[0m\u001b[0;34m\u001b[0m\u001b[0m\n\u001b[0m\u001b[1;32m     44\u001b[0m     \u001b[0;32melse\u001b[0m\u001b[0;34m:\u001b[0m\u001b[0;34m\u001b[0m\u001b[0;34m\u001b[0m\u001b[0m\n\u001b[1;32m     45\u001b[0m         raise TypeError(\n",
      "\u001b[0;32m~/opt/anaconda3/lib/python3.8/site-packages/pyspark/sql/column.py\u001b[0m in \u001b[0;36m_create_column_from_name\u001b[0;34m(name)\u001b[0m\n\u001b[1;32m     34\u001b[0m \u001b[0;32mdef\u001b[0m \u001b[0m_create_column_from_name\u001b[0m\u001b[0;34m(\u001b[0m\u001b[0mname\u001b[0m\u001b[0;34m)\u001b[0m\u001b[0;34m:\u001b[0m\u001b[0;34m\u001b[0m\u001b[0;34m\u001b[0m\u001b[0m\n\u001b[1;32m     35\u001b[0m     \u001b[0msc\u001b[0m \u001b[0;34m=\u001b[0m \u001b[0mSparkContext\u001b[0m\u001b[0;34m.\u001b[0m\u001b[0m_active_spark_context\u001b[0m\u001b[0;34m\u001b[0m\u001b[0;34m\u001b[0m\u001b[0m\n\u001b[0;32m---> 36\u001b[0;31m     \u001b[0;32mreturn\u001b[0m \u001b[0msc\u001b[0m\u001b[0;34m.\u001b[0m\u001b[0m_jvm\u001b[0m\u001b[0;34m.\u001b[0m\u001b[0mfunctions\u001b[0m\u001b[0;34m.\u001b[0m\u001b[0mcol\u001b[0m\u001b[0;34m(\u001b[0m\u001b[0mname\u001b[0m\u001b[0;34m)\u001b[0m\u001b[0;34m\u001b[0m\u001b[0;34m\u001b[0m\u001b[0m\n\u001b[0m\u001b[1;32m     37\u001b[0m \u001b[0;34m\u001b[0m\u001b[0m\n\u001b[1;32m     38\u001b[0m \u001b[0;34m\u001b[0m\u001b[0m\n",
      "\u001b[0;32m~/opt/anaconda3/lib/python3.8/site-packages/py4j/java_gateway.py\u001b[0m in \u001b[0;36m__getattr__\u001b[0;34m(self, name)\u001b[0m\n\u001b[1;32m   1695\u001b[0m             \u001b[0;32mreturn\u001b[0m \u001b[0mUserHelpAutoCompletion\u001b[0m\u001b[0;34m(\u001b[0m\u001b[0;34m)\u001b[0m\u001b[0;34m\u001b[0m\u001b[0;34m\u001b[0m\u001b[0m\n\u001b[1;32m   1696\u001b[0m \u001b[0;34m\u001b[0m\u001b[0m\n\u001b[0;32m-> 1697\u001b[0;31m         answer = self._gateway_client.send_command(\n\u001b[0m\u001b[1;32m   1698\u001b[0m             \u001b[0mproto\u001b[0m\u001b[0;34m.\u001b[0m\u001b[0mREFLECTION_COMMAND_NAME\u001b[0m \u001b[0;34m+\u001b[0m\u001b[0;34m\u001b[0m\u001b[0;34m\u001b[0m\u001b[0m\n\u001b[1;32m   1699\u001b[0m             \u001b[0mproto\u001b[0m\u001b[0;34m.\u001b[0m\u001b[0mREFL_GET_UNKNOWN_SUB_COMMAND_NAME\u001b[0m \u001b[0;34m+\u001b[0m \u001b[0mname\u001b[0m \u001b[0;34m+\u001b[0m \u001b[0;34m\"\\n\"\u001b[0m \u001b[0;34m+\u001b[0m \u001b[0mself\u001b[0m\u001b[0;34m.\u001b[0m\u001b[0m_id\u001b[0m \u001b[0;34m+\u001b[0m\u001b[0;34m\u001b[0m\u001b[0;34m\u001b[0m\u001b[0m\n",
      "\u001b[0;32m~/opt/anaconda3/lib/python3.8/site-packages/py4j/java_gateway.py\u001b[0m in \u001b[0;36msend_command\u001b[0;34m(self, command, retry, binary)\u001b[0m\n\u001b[1;32m   1034\u001b[0m          \u001b[0;32mif\u001b[0m\u001b[0;31m \u001b[0m\u001b[0;31m`\u001b[0m\u001b[0mbinary\u001b[0m\u001b[0;31m`\u001b[0m \u001b[0;32mis\u001b[0m\u001b[0;31m \u001b[0m\u001b[0;31m`\u001b[0m\u001b[0;32mTrue\u001b[0m\u001b[0;31m`\u001b[0m\u001b[0;34m.\u001b[0m\u001b[0;34m\u001b[0m\u001b[0;34m\u001b[0m\u001b[0m\n\u001b[1;32m   1035\u001b[0m         \"\"\"\n\u001b[0;32m-> 1036\u001b[0;31m         \u001b[0mconnection\u001b[0m \u001b[0;34m=\u001b[0m \u001b[0mself\u001b[0m\u001b[0;34m.\u001b[0m\u001b[0m_get_connection\u001b[0m\u001b[0;34m(\u001b[0m\u001b[0;34m)\u001b[0m\u001b[0;34m\u001b[0m\u001b[0;34m\u001b[0m\u001b[0m\n\u001b[0m\u001b[1;32m   1037\u001b[0m         \u001b[0;32mtry\u001b[0m\u001b[0;34m:\u001b[0m\u001b[0;34m\u001b[0m\u001b[0;34m\u001b[0m\u001b[0m\n\u001b[1;32m   1038\u001b[0m             \u001b[0mresponse\u001b[0m \u001b[0;34m=\u001b[0m \u001b[0mconnection\u001b[0m\u001b[0;34m.\u001b[0m\u001b[0msend_command\u001b[0m\u001b[0;34m(\u001b[0m\u001b[0mcommand\u001b[0m\u001b[0;34m)\u001b[0m\u001b[0;34m\u001b[0m\u001b[0;34m\u001b[0m\u001b[0m\n",
      "\u001b[0;32m~/opt/anaconda3/lib/python3.8/site-packages/py4j/java_gateway.py\u001b[0m in \u001b[0;36m_get_connection\u001b[0;34m(self)\u001b[0m\n\u001b[1;32m    982\u001b[0m             \u001b[0mconnection\u001b[0m \u001b[0;34m=\u001b[0m \u001b[0mself\u001b[0m\u001b[0;34m.\u001b[0m\u001b[0mdeque\u001b[0m\u001b[0;34m.\u001b[0m\u001b[0mpop\u001b[0m\u001b[0;34m(\u001b[0m\u001b[0;34m)\u001b[0m\u001b[0;34m\u001b[0m\u001b[0;34m\u001b[0m\u001b[0m\n\u001b[1;32m    983\u001b[0m         \u001b[0;32mexcept\u001b[0m \u001b[0mIndexError\u001b[0m\u001b[0;34m:\u001b[0m\u001b[0;34m\u001b[0m\u001b[0;34m\u001b[0m\u001b[0m\n\u001b[0;32m--> 984\u001b[0;31m             \u001b[0mconnection\u001b[0m \u001b[0;34m=\u001b[0m \u001b[0mself\u001b[0m\u001b[0;34m.\u001b[0m\u001b[0m_create_connection\u001b[0m\u001b[0;34m(\u001b[0m\u001b[0;34m)\u001b[0m\u001b[0;34m\u001b[0m\u001b[0;34m\u001b[0m\u001b[0m\n\u001b[0m\u001b[1;32m    985\u001b[0m         \u001b[0;32mreturn\u001b[0m \u001b[0mconnection\u001b[0m\u001b[0;34m\u001b[0m\u001b[0;34m\u001b[0m\u001b[0m\n\u001b[1;32m    986\u001b[0m \u001b[0;34m\u001b[0m\u001b[0m\n",
      "\u001b[0;32m~/opt/anaconda3/lib/python3.8/site-packages/py4j/java_gateway.py\u001b[0m in \u001b[0;36m_create_connection\u001b[0;34m(self)\u001b[0m\n\u001b[1;32m    988\u001b[0m         connection = GatewayConnection(\n\u001b[1;32m    989\u001b[0m             self.gateway_parameters, self.gateway_property)\n\u001b[0;32m--> 990\u001b[0;31m         \u001b[0mconnection\u001b[0m\u001b[0;34m.\u001b[0m\u001b[0mstart\u001b[0m\u001b[0;34m(\u001b[0m\u001b[0;34m)\u001b[0m\u001b[0;34m\u001b[0m\u001b[0;34m\u001b[0m\u001b[0m\n\u001b[0m\u001b[1;32m    991\u001b[0m         \u001b[0;32mreturn\u001b[0m \u001b[0mconnection\u001b[0m\u001b[0;34m\u001b[0m\u001b[0;34m\u001b[0m\u001b[0m\n\u001b[1;32m    992\u001b[0m \u001b[0;34m\u001b[0m\u001b[0m\n",
      "\u001b[0;32m~/opt/anaconda3/lib/python3.8/site-packages/py4j/java_gateway.py\u001b[0m in \u001b[0;36mstart\u001b[0;34m(self)\u001b[0m\n\u001b[1;32m   1130\u001b[0m                 \u001b[0;34m\"server ({0}:{1})\"\u001b[0m\u001b[0;34m.\u001b[0m\u001b[0mformat\u001b[0m\u001b[0;34m(\u001b[0m\u001b[0mself\u001b[0m\u001b[0;34m.\u001b[0m\u001b[0maddress\u001b[0m\u001b[0;34m,\u001b[0m \u001b[0mself\u001b[0m\u001b[0;34m.\u001b[0m\u001b[0mport\u001b[0m\u001b[0;34m)\u001b[0m\u001b[0;34m\u001b[0m\u001b[0;34m\u001b[0m\u001b[0m\n\u001b[1;32m   1131\u001b[0m             \u001b[0mlogger\u001b[0m\u001b[0;34m.\u001b[0m\u001b[0mexception\u001b[0m\u001b[0;34m(\u001b[0m\u001b[0mmsg\u001b[0m\u001b[0;34m)\u001b[0m\u001b[0;34m\u001b[0m\u001b[0;34m\u001b[0m\u001b[0m\n\u001b[0;32m-> 1132\u001b[0;31m             \u001b[0;32mraise\u001b[0m \u001b[0mPy4JNetworkError\u001b[0m\u001b[0;34m(\u001b[0m\u001b[0mmsg\u001b[0m\u001b[0;34m,\u001b[0m \u001b[0me\u001b[0m\u001b[0;34m)\u001b[0m\u001b[0;34m\u001b[0m\u001b[0;34m\u001b[0m\u001b[0m\n\u001b[0m\u001b[1;32m   1133\u001b[0m \u001b[0;34m\u001b[0m\u001b[0m\n\u001b[1;32m   1134\u001b[0m     \u001b[0;32mdef\u001b[0m \u001b[0m_authenticate_connection\u001b[0m\u001b[0;34m(\u001b[0m\u001b[0mself\u001b[0m\u001b[0;34m)\u001b[0m\u001b[0;34m:\u001b[0m\u001b[0;34m\u001b[0m\u001b[0;34m\u001b[0m\u001b[0m\n",
      "\u001b[0;31mPy4JNetworkError\u001b[0m: An error occurred while trying to connect to the Java server (127.0.0.1:51131)"
     ]
    }
   ],
   "source": [
    "from pyspark.sql.functions import col, countDistinct\n",
    "Session = df.select('user_id','user_session').distinct()"
   ]
  },
  {
   "cell_type": "code",
   "execution_count": 30,
   "metadata": {},
   "outputs": [
    {
     "name": "stderr",
     "output_type": "stream",
     "text": [
      "ERROR:py4j.java_gateway:An error occurred while trying to connect to the Java server (127.0.0.1:51131)\n",
      "Traceback (most recent call last):\n",
      "  File \"/Users/tanushdey/opt/anaconda3/lib/python3.8/site-packages/py4j/java_gateway.py\", line 982, in _get_connection\n",
      "    connection = self.deque.pop()\n",
      "IndexError: pop from an empty deque\n",
      "\n",
      "During handling of the above exception, another exception occurred:\n",
      "\n",
      "Traceback (most recent call last):\n",
      "  File \"/Users/tanushdey/opt/anaconda3/lib/python3.8/site-packages/py4j/java_gateway.py\", line 1120, in start\n",
      "    self.socket.connect((self.address, self.port))\n",
      "ConnectionRefusedError: [Errno 61] Connection refused\n"
     ]
    },
    {
     "ename": "Py4JNetworkError",
     "evalue": "An error occurred while trying to connect to the Java server (127.0.0.1:51131)",
     "output_type": "error",
     "traceback": [
      "\u001b[0;31m---------------------------------------------------------------------------\u001b[0m",
      "\u001b[0;31mIndexError\u001b[0m                                Traceback (most recent call last)",
      "\u001b[0;32m~/opt/anaconda3/lib/python3.8/site-packages/py4j/java_gateway.py\u001b[0m in \u001b[0;36m_get_connection\u001b[0;34m(self)\u001b[0m\n\u001b[1;32m    981\u001b[0m         \u001b[0;32mtry\u001b[0m\u001b[0;34m:\u001b[0m\u001b[0;34m\u001b[0m\u001b[0;34m\u001b[0m\u001b[0m\n\u001b[0;32m--> 982\u001b[0;31m             \u001b[0mconnection\u001b[0m \u001b[0;34m=\u001b[0m \u001b[0mself\u001b[0m\u001b[0;34m.\u001b[0m\u001b[0mdeque\u001b[0m\u001b[0;34m.\u001b[0m\u001b[0mpop\u001b[0m\u001b[0;34m(\u001b[0m\u001b[0;34m)\u001b[0m\u001b[0;34m\u001b[0m\u001b[0;34m\u001b[0m\u001b[0m\n\u001b[0m\u001b[1;32m    983\u001b[0m         \u001b[0;32mexcept\u001b[0m \u001b[0mIndexError\u001b[0m\u001b[0;34m:\u001b[0m\u001b[0;34m\u001b[0m\u001b[0;34m\u001b[0m\u001b[0m\n",
      "\u001b[0;31mIndexError\u001b[0m: pop from an empty deque",
      "\nDuring handling of the above exception, another exception occurred:\n",
      "\u001b[0;31mConnectionRefusedError\u001b[0m                    Traceback (most recent call last)",
      "\u001b[0;32m~/opt/anaconda3/lib/python3.8/site-packages/py4j/java_gateway.py\u001b[0m in \u001b[0;36mstart\u001b[0;34m(self)\u001b[0m\n\u001b[1;32m   1119\u001b[0m         \u001b[0;32mtry\u001b[0m\u001b[0;34m:\u001b[0m\u001b[0;34m\u001b[0m\u001b[0;34m\u001b[0m\u001b[0m\n\u001b[0;32m-> 1120\u001b[0;31m             \u001b[0mself\u001b[0m\u001b[0;34m.\u001b[0m\u001b[0msocket\u001b[0m\u001b[0;34m.\u001b[0m\u001b[0mconnect\u001b[0m\u001b[0;34m(\u001b[0m\u001b[0;34m(\u001b[0m\u001b[0mself\u001b[0m\u001b[0;34m.\u001b[0m\u001b[0maddress\u001b[0m\u001b[0;34m,\u001b[0m \u001b[0mself\u001b[0m\u001b[0;34m.\u001b[0m\u001b[0mport\u001b[0m\u001b[0;34m)\u001b[0m\u001b[0;34m)\u001b[0m\u001b[0;34m\u001b[0m\u001b[0;34m\u001b[0m\u001b[0m\n\u001b[0m\u001b[1;32m   1121\u001b[0m             \u001b[0mself\u001b[0m\u001b[0;34m.\u001b[0m\u001b[0mstream\u001b[0m \u001b[0;34m=\u001b[0m \u001b[0mself\u001b[0m\u001b[0;34m.\u001b[0m\u001b[0msocket\u001b[0m\u001b[0;34m.\u001b[0m\u001b[0mmakefile\u001b[0m\u001b[0;34m(\u001b[0m\u001b[0;34m\"rb\"\u001b[0m\u001b[0;34m)\u001b[0m\u001b[0;34m\u001b[0m\u001b[0;34m\u001b[0m\u001b[0m\n",
      "\u001b[0;31mConnectionRefusedError\u001b[0m: [Errno 61] Connection refused",
      "\nDuring handling of the above exception, another exception occurred:\n",
      "\u001b[0;31mPy4JNetworkError\u001b[0m                          Traceback (most recent call last)",
      "\u001b[0;32m<ipython-input-30-d4ab5a4e47f9>\u001b[0m in \u001b[0;36m<module>\u001b[0;34m\u001b[0m\n\u001b[0;32m----> 1\u001b[0;31m \u001b[0mSession\u001b[0m\u001b[0;34m.\u001b[0m\u001b[0mgroupBy\u001b[0m\u001b[0;34m(\u001b[0m\u001b[0;34m'user_session'\u001b[0m\u001b[0;34m)\u001b[0m\u001b[0;34m.\u001b[0m\u001b[0mcount\u001b[0m\u001b[0;34m(\u001b[0m\u001b[0;34m)\u001b[0m\u001b[0;34m.\u001b[0m\u001b[0morderBy\u001b[0m\u001b[0;34m(\u001b[0m\u001b[0;34m'count'\u001b[0m\u001b[0;34m,\u001b[0m\u001b[0mascending\u001b[0m\u001b[0;34m=\u001b[0m \u001b[0;32mFalse\u001b[0m\u001b[0;34m)\u001b[0m\u001b[0;34m.\u001b[0m\u001b[0mtoPandas\u001b[0m\u001b[0;34m(\u001b[0m\u001b[0;34m)\u001b[0m\u001b[0;34m\u001b[0m\u001b[0;34m\u001b[0m\u001b[0m\n\u001b[0m",
      "\u001b[0;32m~/opt/anaconda3/lib/python3.8/site-packages/pyspark/sql/dataframe.py\u001b[0m in \u001b[0;36mgroupBy\u001b[0;34m(self, *cols)\u001b[0m\n\u001b[1;32m   1746\u001b[0m         \u001b[0;34m[\u001b[0m\u001b[0mRow\u001b[0m\u001b[0;34m(\u001b[0m\u001b[0mname\u001b[0m\u001b[0;34m=\u001b[0m\u001b[0;34m'Alice'\u001b[0m\u001b[0;34m,\u001b[0m \u001b[0mage\u001b[0m\u001b[0;34m=\u001b[0m\u001b[0;36m2\u001b[0m\u001b[0;34m,\u001b[0m \u001b[0mcount\u001b[0m\u001b[0;34m=\u001b[0m\u001b[0;36m1\u001b[0m\u001b[0;34m)\u001b[0m\u001b[0;34m,\u001b[0m \u001b[0mRow\u001b[0m\u001b[0;34m(\u001b[0m\u001b[0mname\u001b[0m\u001b[0;34m=\u001b[0m\u001b[0;34m'Bob'\u001b[0m\u001b[0;34m,\u001b[0m \u001b[0mage\u001b[0m\u001b[0;34m=\u001b[0m\u001b[0;36m5\u001b[0m\u001b[0;34m,\u001b[0m \u001b[0mcount\u001b[0m\u001b[0;34m=\u001b[0m\u001b[0;36m1\u001b[0m\u001b[0;34m)\u001b[0m\u001b[0;34m]\u001b[0m\u001b[0;34m\u001b[0m\u001b[0;34m\u001b[0m\u001b[0m\n\u001b[1;32m   1747\u001b[0m         \"\"\"\n\u001b[0;32m-> 1748\u001b[0;31m         \u001b[0mjgd\u001b[0m \u001b[0;34m=\u001b[0m \u001b[0mself\u001b[0m\u001b[0;34m.\u001b[0m\u001b[0m_jdf\u001b[0m\u001b[0;34m.\u001b[0m\u001b[0mgroupBy\u001b[0m\u001b[0;34m(\u001b[0m\u001b[0mself\u001b[0m\u001b[0;34m.\u001b[0m\u001b[0m_jcols\u001b[0m\u001b[0;34m(\u001b[0m\u001b[0;34m*\u001b[0m\u001b[0mcols\u001b[0m\u001b[0;34m)\u001b[0m\u001b[0;34m)\u001b[0m\u001b[0;34m\u001b[0m\u001b[0;34m\u001b[0m\u001b[0m\n\u001b[0m\u001b[1;32m   1749\u001b[0m         \u001b[0;32mfrom\u001b[0m \u001b[0mpyspark\u001b[0m\u001b[0;34m.\u001b[0m\u001b[0msql\u001b[0m\u001b[0;34m.\u001b[0m\u001b[0mgroup\u001b[0m \u001b[0;32mimport\u001b[0m \u001b[0mGroupedData\u001b[0m\u001b[0;34m\u001b[0m\u001b[0;34m\u001b[0m\u001b[0m\n\u001b[1;32m   1750\u001b[0m         \u001b[0;32mreturn\u001b[0m \u001b[0mGroupedData\u001b[0m\u001b[0;34m(\u001b[0m\u001b[0mjgd\u001b[0m\u001b[0;34m,\u001b[0m \u001b[0mself\u001b[0m\u001b[0;34m)\u001b[0m\u001b[0;34m\u001b[0m\u001b[0;34m\u001b[0m\u001b[0m\n",
      "\u001b[0;32m~/opt/anaconda3/lib/python3.8/site-packages/pyspark/sql/dataframe.py\u001b[0m in \u001b[0;36m_jcols\u001b[0;34m(self, *cols)\u001b[0m\n\u001b[1;32m   1423\u001b[0m         \u001b[0;32mif\u001b[0m \u001b[0mlen\u001b[0m\u001b[0;34m(\u001b[0m\u001b[0mcols\u001b[0m\u001b[0;34m)\u001b[0m \u001b[0;34m==\u001b[0m \u001b[0;36m1\u001b[0m \u001b[0;32mand\u001b[0m \u001b[0misinstance\u001b[0m\u001b[0;34m(\u001b[0m\u001b[0mcols\u001b[0m\u001b[0;34m[\u001b[0m\u001b[0;36m0\u001b[0m\u001b[0;34m]\u001b[0m\u001b[0;34m,\u001b[0m \u001b[0mlist\u001b[0m\u001b[0;34m)\u001b[0m\u001b[0;34m:\u001b[0m\u001b[0;34m\u001b[0m\u001b[0;34m\u001b[0m\u001b[0m\n\u001b[1;32m   1424\u001b[0m             \u001b[0mcols\u001b[0m \u001b[0;34m=\u001b[0m \u001b[0mcols\u001b[0m\u001b[0;34m[\u001b[0m\u001b[0;36m0\u001b[0m\u001b[0;34m]\u001b[0m\u001b[0;34m\u001b[0m\u001b[0;34m\u001b[0m\u001b[0m\n\u001b[0;32m-> 1425\u001b[0;31m         \u001b[0;32mreturn\u001b[0m \u001b[0mself\u001b[0m\u001b[0;34m.\u001b[0m\u001b[0m_jseq\u001b[0m\u001b[0;34m(\u001b[0m\u001b[0mcols\u001b[0m\u001b[0;34m,\u001b[0m \u001b[0m_to_java_column\u001b[0m\u001b[0;34m)\u001b[0m\u001b[0;34m\u001b[0m\u001b[0;34m\u001b[0m\u001b[0m\n\u001b[0m\u001b[1;32m   1426\u001b[0m \u001b[0;34m\u001b[0m\u001b[0m\n\u001b[1;32m   1427\u001b[0m     \u001b[0;32mdef\u001b[0m \u001b[0m_sort_cols\u001b[0m\u001b[0;34m(\u001b[0m\u001b[0mself\u001b[0m\u001b[0;34m,\u001b[0m \u001b[0mcols\u001b[0m\u001b[0;34m,\u001b[0m \u001b[0mkwargs\u001b[0m\u001b[0;34m)\u001b[0m\u001b[0;34m:\u001b[0m\u001b[0;34m\u001b[0m\u001b[0;34m\u001b[0m\u001b[0m\n",
      "\u001b[0;32m~/opt/anaconda3/lib/python3.8/site-packages/pyspark/sql/dataframe.py\u001b[0m in \u001b[0;36m_jseq\u001b[0;34m(self, cols, converter)\u001b[0m\n\u001b[1;32m   1410\u001b[0m     \u001b[0;32mdef\u001b[0m \u001b[0m_jseq\u001b[0m\u001b[0;34m(\u001b[0m\u001b[0mself\u001b[0m\u001b[0;34m,\u001b[0m \u001b[0mcols\u001b[0m\u001b[0;34m,\u001b[0m \u001b[0mconverter\u001b[0m\u001b[0;34m=\u001b[0m\u001b[0;32mNone\u001b[0m\u001b[0;34m)\u001b[0m\u001b[0;34m:\u001b[0m\u001b[0;34m\u001b[0m\u001b[0;34m\u001b[0m\u001b[0m\n\u001b[1;32m   1411\u001b[0m         \u001b[0;34m\"\"\"Return a JVM Seq of Columns from a list of Column or names\"\"\"\u001b[0m\u001b[0;34m\u001b[0m\u001b[0;34m\u001b[0m\u001b[0m\n\u001b[0;32m-> 1412\u001b[0;31m         \u001b[0;32mreturn\u001b[0m \u001b[0m_to_seq\u001b[0m\u001b[0;34m(\u001b[0m\u001b[0mself\u001b[0m\u001b[0;34m.\u001b[0m\u001b[0msql_ctx\u001b[0m\u001b[0;34m.\u001b[0m\u001b[0m_sc\u001b[0m\u001b[0;34m,\u001b[0m \u001b[0mcols\u001b[0m\u001b[0;34m,\u001b[0m \u001b[0mconverter\u001b[0m\u001b[0;34m)\u001b[0m\u001b[0;34m\u001b[0m\u001b[0;34m\u001b[0m\u001b[0m\n\u001b[0m\u001b[1;32m   1413\u001b[0m \u001b[0;34m\u001b[0m\u001b[0m\n\u001b[1;32m   1414\u001b[0m     \u001b[0;32mdef\u001b[0m \u001b[0m_jmap\u001b[0m\u001b[0;34m(\u001b[0m\u001b[0mself\u001b[0m\u001b[0;34m,\u001b[0m \u001b[0mjm\u001b[0m\u001b[0;34m)\u001b[0m\u001b[0;34m:\u001b[0m\u001b[0;34m\u001b[0m\u001b[0;34m\u001b[0m\u001b[0m\n",
      "\u001b[0;32m~/opt/anaconda3/lib/python3.8/site-packages/pyspark/sql/column.py\u001b[0m in \u001b[0;36m_to_seq\u001b[0;34m(sc, cols, converter)\u001b[0m\n\u001b[1;32m     59\u001b[0m     \"\"\"\n\u001b[1;32m     60\u001b[0m     \u001b[0;32mif\u001b[0m \u001b[0mconverter\u001b[0m\u001b[0;34m:\u001b[0m\u001b[0;34m\u001b[0m\u001b[0;34m\u001b[0m\u001b[0m\n\u001b[0;32m---> 61\u001b[0;31m         \u001b[0mcols\u001b[0m \u001b[0;34m=\u001b[0m \u001b[0;34m[\u001b[0m\u001b[0mconverter\u001b[0m\u001b[0;34m(\u001b[0m\u001b[0mc\u001b[0m\u001b[0;34m)\u001b[0m \u001b[0;32mfor\u001b[0m \u001b[0mc\u001b[0m \u001b[0;32min\u001b[0m \u001b[0mcols\u001b[0m\u001b[0;34m]\u001b[0m\u001b[0;34m\u001b[0m\u001b[0;34m\u001b[0m\u001b[0m\n\u001b[0m\u001b[1;32m     62\u001b[0m     \u001b[0;32mreturn\u001b[0m \u001b[0msc\u001b[0m\u001b[0;34m.\u001b[0m\u001b[0m_jvm\u001b[0m\u001b[0;34m.\u001b[0m\u001b[0mPythonUtils\u001b[0m\u001b[0;34m.\u001b[0m\u001b[0mtoSeq\u001b[0m\u001b[0;34m(\u001b[0m\u001b[0mcols\u001b[0m\u001b[0;34m)\u001b[0m\u001b[0;34m\u001b[0m\u001b[0;34m\u001b[0m\u001b[0m\n\u001b[1;32m     63\u001b[0m \u001b[0;34m\u001b[0m\u001b[0m\n",
      "\u001b[0;32m~/opt/anaconda3/lib/python3.8/site-packages/pyspark/sql/column.py\u001b[0m in \u001b[0;36m<listcomp>\u001b[0;34m(.0)\u001b[0m\n\u001b[1;32m     59\u001b[0m     \"\"\"\n\u001b[1;32m     60\u001b[0m     \u001b[0;32mif\u001b[0m \u001b[0mconverter\u001b[0m\u001b[0;34m:\u001b[0m\u001b[0;34m\u001b[0m\u001b[0;34m\u001b[0m\u001b[0m\n\u001b[0;32m---> 61\u001b[0;31m         \u001b[0mcols\u001b[0m \u001b[0;34m=\u001b[0m \u001b[0;34m[\u001b[0m\u001b[0mconverter\u001b[0m\u001b[0;34m(\u001b[0m\u001b[0mc\u001b[0m\u001b[0;34m)\u001b[0m \u001b[0;32mfor\u001b[0m \u001b[0mc\u001b[0m \u001b[0;32min\u001b[0m \u001b[0mcols\u001b[0m\u001b[0;34m]\u001b[0m\u001b[0;34m\u001b[0m\u001b[0;34m\u001b[0m\u001b[0m\n\u001b[0m\u001b[1;32m     62\u001b[0m     \u001b[0;32mreturn\u001b[0m \u001b[0msc\u001b[0m\u001b[0;34m.\u001b[0m\u001b[0m_jvm\u001b[0m\u001b[0;34m.\u001b[0m\u001b[0mPythonUtils\u001b[0m\u001b[0;34m.\u001b[0m\u001b[0mtoSeq\u001b[0m\u001b[0;34m(\u001b[0m\u001b[0mcols\u001b[0m\u001b[0;34m)\u001b[0m\u001b[0;34m\u001b[0m\u001b[0;34m\u001b[0m\u001b[0m\n\u001b[1;32m     63\u001b[0m \u001b[0;34m\u001b[0m\u001b[0m\n",
      "\u001b[0;32m~/opt/anaconda3/lib/python3.8/site-packages/pyspark/sql/column.py\u001b[0m in \u001b[0;36m_to_java_column\u001b[0;34m(col)\u001b[0m\n\u001b[1;32m     41\u001b[0m         \u001b[0mjcol\u001b[0m \u001b[0;34m=\u001b[0m \u001b[0mcol\u001b[0m\u001b[0;34m.\u001b[0m\u001b[0m_jc\u001b[0m\u001b[0;34m\u001b[0m\u001b[0;34m\u001b[0m\u001b[0m\n\u001b[1;32m     42\u001b[0m     \u001b[0;32melif\u001b[0m \u001b[0misinstance\u001b[0m\u001b[0;34m(\u001b[0m\u001b[0mcol\u001b[0m\u001b[0;34m,\u001b[0m \u001b[0mstr\u001b[0m\u001b[0;34m)\u001b[0m\u001b[0;34m:\u001b[0m\u001b[0;34m\u001b[0m\u001b[0;34m\u001b[0m\u001b[0m\n\u001b[0;32m---> 43\u001b[0;31m         \u001b[0mjcol\u001b[0m \u001b[0;34m=\u001b[0m \u001b[0m_create_column_from_name\u001b[0m\u001b[0;34m(\u001b[0m\u001b[0mcol\u001b[0m\u001b[0;34m)\u001b[0m\u001b[0;34m\u001b[0m\u001b[0;34m\u001b[0m\u001b[0m\n\u001b[0m\u001b[1;32m     44\u001b[0m     \u001b[0;32melse\u001b[0m\u001b[0;34m:\u001b[0m\u001b[0;34m\u001b[0m\u001b[0;34m\u001b[0m\u001b[0m\n\u001b[1;32m     45\u001b[0m         raise TypeError(\n",
      "\u001b[0;32m~/opt/anaconda3/lib/python3.8/site-packages/pyspark/sql/column.py\u001b[0m in \u001b[0;36m_create_column_from_name\u001b[0;34m(name)\u001b[0m\n\u001b[1;32m     34\u001b[0m \u001b[0;32mdef\u001b[0m \u001b[0m_create_column_from_name\u001b[0m\u001b[0;34m(\u001b[0m\u001b[0mname\u001b[0m\u001b[0;34m)\u001b[0m\u001b[0;34m:\u001b[0m\u001b[0;34m\u001b[0m\u001b[0;34m\u001b[0m\u001b[0m\n\u001b[1;32m     35\u001b[0m     \u001b[0msc\u001b[0m \u001b[0;34m=\u001b[0m \u001b[0mSparkContext\u001b[0m\u001b[0;34m.\u001b[0m\u001b[0m_active_spark_context\u001b[0m\u001b[0;34m\u001b[0m\u001b[0;34m\u001b[0m\u001b[0m\n\u001b[0;32m---> 36\u001b[0;31m     \u001b[0;32mreturn\u001b[0m \u001b[0msc\u001b[0m\u001b[0;34m.\u001b[0m\u001b[0m_jvm\u001b[0m\u001b[0;34m.\u001b[0m\u001b[0mfunctions\u001b[0m\u001b[0;34m.\u001b[0m\u001b[0mcol\u001b[0m\u001b[0;34m(\u001b[0m\u001b[0mname\u001b[0m\u001b[0;34m)\u001b[0m\u001b[0;34m\u001b[0m\u001b[0;34m\u001b[0m\u001b[0m\n\u001b[0m\u001b[1;32m     37\u001b[0m \u001b[0;34m\u001b[0m\u001b[0m\n\u001b[1;32m     38\u001b[0m \u001b[0;34m\u001b[0m\u001b[0m\n",
      "\u001b[0;32m~/opt/anaconda3/lib/python3.8/site-packages/py4j/java_gateway.py\u001b[0m in \u001b[0;36m__getattr__\u001b[0;34m(self, name)\u001b[0m\n\u001b[1;32m   1695\u001b[0m             \u001b[0;32mreturn\u001b[0m \u001b[0mUserHelpAutoCompletion\u001b[0m\u001b[0;34m(\u001b[0m\u001b[0;34m)\u001b[0m\u001b[0;34m\u001b[0m\u001b[0;34m\u001b[0m\u001b[0m\n\u001b[1;32m   1696\u001b[0m \u001b[0;34m\u001b[0m\u001b[0m\n\u001b[0;32m-> 1697\u001b[0;31m         answer = self._gateway_client.send_command(\n\u001b[0m\u001b[1;32m   1698\u001b[0m             \u001b[0mproto\u001b[0m\u001b[0;34m.\u001b[0m\u001b[0mREFLECTION_COMMAND_NAME\u001b[0m \u001b[0;34m+\u001b[0m\u001b[0;34m\u001b[0m\u001b[0;34m\u001b[0m\u001b[0m\n\u001b[1;32m   1699\u001b[0m             \u001b[0mproto\u001b[0m\u001b[0;34m.\u001b[0m\u001b[0mREFL_GET_UNKNOWN_SUB_COMMAND_NAME\u001b[0m \u001b[0;34m+\u001b[0m \u001b[0mname\u001b[0m \u001b[0;34m+\u001b[0m \u001b[0;34m\"\\n\"\u001b[0m \u001b[0;34m+\u001b[0m \u001b[0mself\u001b[0m\u001b[0;34m.\u001b[0m\u001b[0m_id\u001b[0m \u001b[0;34m+\u001b[0m\u001b[0;34m\u001b[0m\u001b[0;34m\u001b[0m\u001b[0m\n",
      "\u001b[0;32m~/opt/anaconda3/lib/python3.8/site-packages/py4j/java_gateway.py\u001b[0m in \u001b[0;36msend_command\u001b[0;34m(self, command, retry, binary)\u001b[0m\n\u001b[1;32m   1034\u001b[0m          \u001b[0;32mif\u001b[0m\u001b[0;31m \u001b[0m\u001b[0;31m`\u001b[0m\u001b[0mbinary\u001b[0m\u001b[0;31m`\u001b[0m \u001b[0;32mis\u001b[0m\u001b[0;31m \u001b[0m\u001b[0;31m`\u001b[0m\u001b[0;32mTrue\u001b[0m\u001b[0;31m`\u001b[0m\u001b[0;34m.\u001b[0m\u001b[0;34m\u001b[0m\u001b[0;34m\u001b[0m\u001b[0m\n\u001b[1;32m   1035\u001b[0m         \"\"\"\n\u001b[0;32m-> 1036\u001b[0;31m         \u001b[0mconnection\u001b[0m \u001b[0;34m=\u001b[0m \u001b[0mself\u001b[0m\u001b[0;34m.\u001b[0m\u001b[0m_get_connection\u001b[0m\u001b[0;34m(\u001b[0m\u001b[0;34m)\u001b[0m\u001b[0;34m\u001b[0m\u001b[0;34m\u001b[0m\u001b[0m\n\u001b[0m\u001b[1;32m   1037\u001b[0m         \u001b[0;32mtry\u001b[0m\u001b[0;34m:\u001b[0m\u001b[0;34m\u001b[0m\u001b[0;34m\u001b[0m\u001b[0m\n\u001b[1;32m   1038\u001b[0m             \u001b[0mresponse\u001b[0m \u001b[0;34m=\u001b[0m \u001b[0mconnection\u001b[0m\u001b[0;34m.\u001b[0m\u001b[0msend_command\u001b[0m\u001b[0;34m(\u001b[0m\u001b[0mcommand\u001b[0m\u001b[0;34m)\u001b[0m\u001b[0;34m\u001b[0m\u001b[0;34m\u001b[0m\u001b[0m\n",
      "\u001b[0;32m~/opt/anaconda3/lib/python3.8/site-packages/py4j/java_gateway.py\u001b[0m in \u001b[0;36m_get_connection\u001b[0;34m(self)\u001b[0m\n\u001b[1;32m    982\u001b[0m             \u001b[0mconnection\u001b[0m \u001b[0;34m=\u001b[0m \u001b[0mself\u001b[0m\u001b[0;34m.\u001b[0m\u001b[0mdeque\u001b[0m\u001b[0;34m.\u001b[0m\u001b[0mpop\u001b[0m\u001b[0;34m(\u001b[0m\u001b[0;34m)\u001b[0m\u001b[0;34m\u001b[0m\u001b[0;34m\u001b[0m\u001b[0m\n\u001b[1;32m    983\u001b[0m         \u001b[0;32mexcept\u001b[0m \u001b[0mIndexError\u001b[0m\u001b[0;34m:\u001b[0m\u001b[0;34m\u001b[0m\u001b[0;34m\u001b[0m\u001b[0m\n\u001b[0;32m--> 984\u001b[0;31m             \u001b[0mconnection\u001b[0m \u001b[0;34m=\u001b[0m \u001b[0mself\u001b[0m\u001b[0;34m.\u001b[0m\u001b[0m_create_connection\u001b[0m\u001b[0;34m(\u001b[0m\u001b[0;34m)\u001b[0m\u001b[0;34m\u001b[0m\u001b[0;34m\u001b[0m\u001b[0m\n\u001b[0m\u001b[1;32m    985\u001b[0m         \u001b[0;32mreturn\u001b[0m \u001b[0mconnection\u001b[0m\u001b[0;34m\u001b[0m\u001b[0;34m\u001b[0m\u001b[0m\n\u001b[1;32m    986\u001b[0m \u001b[0;34m\u001b[0m\u001b[0m\n",
      "\u001b[0;32m~/opt/anaconda3/lib/python3.8/site-packages/py4j/java_gateway.py\u001b[0m in \u001b[0;36m_create_connection\u001b[0;34m(self)\u001b[0m\n\u001b[1;32m    988\u001b[0m         connection = GatewayConnection(\n\u001b[1;32m    989\u001b[0m             self.gateway_parameters, self.gateway_property)\n\u001b[0;32m--> 990\u001b[0;31m         \u001b[0mconnection\u001b[0m\u001b[0;34m.\u001b[0m\u001b[0mstart\u001b[0m\u001b[0;34m(\u001b[0m\u001b[0;34m)\u001b[0m\u001b[0;34m\u001b[0m\u001b[0;34m\u001b[0m\u001b[0m\n\u001b[0m\u001b[1;32m    991\u001b[0m         \u001b[0;32mreturn\u001b[0m \u001b[0mconnection\u001b[0m\u001b[0;34m\u001b[0m\u001b[0;34m\u001b[0m\u001b[0m\n\u001b[1;32m    992\u001b[0m \u001b[0;34m\u001b[0m\u001b[0m\n",
      "\u001b[0;32m~/opt/anaconda3/lib/python3.8/site-packages/py4j/java_gateway.py\u001b[0m in \u001b[0;36mstart\u001b[0;34m(self)\u001b[0m\n\u001b[1;32m   1130\u001b[0m                 \u001b[0;34m\"server ({0}:{1})\"\u001b[0m\u001b[0;34m.\u001b[0m\u001b[0mformat\u001b[0m\u001b[0;34m(\u001b[0m\u001b[0mself\u001b[0m\u001b[0;34m.\u001b[0m\u001b[0maddress\u001b[0m\u001b[0;34m,\u001b[0m \u001b[0mself\u001b[0m\u001b[0;34m.\u001b[0m\u001b[0mport\u001b[0m\u001b[0;34m)\u001b[0m\u001b[0;34m\u001b[0m\u001b[0;34m\u001b[0m\u001b[0m\n\u001b[1;32m   1131\u001b[0m             \u001b[0mlogger\u001b[0m\u001b[0;34m.\u001b[0m\u001b[0mexception\u001b[0m\u001b[0;34m(\u001b[0m\u001b[0mmsg\u001b[0m\u001b[0;34m)\u001b[0m\u001b[0;34m\u001b[0m\u001b[0;34m\u001b[0m\u001b[0m\n\u001b[0;32m-> 1132\u001b[0;31m             \u001b[0;32mraise\u001b[0m \u001b[0mPy4JNetworkError\u001b[0m\u001b[0;34m(\u001b[0m\u001b[0mmsg\u001b[0m\u001b[0;34m,\u001b[0m \u001b[0me\u001b[0m\u001b[0;34m)\u001b[0m\u001b[0;34m\u001b[0m\u001b[0;34m\u001b[0m\u001b[0m\n\u001b[0m\u001b[1;32m   1133\u001b[0m \u001b[0;34m\u001b[0m\u001b[0m\n\u001b[1;32m   1134\u001b[0m     \u001b[0;32mdef\u001b[0m \u001b[0m_authenticate_connection\u001b[0m\u001b[0;34m(\u001b[0m\u001b[0mself\u001b[0m\u001b[0;34m)\u001b[0m\u001b[0;34m:\u001b[0m\u001b[0;34m\u001b[0m\u001b[0;34m\u001b[0m\u001b[0m\n",
      "\u001b[0;31mPy4JNetworkError\u001b[0m: An error occurred while trying to connect to the Java server (127.0.0.1:51131)"
     ]
    }
   ],
   "source": [
    "Session.groupBy('user_session').count().orderBy('count',ascending= False).toPandas()"
   ]
  },
  {
   "cell_type": "code",
   "execution_count": 114,
   "metadata": {},
   "outputs": [],
   "source": [
    "product_id = df.select('user_id','product_id').distinct()"
   ]
  },
  {
   "cell_type": "code",
   "execution_count": 119,
   "metadata": {},
   "outputs": [
    {
     "data": {
      "text/html": [
       "<div>\n",
       "<style scoped>\n",
       "    .dataframe tbody tr th:only-of-type {\n",
       "        vertical-align: middle;\n",
       "    }\n",
       "\n",
       "    .dataframe tbody tr th {\n",
       "        vertical-align: top;\n",
       "    }\n",
       "\n",
       "    .dataframe thead th {\n",
       "        text-align: right;\n",
       "    }\n",
       "</style>\n",
       "<table border=\"1\" class=\"dataframe\">\n",
       "  <thead>\n",
       "    <tr style=\"text-align: right;\">\n",
       "      <th></th>\n",
       "      <th>product_id</th>\n",
       "      <th>count</th>\n",
       "    </tr>\n",
       "  </thead>\n",
       "  <tbody>\n",
       "    <tr>\n",
       "      <th>0</th>\n",
       "      <td>1005115</td>\n",
       "      <td>316</td>\n",
       "    </tr>\n",
       "    <tr>\n",
       "      <th>1</th>\n",
       "      <td>1004856</td>\n",
       "      <td>299</td>\n",
       "    </tr>\n",
       "    <tr>\n",
       "      <th>2</th>\n",
       "      <td>1004767</td>\n",
       "      <td>239</td>\n",
       "    </tr>\n",
       "    <tr>\n",
       "      <th>3</th>\n",
       "      <td>1005105</td>\n",
       "      <td>196</td>\n",
       "    </tr>\n",
       "    <tr>\n",
       "      <th>4</th>\n",
       "      <td>1004870</td>\n",
       "      <td>169</td>\n",
       "    </tr>\n",
       "    <tr>\n",
       "      <th>...</th>\n",
       "      <td>...</td>\n",
       "      <td>...</td>\n",
       "    </tr>\n",
       "    <tr>\n",
       "      <th>6208</th>\n",
       "      <td>1003713</td>\n",
       "      <td>1</td>\n",
       "    </tr>\n",
       "    <tr>\n",
       "      <th>6209</th>\n",
       "      <td>3601486</td>\n",
       "      <td>1</td>\n",
       "    </tr>\n",
       "    <tr>\n",
       "      <th>6210</th>\n",
       "      <td>3701329</td>\n",
       "      <td>1</td>\n",
       "    </tr>\n",
       "    <tr>\n",
       "      <th>6211</th>\n",
       "      <td>28714289</td>\n",
       "      <td>1</td>\n",
       "    </tr>\n",
       "    <tr>\n",
       "      <th>6212</th>\n",
       "      <td>3700647</td>\n",
       "      <td>1</td>\n",
       "    </tr>\n",
       "  </tbody>\n",
       "</table>\n",
       "<p>6213 rows × 2 columns</p>\n",
       "</div>"
      ],
      "text/plain": [
       "     product_id  count\n",
       "0       1005115    316\n",
       "1       1004856    299\n",
       "2       1004767    239\n",
       "3       1005105    196\n",
       "4       1004870    169\n",
       "...         ...    ...\n",
       "6208    1003713      1\n",
       "6209    3601486      1\n",
       "6210    3701329      1\n",
       "6211   28714289      1\n",
       "6212    3700647      1\n",
       "\n",
       "[6213 rows x 2 columns]"
      ]
     },
     "execution_count": 119,
     "metadata": {},
     "output_type": "execute_result"
    }
   ],
   "source": [
    "product_id.groupBy('product_id').count().orderBy('count',ascending= False).toPandas()"
   ]
  },
  {
   "cell_type": "code",
   "execution_count": 116,
   "metadata": {},
   "outputs": [],
   "source": [
    "category2 = df.select('user_id','category2').distinct()"
   ]
  },
  {
   "cell_type": "code",
   "execution_count": 120,
   "metadata": {},
   "outputs": [
    {
     "data": {
      "text/html": [
       "<div>\n",
       "<style scoped>\n",
       "    .dataframe tbody tr th:only-of-type {\n",
       "        vertical-align: middle;\n",
       "    }\n",
       "\n",
       "    .dataframe tbody tr th {\n",
       "        vertical-align: top;\n",
       "    }\n",
       "\n",
       "    .dataframe thead th {\n",
       "        text-align: right;\n",
       "    }\n",
       "</style>\n",
       "<table border=\"1\" class=\"dataframe\">\n",
       "  <thead>\n",
       "    <tr style=\"text-align: right;\">\n",
       "      <th></th>\n",
       "      <th>category2</th>\n",
       "      <th>count</th>\n",
       "    </tr>\n",
       "  </thead>\n",
       "  <tbody>\n",
       "    <tr>\n",
       "      <th>0</th>\n",
       "      <td>smartphone</td>\n",
       "      <td>3584</td>\n",
       "    </tr>\n",
       "    <tr>\n",
       "      <th>1</th>\n",
       "      <td>kitchen</td>\n",
       "      <td>807</td>\n",
       "    </tr>\n",
       "    <tr>\n",
       "      <th>2</th>\n",
       "      <td>audio</td>\n",
       "      <td>531</td>\n",
       "    </tr>\n",
       "    <tr>\n",
       "      <th>3</th>\n",
       "      <td>clocks</td>\n",
       "      <td>421</td>\n",
       "    </tr>\n",
       "    <tr>\n",
       "      <th>4</th>\n",
       "      <td>environment</td>\n",
       "      <td>370</td>\n",
       "    </tr>\n",
       "    <tr>\n",
       "      <th>5</th>\n",
       "      <td>shoes</td>\n",
       "      <td>308</td>\n",
       "    </tr>\n",
       "    <tr>\n",
       "      <th>6</th>\n",
       "      <td>notebook</td>\n",
       "      <td>289</td>\n",
       "    </tr>\n",
       "    <tr>\n",
       "      <th>7</th>\n",
       "      <td>accessories</td>\n",
       "      <td>288</td>\n",
       "    </tr>\n",
       "    <tr>\n",
       "      <th>8</th>\n",
       "      <td>video</td>\n",
       "      <td>278</td>\n",
       "    </tr>\n",
       "    <tr>\n",
       "      <th>9</th>\n",
       "      <td>tools</td>\n",
       "      <td>211</td>\n",
       "    </tr>\n",
       "    <tr>\n",
       "      <th>10</th>\n",
       "      <td>components</td>\n",
       "      <td>117</td>\n",
       "    </tr>\n",
       "    <tr>\n",
       "      <th>11</th>\n",
       "      <td>telephone</td>\n",
       "      <td>116</td>\n",
       "    </tr>\n",
       "    <tr>\n",
       "      <th>12</th>\n",
       "      <td>bedroom</td>\n",
       "      <td>112</td>\n",
       "    </tr>\n",
       "    <tr>\n",
       "      <th>13</th>\n",
       "      <td>desktop</td>\n",
       "      <td>109</td>\n",
       "    </tr>\n",
       "    <tr>\n",
       "      <th>14</th>\n",
       "      <td>tablet</td>\n",
       "      <td>99</td>\n",
       "    </tr>\n",
       "    <tr>\n",
       "      <th>15</th>\n",
       "      <td>peripherals</td>\n",
       "      <td>93</td>\n",
       "    </tr>\n",
       "    <tr>\n",
       "      <th>16</th>\n",
       "      <td>living_room</td>\n",
       "      <td>79</td>\n",
       "    </tr>\n",
       "    <tr>\n",
       "      <th>17</th>\n",
       "      <td>bag</td>\n",
       "      <td>77</td>\n",
       "    </tr>\n",
       "    <tr>\n",
       "      <th>18</th>\n",
       "      <td>bicycle</td>\n",
       "      <td>65</td>\n",
       "    </tr>\n",
       "    <tr>\n",
       "      <th>19</th>\n",
       "      <td>carriage</td>\n",
       "      <td>57</td>\n",
       "    </tr>\n",
       "    <tr>\n",
       "      <th>20</th>\n",
       "      <td>iron</td>\n",
       "      <td>56</td>\n",
       "    </tr>\n",
       "    <tr>\n",
       "      <th>21</th>\n",
       "      <td>sewing_machine</td>\n",
       "      <td>43</td>\n",
       "    </tr>\n",
       "    <tr>\n",
       "      <th>22</th>\n",
       "      <td>toys</td>\n",
       "      <td>38</td>\n",
       "    </tr>\n",
       "    <tr>\n",
       "      <th>23</th>\n",
       "      <td>personal</td>\n",
       "      <td>34</td>\n",
       "    </tr>\n",
       "    <tr>\n",
       "      <th>24</th>\n",
       "      <td>skates</td>\n",
       "      <td>31</td>\n",
       "    </tr>\n",
       "    <tr>\n",
       "      <th>25</th>\n",
       "      <td>camera</td>\n",
       "      <td>29</td>\n",
       "    </tr>\n",
       "    <tr>\n",
       "      <th>26</th>\n",
       "      <td>wallet</td>\n",
       "      <td>22</td>\n",
       "    </tr>\n",
       "    <tr>\n",
       "      <th>27</th>\n",
       "      <td>dolls</td>\n",
       "      <td>20</td>\n",
       "    </tr>\n",
       "    <tr>\n",
       "      <th>28</th>\n",
       "      <td>bathroom</td>\n",
       "      <td>16</td>\n",
       "    </tr>\n",
       "    <tr>\n",
       "      <th>29</th>\n",
       "      <td>underwear</td>\n",
       "      <td>16</td>\n",
       "    </tr>\n",
       "    <tr>\n",
       "      <th>30</th>\n",
       "      <td>ironing_board</td>\n",
       "      <td>14</td>\n",
       "    </tr>\n",
       "    <tr>\n",
       "      <th>31</th>\n",
       "      <td>fmcg</td>\n",
       "      <td>11</td>\n",
       "    </tr>\n",
       "    <tr>\n",
       "      <th>32</th>\n",
       "      <td>ebooks</td>\n",
       "      <td>11</td>\n",
       "    </tr>\n",
       "    <tr>\n",
       "      <th>33</th>\n",
       "      <td>swing</td>\n",
       "      <td>9</td>\n",
       "    </tr>\n",
       "    <tr>\n",
       "      <th>34</th>\n",
       "      <td>trainer</td>\n",
       "      <td>7</td>\n",
       "    </tr>\n",
       "    <tr>\n",
       "      <th>35</th>\n",
       "      <td>furniture</td>\n",
       "      <td>6</td>\n",
       "    </tr>\n",
       "    <tr>\n",
       "      <th>36</th>\n",
       "      <td>dress</td>\n",
       "      <td>5</td>\n",
       "    </tr>\n",
       "    <tr>\n",
       "      <th>37</th>\n",
       "      <td>shirt</td>\n",
       "      <td>5</td>\n",
       "    </tr>\n",
       "    <tr>\n",
       "      <th>38</th>\n",
       "      <td>cultivator</td>\n",
       "      <td>5</td>\n",
       "    </tr>\n",
       "    <tr>\n",
       "      <th>39</th>\n",
       "      <td>trousers</td>\n",
       "      <td>5</td>\n",
       "    </tr>\n",
       "    <tr>\n",
       "      <th>40</th>\n",
       "      <td>cartrige</td>\n",
       "      <td>4</td>\n",
       "    </tr>\n",
       "    <tr>\n",
       "      <th>41</th>\n",
       "      <td>tshirt</td>\n",
       "      <td>4</td>\n",
       "    </tr>\n",
       "    <tr>\n",
       "      <th>42</th>\n",
       "      <td>umbrella</td>\n",
       "      <td>3</td>\n",
       "    </tr>\n",
       "    <tr>\n",
       "      <th>43</th>\n",
       "      <td>universal</td>\n",
       "      <td>3</td>\n",
       "    </tr>\n",
       "    <tr>\n",
       "      <th>44</th>\n",
       "      <td>lawn_mower</td>\n",
       "      <td>3</td>\n",
       "    </tr>\n",
       "    <tr>\n",
       "      <th>45</th>\n",
       "      <td>snowboard</td>\n",
       "      <td>2</td>\n",
       "    </tr>\n",
       "    <tr>\n",
       "      <th>46</th>\n",
       "      <td>ski</td>\n",
       "      <td>2</td>\n",
       "    </tr>\n",
       "    <tr>\n",
       "      <th>47</th>\n",
       "      <td>tennis</td>\n",
       "      <td>1</td>\n",
       "    </tr>\n",
       "    <tr>\n",
       "      <th>48</th>\n",
       "      <td>scarf</td>\n",
       "      <td>1</td>\n",
       "    </tr>\n",
       "    <tr>\n",
       "      <th>49</th>\n",
       "      <td>jacket</td>\n",
       "      <td>1</td>\n",
       "    </tr>\n",
       "    <tr>\n",
       "      <th>50</th>\n",
       "      <td>skirt</td>\n",
       "      <td>1</td>\n",
       "    </tr>\n",
       "    <tr>\n",
       "      <th>51</th>\n",
       "      <td>shorts</td>\n",
       "      <td>1</td>\n",
       "    </tr>\n",
       "  </tbody>\n",
       "</table>\n",
       "</div>"
      ],
      "text/plain": [
       "         category2  count\n",
       "0       smartphone   3584\n",
       "1          kitchen    807\n",
       "2            audio    531\n",
       "3           clocks    421\n",
       "4      environment    370\n",
       "5            shoes    308\n",
       "6         notebook    289\n",
       "7      accessories    288\n",
       "8            video    278\n",
       "9            tools    211\n",
       "10      components    117\n",
       "11       telephone    116\n",
       "12         bedroom    112\n",
       "13         desktop    109\n",
       "14          tablet     99\n",
       "15     peripherals     93\n",
       "16     living_room     79\n",
       "17             bag     77\n",
       "18         bicycle     65\n",
       "19        carriage     57\n",
       "20            iron     56\n",
       "21  sewing_machine     43\n",
       "22            toys     38\n",
       "23        personal     34\n",
       "24          skates     31\n",
       "25          camera     29\n",
       "26          wallet     22\n",
       "27           dolls     20\n",
       "28        bathroom     16\n",
       "29       underwear     16\n",
       "30   ironing_board     14\n",
       "31            fmcg     11\n",
       "32          ebooks     11\n",
       "33           swing      9\n",
       "34         trainer      7\n",
       "35       furniture      6\n",
       "36           dress      5\n",
       "37           shirt      5\n",
       "38      cultivator      5\n",
       "39        trousers      5\n",
       "40        cartrige      4\n",
       "41          tshirt      4\n",
       "42        umbrella      3\n",
       "43       universal      3\n",
       "44      lawn_mower      3\n",
       "45       snowboard      2\n",
       "46             ski      2\n",
       "47          tennis      1\n",
       "48           scarf      1\n",
       "49          jacket      1\n",
       "50           skirt      1\n",
       "51          shorts      1"
      ]
     },
     "execution_count": 120,
     "metadata": {},
     "output_type": "execute_result"
    }
   ],
   "source": [
    "category2.groupBy('category2').count().orderBy('count',ascending= False).toPandas()"
   ]
  },
  {
   "cell_type": "code",
   "execution_count": 121,
   "metadata": {},
   "outputs": [
    {
     "data": {
      "text/plain": [
       "[Row(avg(price)=342.4241742286753)]"
      ]
     },
     "execution_count": 121,
     "metadata": {},
     "output_type": "execute_result"
    }
   ],
   "source": [
    "from pyspark.sql.functions import col, avg,max\n",
    "\n",
    "df.filter(df['event_type'] == 'purchase').agg(avg(col(\"price\"))).collect()"
   ]
  },
  {
   "cell_type": "code",
   "execution_count": 124,
   "metadata": {},
   "outputs": [
    {
     "data": {
      "text/plain": [
       "[('event_type', 'string'),\n",
       " ('product_id', 'string'),\n",
       " ('category_id', 'string'),\n",
       " ('category_code', 'string'),\n",
       " ('brand', 'string'),\n",
       " ('price', 'string'),\n",
       " ('user_id', 'string'),\n",
       " ('user_session', 'string'),\n",
       " ('hour', 'int'),\n",
       " ('day_of_week', 'int'),\n",
       " ('category1', 'string'),\n",
       " ('category2', 'string')]"
      ]
     },
     "execution_count": 124,
     "metadata": {},
     "output_type": "execute_result"
    }
   ],
   "source": [
    "df.dtypes"
   ]
  },
  {
   "cell_type": "code",
   "execution_count": 431,
   "metadata": {},
   "outputs": [],
   "source": [
    "df = df.withColumn(\"PRICE\", df['price'].cast('float'))"
   ]
  },
  {
   "cell_type": "code",
   "execution_count": 432,
   "metadata": {},
   "outputs": [
    {
     "data": {
      "text/plain": [
       "[('event_type', 'string'),\n",
       " ('product_id', 'string'),\n",
       " ('category_id', 'string'),\n",
       " ('category_code', 'string'),\n",
       " ('brand', 'string'),\n",
       " ('PRICE', 'float'),\n",
       " ('user_id', 'string'),\n",
       " ('user_session', 'string'),\n",
       " ('hour', 'int'),\n",
       " ('category1', 'string'),\n",
       " ('category2', 'string')]"
      ]
     },
     "execution_count": 432,
     "metadata": {},
     "output_type": "execute_result"
    }
   ],
   "source": [
    "df.dtypes"
   ]
  },
  {
   "cell_type": "code",
   "execution_count": 132,
   "metadata": {},
   "outputs": [],
   "source": [
    " category1 = df.select('category1','PRICE').filter((df['event_type'] == 'purchase'))"
   ]
  },
  {
   "cell_type": "code",
   "execution_count": 133,
   "metadata": {},
   "outputs": [
    {
     "data": {
      "text/html": [
       "<div>\n",
       "<style scoped>\n",
       "    .dataframe tbody tr th:only-of-type {\n",
       "        vertical-align: middle;\n",
       "    }\n",
       "\n",
       "    .dataframe tbody tr th {\n",
       "        vertical-align: top;\n",
       "    }\n",
       "\n",
       "    .dataframe thead th {\n",
       "        text-align: right;\n",
       "    }\n",
       "</style>\n",
       "<table border=\"1\" class=\"dataframe\">\n",
       "  <thead>\n",
       "    <tr style=\"text-align: right;\">\n",
       "      <th></th>\n",
       "      <th>category1</th>\n",
       "      <th>avg(PRICE)</th>\n",
       "    </tr>\n",
       "  </thead>\n",
       "  <tbody>\n",
       "    <tr>\n",
       "      <th>0</th>\n",
       "      <td>electronics</td>\n",
       "      <td>386.035475</td>\n",
       "    </tr>\n",
       "    <tr>\n",
       "      <th>1</th>\n",
       "      <td>furniture</td>\n",
       "      <td>88.336667</td>\n",
       "    </tr>\n",
       "    <tr>\n",
       "      <th>2</th>\n",
       "      <td>appliances</td>\n",
       "      <td>140.725538</td>\n",
       "    </tr>\n",
       "    <tr>\n",
       "      <th>3</th>\n",
       "      <td>auto</td>\n",
       "      <td>112.754003</td>\n",
       "    </tr>\n",
       "    <tr>\n",
       "      <th>4</th>\n",
       "      <td>computers</td>\n",
       "      <td>425.659617</td>\n",
       "    </tr>\n",
       "    <tr>\n",
       "      <th>5</th>\n",
       "      <td>apparel</td>\n",
       "      <td>63.703334</td>\n",
       "    </tr>\n",
       "    <tr>\n",
       "      <th>6</th>\n",
       "      <td>construction</td>\n",
       "      <td>30.974999</td>\n",
       "    </tr>\n",
       "    <tr>\n",
       "      <th>7</th>\n",
       "      <td>accessories</td>\n",
       "      <td>89.578000</td>\n",
       "    </tr>\n",
       "    <tr>\n",
       "      <th>8</th>\n",
       "      <td>stationery</td>\n",
       "      <td>7.700000</td>\n",
       "    </tr>\n",
       "    <tr>\n",
       "      <th>9</th>\n",
       "      <td>kids</td>\n",
       "      <td>21.642500</td>\n",
       "    </tr>\n",
       "  </tbody>\n",
       "</table>\n",
       "</div>"
      ],
      "text/plain": [
       "      category1  avg(PRICE)\n",
       "0   electronics  386.035475\n",
       "1     furniture   88.336667\n",
       "2    appliances  140.725538\n",
       "3          auto  112.754003\n",
       "4     computers  425.659617\n",
       "5       apparel   63.703334\n",
       "6  construction   30.974999\n",
       "7   accessories   89.578000\n",
       "8    stationery    7.700000\n",
       "9          kids   21.642500"
      ]
     },
     "execution_count": 133,
     "metadata": {},
     "output_type": "execute_result"
    }
   ],
   "source": [
    "category1.groupBy('category1').avg('PRICE').toPandas()"
   ]
  },
  {
   "cell_type": "code",
   "execution_count": 134,
   "metadata": {},
   "outputs": [
    {
     "name": "stdout",
     "output_type": "stream",
     "text": [
      "+----------+----------+-------------------+--------------------+--------+-------+---------+--------------------+----+-----------+-----------+-----------+\n",
      "|event_type|product_id|        category_id|       category_code|   brand|  PRICE|  user_id|        user_session|hour|day_of_week|  category1|  category2|\n",
      "+----------+----------+-------------------+--------------------+--------+-------+---------+--------------------+----+-----------+-----------+-----------+\n",
      "|      view|   3900821|2053013552326770905|appliances.enviro...|    aqua|   33.2|554748717|9333dfbd-b87a-470...|   5|          3| appliances|environment|\n",
      "|      view|   1307067|2053013558920217191|  computers.notebook|  lenovo| 251.74|550050854|7c90fc70-0e80-459...|   5|          3|  computers|   notebook|\n",
      "|      view|   1004237|2053013555631882655|electronics.smart...|   apple|1081.98|535871217|c6bd7419-2748-4c5...|   5|          3|electronics| smartphone|\n",
      "|      view|   1480613|2053013561092866779|   computers.desktop|  pulser| 908.62|512742880|0d0d91c2-c9c2-4e8...|   5|          3|  computers|    desktop|\n",
      "|      view|  28719074|2053013565480109009|  apparel.shoes.keds|   baden| 102.71|520571932|ac1cd4e5-a3ce-422...|   5|          3|    apparel|      shoes|\n",
      "|      view|   1004545|2053013555631882655|electronics.smart...|  huawei| 566.01|537918940|406c46ed-90a4-478...|   5|          3|electronics| smartphone|\n",
      "|      view|   2900536|2053013554776244595|appliances.kitche...|elenberg|  51.46|555158050|b5bdd0b3-4ca2-4c5...|   5|          3| appliances|    kitchen|\n",
      "|      view|   1005011|2053013555631882655|electronics.smart...| samsung| 900.64|530282093|50a293fb-5940-41b...|   5|          3|electronics| smartphone|\n",
      "|      view|   3900746|2053013552326770905|appliances.enviro...|   haier| 102.38|555444559|98b88fa0-d8fa-4b9...|   5|          3| appliances|environment|\n",
      "|      view|  13500240|2053013557099889147|furniture.bedroom...|     brw|  93.18|555446365|7f0062d8-ead0-4e0...|   5|          3|  furniture|    bedroom|\n",
      "|      view|   1801995|2053013554415534427|electronics.video.tv|   haier| 193.03|537192226|e3151795-c355-4ef...|   5|          3|electronics|      video|\n",
      "|      view|  10900029|2053013555069845885|appliances.kitche...|   bosch|  58.95|519528062|901b9e3c-3f8f-414...|   5|          3| appliances|    kitchen|\n",
      "|      view|   1306631|2053013558920217191|  computers.notebook|      hp| 580.89|550050854|7c90fc70-0e80-459...|   5|          3|  computers|   notebook|\n",
      "|      view|   1005135|2053013555631882655|electronics.smart...|   apple|1747.79|535871217|c6bd7419-2748-4c5...|   5|          3|electronics| smartphone|\n",
      "|      view|   1003306|2053013555631882655|electronics.smart...|   apple| 588.77|555446831|6ec635da-ea15-4a5...|   5|          3|electronics| smartphone|\n",
      "|      view|   4803399|2053013554658804075|electronics.audio...|     jbl|  33.21|555428858|8a6afed4-77f8-40c...|   5|          3|electronics|      audio|\n",
      "|      view|   1480714|2053013561092866779|   computers.desktop|  pulser| 921.49|512742880|0d0d91c2-c9c2-4e8...|   5|          3|  computers|    desktop|\n",
      "|      view|   1004739|2053013555631882655|electronics.smart...|  xiaomi| 197.55|519530528|9882d21f-2c5f-496...|   5|          3|electronics| smartphone|\n",
      "|      view|   6200260|2053013552293216471|appliances.enviro...|   midea|  47.62|538645907|7d9a8784-7b6c-426...|   5|          3| appliances|environment|\n",
      "|      view|   1003306|2053013555631882655|electronics.smart...|   apple| 588.77|555446831|6ec635da-ea15-4a5...|   5|          3|electronics| smartphone|\n",
      "+----------+----------+-------------------+--------------------+--------+-------+---------+--------------------+----+-----------+-----------+-----------+\n",
      "only showing top 20 rows\n",
      "\n"
     ]
    }
   ],
   "source": [
    "df.show()"
   ]
  },
  {
   "cell_type": "code",
   "execution_count": 136,
   "metadata": {},
   "outputs": [
    {
     "data": {
      "text/plain": [
       "[Row(hour=5), Row(hour=6), Row(hour=7), Row(hour=8), Row(hour=9)]"
      ]
     },
     "execution_count": 136,
     "metadata": {},
     "output_type": "execute_result"
    }
   ],
   "source": [
    "df.select('hour').distinct().collect()"
   ]
  },
  {
   "cell_type": "code",
   "execution_count": 433,
   "metadata": {},
   "outputs": [],
   "source": [
    "from pyspark.sql.functions import when\n",
    "df = df.withColumn(\"bin_time\", when((df['hour']> 0) &  (df['hour']<= 6)  , 1).\n",
    "                  when((df['hour']> 6) &  (df['hour']<= 12)  , 2).\n",
    "                  when((df['hour']> 12) &  (df['hour']<= 18)  , 3).\n",
    "                  when((df['hour']> 18) &  (df['hour']<= 24)  , 4))"
   ]
  },
  {
   "cell_type": "code",
   "execution_count": 236,
   "metadata": {},
   "outputs": [
    {
     "name": "stdout",
     "output_type": "stream",
     "text": [
      "+----------+----------+-------------------+--------------------+------+-------+---------+--------------------+----+-----------+-----------+-----------+--------+\n",
      "|event_type|product_id|        category_id|       category_code| brand|  PRICE|  user_id|        user_session|hour|day_of_week|  category1|  category2|bin_time|\n",
      "+----------+----------+-------------------+--------------------+------+-------+---------+--------------------+----+-----------+-----------+-----------+--------+\n",
      "|      view|   3900821|2053013552326770905|appliances.enviro...|  aqua|   33.2|554748717|9333dfbd-b87a-470...|   5|          3| appliances|environment|       1|\n",
      "|      view|   1307067|2053013558920217191|  computers.notebook|lenovo| 251.74|550050854|7c90fc70-0e80-459...|   5|          3|  computers|   notebook|       1|\n",
      "|      view|   1004237|2053013555631882655|electronics.smart...| apple|1081.98|535871217|c6bd7419-2748-4c5...|   5|          3|electronics| smartphone|       1|\n",
      "|      view|   1480613|2053013561092866779|   computers.desktop|pulser| 908.62|512742880|0d0d91c2-c9c2-4e8...|   5|          3|  computers|    desktop|       1|\n",
      "|      view|  28719074|2053013565480109009|  apparel.shoes.keds| baden| 102.71|520571932|ac1cd4e5-a3ce-422...|   5|          3|    apparel|      shoes|       1|\n",
      "+----------+----------+-------------------+--------------------+------+-------+---------+--------------------+----+-----------+-----------+-----------+--------+\n",
      "only showing top 5 rows\n",
      "\n"
     ]
    }
   ],
   "source": [
    "df.show(5)"
   ]
  },
  {
   "cell_type": "code",
   "execution_count": 237,
   "metadata": {},
   "outputs": [
    {
     "data": {
      "text/plain": [
       "[Row(brand='aqua'),\n",
       " Row(brand='lenovo'),\n",
       " Row(brand='apple'),\n",
       " Row(brand='pulser'),\n",
       " Row(brand='baden'),\n",
       " Row(brand='huawei'),\n",
       " Row(brand='elenberg'),\n",
       " Row(brand='samsung'),\n",
       " Row(brand='haier'),\n",
       " Row(brand='brw'),\n",
       " Row(brand='bosch'),\n",
       " Row(brand='hp'),\n",
       " Row(brand='jbl'),\n",
       " Row(brand='xiaomi'),\n",
       " Row(brand='midea'),\n",
       " Row(brand='ariston'),\n",
       " Row(brand='respect'),\n",
       " Row(brand='dauscher'),\n",
       " Row(brand='atlant'),\n",
       " Row(brand='burgerschuhe'),\n",
       " Row(brand='hotpoint-ariston'),\n",
       " Row(brand='gorenje'),\n",
       " Row(brand='acer'),\n",
       " Row(brand='sony'),\n",
       " Row(brand='teploross'),\n",
       " Row(brand='panasonic'),\n",
       " Row(brand='leo'),\n",
       " Row(brand='lg'),\n",
       " Row(brand='nokia'),\n",
       " Row(brand='strobbs'),\n",
       " Row(brand='artel'),\n",
       " Row(brand='oasis'),\n",
       " Row(brand='redmond'),\n",
       " Row(brand='caprice'),\n",
       " Row(brand='nexpero'),\n",
       " Row(brand='oneplus'),\n",
       " Row(brand='casio'),\n",
       " Row(brand='indesit'),\n",
       " Row(brand='oppo'),\n",
       " Row(brand='fila'),\n",
       " Row(brand='fassen'),\n",
       " Row(brand='ballu'),\n",
       " Row(brand='garmin'),\n",
       " Row(brand='gigabyte'),\n",
       " Row(brand='ava'),\n",
       " Row(brand='trust'),\n",
       " Row(brand='dewalt'),\n",
       " Row(brand='bq'),\n",
       " Row(brand='asics'),\n",
       " Row(brand='chicco'),\n",
       " Row(brand='polaris'),\n",
       " Row(brand='electrolux'),\n",
       " Row(brand='santeri'),\n",
       " Row(brand='starline'),\n",
       " Row(brand='elari'),\n",
       " Row(brand='jvc'),\n",
       " Row(brand='fly'),\n",
       " Row(brand='maxwell'),\n",
       " Row(brand='prestigio'),\n",
       " Row(brand='beko'),\n",
       " Row(brand='meizu'),\n",
       " Row(brand='moser'),\n",
       " Row(brand='kugoo'),\n",
       " Row(brand='asus'),\n",
       " Row(brand='delonghi'),\n",
       " Row(brand='sv'),\n",
       " Row(brand='kicx'),\n",
       " Row(brand='netechnics'),\n",
       " Row(brand='vitek'),\n",
       " Row(brand='janome'),\n",
       " Row(brand='housefit'),\n",
       " Row(brand='gopro'),\n",
       " Row(brand='bts'),\n",
       " Row(brand='tefal'),\n",
       " Row(brand='dometic'),\n",
       " Row(brand='tcl'),\n",
       " Row(brand='vivo'),\n",
       " Row(brand='yasin'),\n",
       " Row(brand='almacom'),\n",
       " Row(brand='willmark'),\n",
       " Row(brand='laston'),\n",
       " Row(brand='magnetta'),\n",
       " Row(brand='fujida'),\n",
       " Row(brand='smart'),\n",
       " Row(brand='pioneer'),\n",
       " Row(brand='huter'),\n",
       " Row(brand='kivi'),\n",
       " Row(brand='alphard'),\n",
       " Row(brand='remix'),\n",
       " Row(brand='pride'),\n",
       " Row(brand='karya'),\n",
       " Row(brand='doogee'),\n",
       " Row(brand='plantronics'),\n",
       " Row(brand='rapoo'),\n",
       " Row(brand='kingston'),\n",
       " Row(brand='ryobi'),\n",
       " Row(brand='omron'),\n",
       " Row(brand='dxracer'),\n",
       " Row(brand='wacom'),\n",
       " Row(brand='ivt'),\n",
       " Row(brand='philips'),\n",
       " Row(brand='aoc'),\n",
       " Row(brand='m-audio'),\n",
       " Row(brand='braun'),\n",
       " Row(brand='logitech'),\n",
       " Row(brand='arnica'),\n",
       " Row(brand='powercolor'),\n",
       " Row(brand='torrent'),\n",
       " Row(brand='rooman'),\n",
       " Row(brand='qmax'),\n",
       " Row(brand='tissot'),\n",
       " Row(brand='alilo'),\n",
       " Row(brand='honor'),\n",
       " Row(brand='epson'),\n",
       " Row(brand='toshiba'),\n",
       " Row(brand='a-elita'),\n",
       " Row(brand='cersanit'),\n",
       " Row(brand='sho-me'),\n",
       " Row(brand='perilla'),\n",
       " Row(brand='swat'),\n",
       " Row(brand='denn'),\n",
       " Row(brand='makita'),\n",
       " Row(brand='marcomen'),\n",
       " Row(brand='crown'),\n",
       " Row(brand='nika'),\n",
       " Row(brand='fender'),\n",
       " Row(brand='zeta'),\n",
       " Row(brand='greenpro'),\n",
       " Row(brand='hansa'),\n",
       " Row(brand='microsoft'),\n",
       " Row(brand='tomahawk'),\n",
       " Row(brand='dkny'),\n",
       " Row(brand='rieker'),\n",
       " Row(brand='longines'),\n",
       " Row(brand='subini'),\n",
       " Row(brand='dell'),\n",
       " Row(brand='ken'),\n",
       " Row(brand='alser'),\n",
       " Row(brand='canon'),\n",
       " Row(brand='denzel'),\n",
       " Row(brand='hyperx'),\n",
       " Row(brand='ibox'),\n",
       " Row(brand='destra'),\n",
       " Row(brand='salamander'),\n",
       " Row(brand='ersport'),\n",
       " Row(brand='sanita'),\n",
       " Row(brand='aimoto'),\n",
       " Row(brand='mars'),\n",
       " Row(brand='sunday'),\n",
       " Row(brand='huggies'),\n",
       " Row(brand='total'),\n",
       " Row(brand='pocketbook'),\n",
       " Row(brand='mltl'),\n",
       " Row(brand='wonlex'),\n",
       " Row(brand='tamish'),\n",
       " Row(brand='ritmix'),\n",
       " Row(brand='maomaoku'),\n",
       " Row(brand='domini'),\n",
       " Row(brand='metabo'),\n",
       " Row(brand='cougar'),\n",
       " Row(brand='decoroom'),\n",
       " Row(brand='adidas'),\n",
       " Row(brand='anytek'),\n",
       " Row(brand='asel'),\n",
       " Row(brand='saturn'),\n",
       " Row(brand='orient'),\n",
       " Row(brand='scarlett'),\n",
       " Row(brand='jaguar'),\n",
       " Row(brand='timberk'),\n",
       " Row(brand='centurion'),\n",
       " Row(brand='amd'),\n",
       " Row(brand='coballe'),\n",
       " Row(brand='spur'),\n",
       " Row(brand='nike'),\n",
       " Row(brand='karcher'),\n",
       " Row(brand='asrock'),\n",
       " Row(brand='intel'),\n",
       " Row(brand='gefest'),\n",
       " Row(brand='rossinka'),\n",
       " Row(brand='winca'),\n",
       " Row(brand='thule'),\n",
       " Row(brand='razer'),\n",
       " Row(brand='maxvi'),\n",
       " Row(brand='escan'),\n",
       " Row(brand='vans'),\n",
       " Row(brand='lorelli'),\n",
       " Row(brand='firman'),\n",
       " Row(brand='stihl'),\n",
       " Row(brand='rastar'),\n",
       " Row(brand='coccinelle'),\n",
       " Row(brand='bugatti'),\n",
       " Row(brand='fossil'),\n",
       " Row(brand='shagovita'),\n",
       " Row(brand='tp-link'),\n",
       " Row(brand='milavitsa'),\n",
       " Row(brand='trinx'),\n",
       " Row(brand='wingoffly'),\n",
       " Row(brand='transcend'),\n",
       " Row(brand='kuppersberg'),\n",
       " Row(brand='armani'),\n",
       " Row(brand='turbo'),\n",
       " Row(brand='crucial'),\n",
       " Row(brand='byintek'),\n",
       " Row(brand='triton'),\n",
       " Row(brand='belecoo'),\n",
       " Row(brand='polar'),\n",
       " Row(brand='bernina'),\n",
       " Row(brand='canyon'),\n",
       " Row(brand='pablosky'),\n",
       " Row(brand='olmio'),\n",
       " Row(brand='coolfort'),\n",
       " Row(brand='cinemood'),\n",
       " Row(brand='greyder'),\n",
       " Row(brand='huntkey'),\n",
       " Row(brand='kenwood'),\n",
       " Row(brand='thomas'),\n",
       " Row(brand='geil'),\n",
       " Row(brand='apacer'),\n",
       " Row(brand='withings'),\n",
       " Row(brand='stark'),\n",
       " Row(brand='stels'),\n",
       " Row(brand='giant'),\n",
       " Row(brand='imx'),\n",
       " Row(brand='hoco'),\n",
       " Row(brand='polini'),\n",
       " Row(brand='hyundai'),\n",
       " Row(brand='viewsonic'),\n",
       " Row(brand='cube'),\n",
       " Row(brand='palit'),\n",
       " Row(brand='rado'),\n",
       " Row(brand='sinotex'),\n",
       " Row(brand='dk'),\n",
       " Row(brand='boccia'),\n",
       " Row(brand='jinga'),\n",
       " Row(brand='p.i.t.'),\n",
       " Row(brand='husqvarna'),\n",
       " Row(brand='etor'),\n",
       " Row(brand='alteco'),\n",
       " Row(brand='yamaha'),\n",
       " Row(brand='kink'),\n",
       " Row(brand='alpine'),\n",
       " Row(brand='redbo'),\n",
       " Row(brand='santek'),\n",
       " Row(brand='llorens'),\n",
       " Row(brand='berkut'),\n",
       " Row(brand='aiken'),\n",
       " Row(brand='shivaki'),\n",
       " Row(brand='candy'),\n",
       " Row(brand='rivacase'),\n",
       " Row(brand='msi'),\n",
       " Row(brand='akpo'),\n",
       " Row(brand='autoline'),\n",
       " Row(brand='bene'),\n",
       " Row(brand='ventara'),\n",
       " Row(brand='longway'),\n",
       " Row(brand='texet'),\n",
       " Row(brand='brother'),\n",
       " Row(brand='shenma'),\n",
       " Row(brand='delux'),\n",
       " Row(brand='bertoni'),\n",
       " Row(brand='rals'),\n",
       " Row(brand='halmar'),\n",
       " Row(brand='nakamichi'),\n",
       " Row(brand='elna'),\n",
       " Row(brand='keddo'),\n",
       " Row(brand='neoline'),\n",
       " Row(brand='romack'),\n",
       " Row(brand='avalon'),\n",
       " Row(brand='zelmer'),\n",
       " Row(brand='steelseries'),\n",
       " Row(brand='bazhou'),\n",
       " Row(brand='t-max'),\n",
       " Row(brand='aero'),\n",
       " Row(brand='vegas'),\n",
       " Row(brand='corsair'),\n",
       " Row(brand='cover'),\n",
       " Row(brand='garanterm'),\n",
       " Row(brand='sven'),\n",
       " Row(brand='kitfort'),\n",
       " Row(brand='mykronoz'),\n",
       " Row(brand='axis'),\n",
       " Row(brand='x-game'),\n",
       " Row(brand='infinity'),\n",
       " Row(brand='millionaire'),\n",
       " Row(brand='reebok'),\n",
       " Row(brand='gionee'),\n",
       " Row(brand='zerten'),\n",
       " Row(brand='defender'),\n",
       " Row(brand='continent'),\n",
       " Row(brand='lorelli-bertoni'),\n",
       " Row(brand='smeg'),\n",
       " Row(brand='moulinex'),\n",
       " Row(brand='mido'),\n",
       " Row(brand='ezetil'),\n",
       " Row(brand='puma'),\n",
       " Row(brand='google'),\n",
       " Row(brand='konov'),\n",
       " Row(brand='harper'),\n",
       " Row(brand='joie'),\n",
       " Row(brand='alligator'),\n",
       " Row(brand='eurolux'),\n",
       " Row(brand='zeppelin'),\n",
       " Row(brand='kitchenaid'),\n",
       " Row(brand='suunto'),\n",
       " Row(brand='peak'),\n",
       " Row(brand='catunltd'),\n",
       " Row(brand='horizont'),\n",
       " Row(brand='fubag'),\n",
       " Row(brand='ride'),\n",
       " Row(brand='palisad'),\n",
       " Row(brand='klima'),\n",
       " Row(brand='kolner'),\n",
       " Row(brand='bbk'),\n",
       " Row(brand='atlantic'),\n",
       " Row(brand='dion'),\n",
       " Row(brand='swatch'),\n",
       " Row(brand='seiko'),\n",
       " Row(brand='barneo'),\n",
       " Row(brand='head'),\n",
       " Row(brand='haro'),\n",
       " Row(brand='parkmaster'),\n",
       " Row(brand='flashpoint'),\n",
       " Row(brand='ansmann'),\n",
       " Row(brand='gulliver'),\n",
       " Row(brand='scott'),\n",
       " Row(brand='ditreex'),\n",
       " Row(brand='thermex'),\n",
       " Row(brand='inspector'),\n",
       " Row(brand='altinbasak'),\n",
       " Row(brand='bose'),\n",
       " Row(brand='galaxy'),\n",
       " Row(brand='luxell'),\n",
       " Row(brand='avel'),\n",
       " Row(brand='fabretti'),\n",
       " Row(brand='suave'),\n",
       " Row(brand='garant'),\n",
       " Row(brand='plano'),\n",
       " Row(brand='imperial'),\n",
       " Row(brand='siger'),\n",
       " Row(brand='scoole'),\n",
       " Row(brand='elikor'),\n",
       " Row(brand='eco'),\n",
       " Row(brand='heyner'),\n",
       " Row(brand='dremel'),\n",
       " Row(brand='orange'),\n",
       " Row(brand='beats'),\n",
       " Row(brand='belashoff'),\n",
       " Row(brand='disney'),\n",
       " Row(brand='alvitek'),\n",
       " Row(brand='futura'),\n",
       " Row(brand='bafang'),\n",
       " Row(brand='picard'),\n",
       " Row(brand='hertz'),\n",
       " Row(brand='crosby'),\n",
       " Row(brand='mantra'),\n",
       " Row(brand='vivitek'),\n",
       " Row(brand='phoenix'),\n",
       " Row(brand='racer'),\n",
       " Row(brand='incanto'),\n",
       " Row(brand='dyson'),\n",
       " Row(brand='dwt'),\n",
       " Row(brand='mamadoma'),\n",
       " Row(brand='gainward'),\n",
       " Row(brand='fisherman'),\n",
       " Row(brand='irobot'),\n",
       " Row(brand='alis'),\n",
       " Row(brand='scool'),\n",
       " Row(brand='pandora'),\n",
       " Row(brand='marshall'),\n",
       " Row(brand='leadbros'),\n",
       " Row(brand='redragon'),\n",
       " Row(brand='zorg'),\n",
       " Row(brand='nania'),\n",
       " Row(brand='ara'),\n",
       " Row(brand='petek'),\n",
       " Row(brand='acme'),\n",
       " Row(brand='etalon'),\n",
       " Row(brand='progress'),\n",
       " Row(brand='micuna'),\n",
       " Row(brand='mystery'),\n",
       " Row(brand='nobby'),\n",
       " Row(brand='jordan'),\n",
       " Row(brand='edon'),\n",
       " Row(brand='whirlpool'),\n",
       " Row(brand='usams'),\n",
       " Row(brand='mattel'),\n",
       " Row(brand='wellberg'),\n",
       " Row(brand='changhong'),\n",
       " Row(brand='lorus'),\n",
       " Row(brand='hoover'),\n",
       " Row(brand='merries'),\n",
       " Row(brand='ty'),\n",
       " Row(brand='cubicfun'),\n",
       " Row(brand='e-twow'),\n",
       " Row(brand='sariel'),\n",
       " Row(brand='anex'),\n",
       " Row(brand='fancy'),\n",
       " Row(brand='tuffoni'),\n",
       " Row(brand='greta'),\n",
       " Row(brand='tamaris'),\n",
       " Row(brand='playme'),\n",
       " Row(brand='babytime'),\n",
       " Row(brand='alpina'),\n",
       " Row(brand='sharking'),\n",
       " Row(brand='squier'),\n",
       " Row(brand='inoi'),\n",
       " Row(brand='silverlit'),\n",
       " Row(brand='ladida'),\n",
       " Row(brand='lezard'),\n",
       " Row(brand='pampers'),\n",
       " Row(brand='easycamp'),\n",
       " Row(brand='irbis'),\n",
       " Row(brand='turboair'),\n",
       " Row(brand='greenbike'),\n",
       " Row(brand='askona'),\n",
       " Row(brand='intego'),\n",
       " Row(brand='indiana'),\n",
       " Row(brand='clarion'),\n",
       " Row(brand='zara'),\n",
       " Row(brand='pedrollo'),\n",
       " Row(brand='bestoy'),\n",
       " Row(brand='gt'),\n",
       " Row(brand='apollo'),\n",
       " Row(brand='enermax'),\n",
       " Row(brand='uomo'),\n",
       " Row(brand='fli'),\n",
       " Row(brand='divalux'),\n",
       " Row(brand='coleman'),\n",
       " Row(brand='numark'),\n",
       " Row(brand='phantom'),\n",
       " Row(brand='citizen'),\n",
       " Row(brand='pozis'),\n",
       " Row(brand='mbs'),\n",
       " Row(brand='aivengo'),\n",
       " Row(brand='rant'),\n",
       " Row(brand='aerocool'),\n",
       " Row(brand='edge'),\n",
       " Row(brand='sly'),\n",
       " Row(brand='audison'),\n",
       " Row(brand='cenmax'),\n",
       " Row(brand='specialized'),\n",
       " Row(brand='aeg'),\n",
       " Row(brand='stanley'),\n",
       " Row(brand='evga'),\n",
       " Row(brand='neo'),\n",
       " Row(brand='segway'),\n",
       " Row(brand='mdv'),\n",
       " Row(brand='cybex'),\n",
       " Row(brand='fisher-price'),\n",
       " Row(brand='chameleon'),\n",
       " Row(brand='miracle'),\n",
       " Row(brand='cannondale'),\n",
       " Row(brand='rebus'),\n",
       " Row(brand='easywalker'),\n",
       " Row(brand='hiper'),\n",
       " Row(brand='rosa'),\n",
       " Row(brand='snowcap'),\n",
       " Row(brand='joyroom'),\n",
       " Row(brand='blackberry'),\n",
       " Row(brand='freefeet'),\n",
       " Row(brand='dahon'),\n",
       " Row(brand='elan'),\n",
       " Row(brand='berghoff'),\n",
       " Row(brand='lumme'),\n",
       " Row(brand='viking'),\n",
       " Row(brand='cavaletto'),\n",
       " Row(brand='tecno'),\n",
       " Row(brand='forza'),\n",
       " Row(brand='hanowa'),\n",
       " Row(brand='optoma'),\n",
       " Row(brand='demiray'),\n",
       " Row(brand='unit'),\n",
       " Row(brand='bork'),\n",
       " Row(brand='titan'),\n",
       " Row(brand='hycell'),\n",
       " Row(brand='mydean'),\n",
       " Row(brand='hb'),\n",
       " Row(brand='babyzz'),\n",
       " Row(brand='scher-khan'),\n",
       " Row(brand='sweety'),\n",
       " Row(brand='polti'),\n",
       " Row(brand='bmw'),\n",
       " Row(brand='roncato'),\n",
       " Row(brand='einhell'),\n",
       " Row(brand='airline'),\n",
       " Row(brand='peg-perego'),\n",
       " Row(brand='autoprofi'),\n",
       " Row(brand='amazon'),\n",
       " Row(brand='skytech'),\n",
       " Row(brand='ravak'),\n",
       " Row(brand='alca'),\n",
       " Row(brand='olto'),\n",
       " Row(brand='sjcam'),\n",
       " Row(brand='oursson'),\n",
       " Row(brand='wethepeople'),\n",
       " Row(brand='silva'),\n",
       " Row(brand='cityup'),\n",
       " Row(brand='arg'),\n",
       " Row(brand='selby'),\n",
       " Row(brand='rivalli'),\n",
       " Row(brand='prology'),\n",
       " Row(brand='nubia'),\n",
       " Row(brand='bestway'),\n",
       " Row(brand='erisson'),\n",
       " Row(brand='kaiser'),\n",
       " Row(brand='versace'),\n",
       " Row(brand='zinc'),\n",
       " Row(brand='manuoki'),\n",
       " Row(brand='microlab'),\n",
       " Row(brand='genius'),\n",
       " Row(brand='woddon'),\n",
       " Row(brand='versus'),\n",
       " Row(brand='sakura'),\n",
       " Row(brand='awei'),\n",
       " Row(brand='xp-pen'),\n",
       " Row(brand='rw'),\n",
       " Row(brand='huion'),\n",
       " Row(brand='alpicool'),\n",
       " Row(brand='prologic'),\n",
       " Row(brand='thermaltake'),\n",
       " Row(brand='bambola'),\n",
       " Row(brand='calorie'),\n",
       " Row(brand='kampfer'),\n",
       " Row(brand='redford'),\n",
       " Row(brand='pituso'),\n",
       " Row(brand='minimotors'),\n",
       " Row(brand='hitachi'),\n",
       " Row(brand='first'),\n",
       " Row(brand='ves'),\n",
       " Row(brand='romanson'),\n",
       " Row(brand='ark'),\n",
       " Row(brand='bosher'),\n",
       " Row(brand='babyzen'),\n",
       " Row(brand='weekend'),\n",
       " Row(brand='rowenta'),\n",
       " Row(brand='muqajankz'),\n",
       " Row(brand='simba'),\n",
       " Row(brand='osann'),\n",
       " Row(brand='la-di-da'),\n",
       " Row(brand='dji'),\n",
       " Row(brand='diesel'),\n",
       " Row(brand='callida'),\n",
       " Row(brand='adamex'),\n",
       " Row(brand='clatronic'),\n",
       " Row(brand='tutis'),\n",
       " Row(brand='sapphire'),\n",
       " Row(brand='zlatek'),\n",
       " Row(brand='darina'),\n",
       " Row(brand='deepcool'),\n",
       " Row(brand='persona'),\n",
       " Row(brand='laufen'),\n",
       " Row(brand='obi'),\n",
       " Row(brand='roca'),\n",
       " Row(brand='xing'),\n",
       " Row(brand='yika'),\n",
       " Row(brand='makarena'),\n",
       " Row(brand='pny'),\n",
       " Row(brand='homs'),\n",
       " Row(brand='navitel'),\n",
       " Row(brand='am.pm'),\n",
       " Row(brand='pangao'),\n",
       " Row(brand='blackvue'),\n",
       " Row(brand='flama'),\n",
       " Row(brand='roamer'),\n",
       " Row(brand='intex'),\n",
       " Row(brand='hisense'),\n",
       " Row(brand='shimano'),\n",
       " Row(brand='laurastar'),\n",
       " Row(brand='micro'),\n",
       " Row(brand='cortland'),\n",
       " Row(brand='pandect'),\n",
       " Row(brand='seagate'),\n",
       " Row(brand='chieftec'),\n",
       " Row(brand='senci'),\n",
       " Row(brand='aston'),\n",
       " Row(brand='cobra'),\n",
       " Row(brand='gree'),\n",
       " Row(brand='orico'),\n",
       " Row(brand='ikea'),\n",
       " Row(brand='micmax'),\n",
       " Row(brand='ergo'),\n",
       " Row(brand='babys'),\n",
       " Row(brand='melitta'),\n",
       " Row(brand='chairman'),\n",
       " Row(brand='betsy'),\n",
       " Row(brand='smile'),\n",
       " Row(brand='ag'),\n",
       " Row(brand='deluxe'),\n",
       " Row(brand='kacper'),\n",
       " Row(brand='shure'),\n",
       " Row(brand='chayka'),\n",
       " Row(brand='remonte'),\n",
       " Row(brand='portcase'),\n",
       " Row(brand='prolike'),\n",
       " Row(brand='quinny'),\n",
       " Row(brand='zte'),\n",
       " Row(brand='veho'),\n",
       " Row(brand='besafe'),\n",
       " Row(brand='tec'),\n",
       " Row(brand='simpleparenting'),\n",
       " Row(brand='fiio'),\n",
       " Row(brand='toyota'),\n",
       " Row(brand='stagg'),\n",
       " Row(brand='basik'),\n",
       " Row(brand='doohan'),\n",
       " Row(brand='huile'),\n",
       " Row(brand='verbatim'),\n",
       " Row(brand='wortex'),\n",
       " Row(brand='jetair'),\n",
       " Row(brand='bambini'),\n",
       " Row(brand='kelli'),\n",
       " Row(brand='danke'),\n",
       " Row(brand='wert'),\n",
       " Row(brand='bumbleride'),\n",
       " Row(brand='leader'),\n",
       " Row(brand='slaro'),\n",
       " Row(brand='tesler'),\n",
       " Row(brand='graco'),\n",
       " Row(brand='vmv'),\n",
       " Row(brand='nexttab'),\n",
       " Row(brand='daewoo'),\n",
       " Row(brand='nikon'),\n",
       " Row(brand='carver'),\n",
       " Row(brand='tundra'),\n",
       " Row(brand='xerox'),\n",
       " Row(brand='soundstream'),\n",
       " Row(brand='whistler'),\n",
       " Row(brand='altair'),\n",
       " Row(brand='gamemax'),\n",
       " Row(brand='helvi'),\n",
       " Row(brand='genau'),\n",
       " Row(brand='jura'),\n",
       " Row(brand='vestel'),\n",
       " Row(brand='gimi'),\n",
       " Row(brand='westone'),\n",
       " Row(brand='ilife'),\n",
       " Row(brand='legre'),\n",
       " Row(brand='omoikiri'),\n",
       " Row(brand='riko'),\n",
       " Row(brand='elitech'),\n",
       " Row(brand='salomon'),\n",
       " Row(brand='covani'),\n",
       " Row(brand='grohe'),\n",
       " Row(brand='bravat'),\n",
       " Row(brand='korting'),\n",
       " Row(brand='genebre'),\n",
       " Row(brand='i-baby'),\n",
       " Row(brand='mz'),\n",
       " Row(brand='niio'),\n",
       " Row(brand='farcar'),\n",
       " Row(brand='gran-stone'),\n",
       " Row(brand='starmix'),\n",
       " Row(brand='kronasteel'),\n",
       " Row(brand='kiepe'),\n",
       " Row(brand='rubineta'),\n",
       " Row(brand='domani-spa'),\n",
       " Row(brand='bissell'),\n",
       " Row(brand='konlega'),\n",
       " Row(brand='audio-technica'),\n",
       " Row(brand='adata'),\n",
       " Row(brand='antika'),\n",
       " Row(brand='teka'),\n",
       " Row(brand='incar'),\n",
       " Row(brand='gf'),\n",
       " Row(brand='blanco'),\n",
       " Row(brand='carters'),\n",
       " Row(brand='yoya'),\n",
       " Row(brand='lemark'),\n",
       " Row(brand='jet'),\n",
       " Row(brand='skagen'),\n",
       " Row(brand='artway'),\n",
       " Row(brand='rinnai'),\n",
       " Row(brand='goo.n'),\n",
       " Row(brand='caramelia'),\n",
       " Row(brand='maunfeld'),\n",
       " Row(brand='garvalin'),\n",
       " Row(brand='maisto'),\n",
       " Row(brand='benebaby'),\n",
       " Row(brand='flambeau'),\n",
       " Row(brand='kale'),\n",
       " Row(brand='focal'),\n",
       " Row(brand='axper'),\n",
       " Row(brand='tesoro')]"
      ]
     },
     "execution_count": 237,
     "metadata": {},
     "output_type": "execute_result"
    }
   ],
   "source": [
    "df.select('brand').distinct().collect()"
   ]
  },
  {
   "cell_type": "code",
   "execution_count": 434,
   "metadata": {},
   "outputs": [],
   "source": [
    "df2 = df.groupBy('brand').count().orderBy('count',ascending= False).collect()"
   ]
  },
  {
   "cell_type": "code",
   "execution_count": 436,
   "metadata": {},
   "outputs": [],
   "source": [
    "df2 = spark.createDataFrame(df2)"
   ]
  },
  {
   "cell_type": "code",
   "execution_count": 437,
   "metadata": {},
   "outputs": [],
   "source": [
    "df2 = df2.withColumnRenamed(\"brand\", \"brand2\")"
   ]
  },
  {
   "cell_type": "code",
   "execution_count": 266,
   "metadata": {},
   "outputs": [
    {
     "ename": "TypeError",
     "evalue": "data is already a DataFrame",
     "output_type": "error",
     "traceback": [
      "\u001b[0;31m---------------------------------------------------------------------------\u001b[0m",
      "\u001b[0;31mTypeError\u001b[0m                                 Traceback (most recent call last)",
      "\u001b[0;32m<ipython-input-266-d9efd703c56a>\u001b[0m in \u001b[0;36m<module>\u001b[0;34m\u001b[0m\n\u001b[0;32m----> 1\u001b[0;31m \u001b[0mdf2\u001b[0m \u001b[0;34m=\u001b[0m \u001b[0mspark\u001b[0m\u001b[0;34m.\u001b[0m\u001b[0mcreateDataFrame\u001b[0m\u001b[0;34m(\u001b[0m\u001b[0mdf2\u001b[0m\u001b[0;34m)\u001b[0m\u001b[0;34m\u001b[0m\u001b[0;34m\u001b[0m\u001b[0m\n\u001b[0m",
      "\u001b[0;32m~/opt/anaconda3/lib/python3.8/site-packages/pyspark/sql/session.py\u001b[0m in \u001b[0;36mcreateDataFrame\u001b[0;34m(self, data, schema, samplingRatio, verifySchema)\u001b[0m\n\u001b[1;32m    656\u001b[0m         \u001b[0mself\u001b[0m\u001b[0;34m.\u001b[0m\u001b[0m_jvm\u001b[0m\u001b[0;34m.\u001b[0m\u001b[0mSparkSession\u001b[0m\u001b[0;34m.\u001b[0m\u001b[0msetActiveSession\u001b[0m\u001b[0;34m(\u001b[0m\u001b[0mself\u001b[0m\u001b[0;34m.\u001b[0m\u001b[0m_jsparkSession\u001b[0m\u001b[0;34m)\u001b[0m\u001b[0;34m\u001b[0m\u001b[0;34m\u001b[0m\u001b[0m\n\u001b[1;32m    657\u001b[0m         \u001b[0;32mif\u001b[0m \u001b[0misinstance\u001b[0m\u001b[0;34m(\u001b[0m\u001b[0mdata\u001b[0m\u001b[0;34m,\u001b[0m \u001b[0mDataFrame\u001b[0m\u001b[0;34m)\u001b[0m\u001b[0;34m:\u001b[0m\u001b[0;34m\u001b[0m\u001b[0;34m\u001b[0m\u001b[0m\n\u001b[0;32m--> 658\u001b[0;31m             \u001b[0;32mraise\u001b[0m \u001b[0mTypeError\u001b[0m\u001b[0;34m(\u001b[0m\u001b[0;34m\"data is already a DataFrame\"\u001b[0m\u001b[0;34m)\u001b[0m\u001b[0;34m\u001b[0m\u001b[0;34m\u001b[0m\u001b[0m\n\u001b[0m\u001b[1;32m    659\u001b[0m \u001b[0;34m\u001b[0m\u001b[0m\n\u001b[1;32m    660\u001b[0m         \u001b[0;32mif\u001b[0m \u001b[0misinstance\u001b[0m\u001b[0;34m(\u001b[0m\u001b[0mschema\u001b[0m\u001b[0;34m,\u001b[0m \u001b[0mstr\u001b[0m\u001b[0;34m)\u001b[0m\u001b[0;34m:\u001b[0m\u001b[0;34m\u001b[0m\u001b[0;34m\u001b[0m\u001b[0m\n",
      "\u001b[0;31mTypeError\u001b[0m: data is already a DataFrame"
     ]
    }
   ],
   "source": []
  },
  {
   "cell_type": "code",
   "execution_count": 259,
   "metadata": {},
   "outputs": [],
   "source": [
    "#df3 = df.groupBy('brand').count().orderBy('count',ascending= False).collect()"
   ]
  },
  {
   "cell_type": "code",
   "execution_count": 438,
   "metadata": {},
   "outputs": [
    {
     "name": "stdout",
     "output_type": "stream",
     "text": [
      "+----------+----------+-------------------+---------------------------+-------+------+---------+------------------------------------+----+-----------+---------+--------+-------+-----+\n",
      "|event_type|product_id|category_id        |category_code              |brand  |PRICE |user_id  |user_session                        |hour|category1  |category2|bin_time|brand2 |count|\n",
      "+----------+----------+-------------------+---------------------------+-------+------+---------+------------------------------------+----+-----------+---------+--------+-------+-----+\n",
      "|view      |11600092  |2053013554566529381|computers.desktop          |edifier|22.88 |512367362|a561f062-442b-4343-86b6-5fa622f7187b|9   |computers  |desktop  |2       |edifier|2116 |\n",
      "|view      |11600092  |2053013554566529381|computers.desktop          |edifier|22.88 |512367362|a561f062-442b-4343-86b6-5fa622f7187b|9   |computers  |desktop  |2       |edifier|2116 |\n",
      "|view      |11600315  |2053013554566529381|computers.desktop          |edifier|668.48|512389399|68db3555-cfc2-4533-9f05-0207b02e34f9|11  |computers  |desktop  |2       |edifier|2116 |\n",
      "|view      |11600064  |2053013554566529381|computers.desktop          |edifier|162.94|554616482|3918dd95-6778-4625-876f-5885961134e8|12  |computers  |desktop  |2       |edifier|2116 |\n",
      "|view      |11600315  |2053013554566529381|computers.desktop          |edifier|668.48|522607039|31972c0d-920c-4f5a-9b78-aca99317e977|13  |computers  |desktop  |3       |edifier|2116 |\n",
      "|view      |11600064  |2053013554566529381|computers.desktop          |edifier|162.94|522607039|31972c0d-920c-4f5a-9b78-aca99317e977|13  |computers  |desktop  |3       |edifier|2116 |\n",
      "|view      |11600315  |2053013554566529381|computers.desktop          |edifier|668.48|532030337|071444ae-c594-42d3-a8ed-45fc6ab18638|15  |computers  |desktop  |3       |edifier|2116 |\n",
      "|view      |11600275  |2053013554566529381|computers.desktop          |edifier|46.05 |518891113|5699f3f6-8f16-4e2c-ae3b-82177028d68f|15  |computers  |desktop  |3       |edifier|2116 |\n",
      "|view      |4800424   |2053013554658804075|electronics.audio.headphone|edifier|13.28 |530879108|03d1526e-607d-4a08-8be5-5b963db79f0b|15  |electronics|audio    |3       |edifier|2116 |\n",
      "|view      |11600316  |2053013554566529381|computers.desktop          |edifier|66.64 |515557510|569a588f-9f54-420e-a4c0-651cca32a90e|15  |computers  |desktop  |3       |edifier|2116 |\n",
      "|view      |11600067  |2053013554566529381|computers.desktop          |edifier|51.46 |515557510|569a588f-9f54-420e-a4c0-651cca32a90e|15  |computers  |desktop  |3       |edifier|2116 |\n",
      "|view      |11600315  |2053013554566529381|computers.desktop          |edifier|668.48|513252885|298db03c-84b7-48dd-a2f8-8838a4fd8381|15  |computers  |desktop  |3       |edifier|2116 |\n",
      "|view      |11600315  |2053013554566529381|computers.desktop          |edifier|668.48|515064261|e7d4e420-3d2e-47a0-9c28-480c5b39e38c|17  |computers  |desktop  |3       |edifier|2116 |\n",
      "|view      |11600315  |2053013554566529381|computers.desktop          |edifier|668.48|515064261|e7d4e420-3d2e-47a0-9c28-480c5b39e38c|17  |computers  |desktop  |3       |edifier|2116 |\n",
      "|view      |11600092  |2053013554566529381|computers.desktop          |edifier|22.88 |537239982|a1a5d6d1-571c-4212-be5e-aab7bb7c55c3|18  |computers  |desktop  |3       |edifier|2116 |\n",
      "|view      |11600315  |2053013554566529381|computers.desktop          |edifier|668.48|513107493|49534fb8-4a5e-440f-b57c-887263c7d908|19  |computers  |desktop  |4       |edifier|2116 |\n",
      "|view      |11600315  |2053013554566529381|computers.desktop          |edifier|668.48|523143750|c2ff5bbe-8cbd-474f-8131-fd4ec0bfc7e8|19  |computers  |desktop  |4       |edifier|2116 |\n",
      "|view      |11600315  |2053013554566529381|computers.desktop          |edifier|668.48|523143750|c2ff5bbe-8cbd-474f-8131-fd4ec0bfc7e8|19  |computers  |desktop  |4       |edifier|2116 |\n",
      "|view      |11600069  |2053013554566529381|computers.desktop          |edifier|30.37 |519336528|4a5cd611-6125-494a-9ebd-d7fa49e609db|19  |computers  |desktop  |4       |edifier|2116 |\n",
      "|view      |11600189  |2053013554566529381|computers.desktop          |edifier|29.09 |529697424|8ee558c4-ec19-4eb3-8bd3-ec09461de3e1|19  |computers  |desktop  |4       |edifier|2116 |\n",
      "+----------+----------+-------------------+---------------------------+-------+------+---------+------------------------------------+----+-----------+---------+--------+-------+-----+\n",
      "only showing top 20 rows\n",
      "\n"
     ]
    }
   ],
   "source": [
    "df = df.join(df2,df.brand ==  df2.brand2,\"inner\") \\\n",
    "     .show(truncate=False)"
   ]
  },
  {
   "cell_type": "code",
   "execution_count": 267,
   "metadata": {},
   "outputs": [
    {
     "data": {
      "text/plain": [
       "list"
      ]
     },
     "execution_count": 267,
     "metadata": {},
     "output_type": "execute_result"
    }
   ],
   "source": [
    "type(df3)"
   ]
  },
  {
   "cell_type": "code",
   "execution_count": 268,
   "metadata": {},
   "outputs": [
    {
     "name": "stdout",
     "output_type": "stream",
     "text": [
      "+--------+-----+\n",
      "|   brand|count|\n",
      "+--------+-----+\n",
      "| samsung| 5868|\n",
      "|   apple| 4608|\n",
      "|  xiaomi| 3151|\n",
      "|  huawei| 1342|\n",
      "|      lg|  498|\n",
      "|    acer|  455|\n",
      "|   bosch|  449|\n",
      "|      hp|  434|\n",
      "|  lenovo|  431|\n",
      "|    oppo|  393|\n",
      "|elenberg|  385|\n",
      "|   casio|  348|\n",
      "|   nokia|  335|\n",
      "| redmond|  281|\n",
      "|   artel|  279|\n",
      "| respect|  267|\n",
      "|    sony|  255|\n",
      "|dauscher|  252|\n",
      "|    asus|  245|\n",
      "|    vivo|  242|\n",
      "+--------+-----+\n",
      "only showing top 20 rows\n",
      "\n"
     ]
    }
   ],
   "source": [
    "df2.show()"
   ]
  },
  {
   "cell_type": "code",
   "execution_count": 269,
   "metadata": {},
   "outputs": [],
   "source": [
    "df2 = df2.withColumnRenamed(\"brand\", \"brand2\")"
   ]
  },
  {
   "cell_type": "code",
   "execution_count": 270,
   "metadata": {},
   "outputs": [
    {
     "name": "stdout",
     "output_type": "stream",
     "text": [
      "+--------+-----+\n",
      "|  brand2|count|\n",
      "+--------+-----+\n",
      "| samsung| 5868|\n",
      "|   apple| 4608|\n",
      "|  xiaomi| 3151|\n",
      "|  huawei| 1342|\n",
      "|      lg|  498|\n",
      "|    acer|  455|\n",
      "|   bosch|  449|\n",
      "|      hp|  434|\n",
      "|  lenovo|  431|\n",
      "|    oppo|  393|\n",
      "|elenberg|  385|\n",
      "|   casio|  348|\n",
      "|   nokia|  335|\n",
      "| redmond|  281|\n",
      "|   artel|  279|\n",
      "| respect|  267|\n",
      "|    sony|  255|\n",
      "|dauscher|  252|\n",
      "|    asus|  245|\n",
      "|    vivo|  242|\n",
      "+--------+-----+\n",
      "only showing top 20 rows\n",
      "\n"
     ]
    }
   ],
   "source": [
    "df2.show()"
   ]
  },
  {
   "cell_type": "code",
   "execution_count": 442,
   "metadata": {},
   "outputs": [
    {
     "ename": "AttributeError",
     "evalue": "'NoneType' object has no attribute 'dtypes'",
     "output_type": "error",
     "traceback": [
      "\u001b[0;31m---------------------------------------------------------------------------\u001b[0m",
      "\u001b[0;31mAttributeError\u001b[0m                            Traceback (most recent call last)",
      "\u001b[0;32m<ipython-input-442-5cc0934cc03c>\u001b[0m in \u001b[0;36m<module>\u001b[0;34m\u001b[0m\n\u001b[0;32m----> 1\u001b[0;31m \u001b[0mdf\u001b[0m\u001b[0;34m.\u001b[0m\u001b[0mdtypes\u001b[0m\u001b[0;34m\u001b[0m\u001b[0;34m\u001b[0m\u001b[0m\n\u001b[0m",
      "\u001b[0;31mAttributeError\u001b[0m: 'NoneType' object has no attribute 'dtypes'"
     ]
    }
   ],
   "source": [
    "df4 = df.join(df2,df.brand ==  df2.brand2,\"inner\")"
   ]
  },
  {
   "cell_type": "code",
   "execution_count": 440,
   "metadata": {},
   "outputs": [
    {
     "data": {
      "text/plain": [
       "pyspark.sql.dataframe.DataFrame"
      ]
     },
     "execution_count": 440,
     "metadata": {},
     "output_type": "execute_result"
    }
   ],
   "source": [
    "type(df2)"
   ]
  },
  {
   "cell_type": "code",
   "execution_count": 276,
   "metadata": {},
   "outputs": [
    {
     "name": "stdout",
     "output_type": "stream",
     "text": [
      "+----------+----------+-----------+-------------+-----+-----+-------+------------+----+-----------+---------+---------+--------+------+-----+\n",
      "|event_type|product_id|category_id|category_code|brand|PRICE|user_id|user_session|hour|day_of_week|category1|category2|bin_time|brand2|count|\n",
      "+----------+----------+-----------+-------------+-----+-----+-------+------------+----+-----------+---------+---------+--------+------+-----+\n",
      "|         0|         0|          0|            0|    0|    0|      0|           0|   0|          0|        0|        0|       0|     0|    0|\n",
      "+----------+----------+-----------+-------------+-----+-----+-------+------------+----+-----------+---------+---------+--------+------+-----+\n",
      "\n"
     ]
    }
   ],
   "source": [
    "df4.select([count(when(isnull(c), c)).alias(c) for c in df4.columns]).show()"
   ]
  },
  {
   "cell_type": "code",
   "execution_count": 279,
   "metadata": {},
   "outputs": [],
   "source": [
    "from pyspark.sql.functions import when\n",
    "df4 = df4.withColumn(\"brandshrink\", when((df4['count']> 242)   , 'OTHERS').\n",
    "                     otherwise(df4['brand2']))"
   ]
  },
  {
   "cell_type": "code",
   "execution_count": 280,
   "metadata": {},
   "outputs": [
    {
     "data": {
      "text/plain": [
       "[('event_type', 'string'),\n",
       " ('product_id', 'string'),\n",
       " ('category_id', 'string'),\n",
       " ('category_code', 'string'),\n",
       " ('brand', 'string'),\n",
       " ('PRICE', 'float'),\n",
       " ('user_id', 'string'),\n",
       " ('user_session', 'string'),\n",
       " ('hour', 'int'),\n",
       " ('day_of_week', 'int'),\n",
       " ('category1', 'string'),\n",
       " ('category2', 'string'),\n",
       " ('bin_time', 'int'),\n",
       " ('brand2', 'string'),\n",
       " ('count', 'bigint'),\n",
       " ('brandshrink', 'string')]"
      ]
     },
     "execution_count": 280,
     "metadata": {},
     "output_type": "execute_result"
    }
   ],
   "source": [
    "df4.dtypes"
   ]
  },
  {
   "cell_type": "code",
   "execution_count": null,
   "metadata": {},
   "outputs": [],
   "source": [
    "df4.select"
   ]
  },
  {
   "cell_type": "code",
   "execution_count": 204,
   "metadata": {},
   "outputs": [
    {
     "ename": "AttributeError",
     "evalue": "'NoneType' object has no attribute 'head'",
     "output_type": "error",
     "traceback": [
      "\u001b[0;31m---------------------------------------------------------------------------\u001b[0m",
      "\u001b[0;31mAttributeError\u001b[0m                            Traceback (most recent call last)",
      "\u001b[0;32m<ipython-input-204-a29405eb924b>\u001b[0m in \u001b[0;36m<module>\u001b[0;34m\u001b[0m\n\u001b[0;32m----> 1\u001b[0;31m \u001b[0mdf\u001b[0m\u001b[0;34m.\u001b[0m\u001b[0mhead\u001b[0m\u001b[0;34m(\u001b[0m\u001b[0;36m5\u001b[0m\u001b[0;34m)\u001b[0m\u001b[0;34m\u001b[0m\u001b[0;34m\u001b[0m\u001b[0m\n\u001b[0m",
      "\u001b[0;31mAttributeError\u001b[0m: 'NoneType' object has no attribute 'head'"
     ]
    }
   ],
   "source": [
    "df.head(5)"
   ]
  },
  {
   "cell_type": "code",
   "execution_count": 281,
   "metadata": {},
   "outputs": [],
   "source": [
    "df5 = df4.filter((df['event_type'] == 'cart'))"
   ]
  },
  {
   "cell_type": "code",
   "execution_count": 283,
   "metadata": {},
   "outputs": [
    {
     "data": {
      "text/plain": [
       "pyspark.sql.dataframe.DataFrame"
      ]
     },
     "execution_count": 283,
     "metadata": {},
     "output_type": "execute_result"
    }
   ],
   "source": [
    "type(df5)"
   ]
  },
  {
   "cell_type": "code",
   "execution_count": 294,
   "metadata": {},
   "outputs": [],
   "source": [
    "df6 = df4.select('product_id','user_id').filter((df['event_type'] == 'purchase'))"
   ]
  },
  {
   "cell_type": "code",
   "execution_count": 285,
   "metadata": {},
   "outputs": [
    {
     "data": {
      "text/plain": [
       "pyspark.sql.dataframe.DataFrame"
      ]
     },
     "execution_count": 285,
     "metadata": {},
     "output_type": "execute_result"
    }
   ],
   "source": [
    "type(df6)"
   ]
  },
  {
   "cell_type": "code",
   "execution_count": 295,
   "metadata": {},
   "outputs": [
    {
     "data": {
      "text/plain": [
       "['product_id', 'user_id']"
      ]
     },
     "execution_count": 295,
     "metadata": {},
     "output_type": "execute_result"
    }
   ],
   "source": [
    "df6.columns"
   ]
  },
  {
   "cell_type": "code",
   "execution_count": 296,
   "metadata": {},
   "outputs": [],
   "source": [
    "df6 = df6.withColumnRenamed(\"product_id\", \"product_id2\")"
   ]
  },
  {
   "cell_type": "code",
   "execution_count": 297,
   "metadata": {},
   "outputs": [],
   "source": [
    "df6 = df6.withColumnRenamed(\"user_id\", \"user_id2\")"
   ]
  },
  {
   "cell_type": "code",
   "execution_count": 298,
   "metadata": {},
   "outputs": [
    {
     "data": {
      "text/plain": [
       "pyspark.sql.dataframe.DataFrame"
      ]
     },
     "execution_count": 298,
     "metadata": {},
     "output_type": "execute_result"
    }
   ],
   "source": [
    "type(df6)"
   ]
  },
  {
   "cell_type": "code",
   "execution_count": 299,
   "metadata": {},
   "outputs": [],
   "source": [
    "df7 = df5.join(df6,(df5.product_id ==  df6.product_id2) & (df5.user_id ==  df6.user_id2) ,\"left\")"
   ]
  },
  {
   "cell_type": "code",
   "execution_count": 300,
   "metadata": {},
   "outputs": [
    {
     "name": "stdout",
     "output_type": "stream",
     "text": [
      "(1161, 18)\n"
     ]
    }
   ],
   "source": [
    "print((df7.count(), len(df7.columns)))"
   ]
  },
  {
   "cell_type": "code",
   "execution_count": 301,
   "metadata": {},
   "outputs": [
    {
     "name": "stdout",
     "output_type": "stream",
     "text": [
      "+----------+----------+-------------------+--------------------+-------+-------+---------+--------------------+----+-----------+-----------+----------+--------+-------+-----+-----------+-----------+---------+\n",
      "|event_type|product_id|        category_id|       category_code|  brand|  PRICE|  user_id|        user_session|hour|day_of_week|  category1| category2|bin_time| brand2|count|brandshrink|product_id2| user_id2|\n",
      "+----------+----------+-------------------+--------------------+-------+-------+---------+--------------------+----+-----------+-----------+----------+--------+-------+-----+-----------+-----------+---------+\n",
      "|      cart|   1004230|2053013555631882655|electronics.smart...|  apple|1145.33|555287219|d354cf9a-ae2c-458...|   8|          3|electronics|smartphone|       2|  apple| 4608|     OTHERS|       null|     null|\n",
      "|      cart|   1004741|2053013555631882655|electronics.smart...| xiaomi| 185.71|522877326|5fa4388c-3bf7-4a6...|   9|          3|electronics|smartphone|       2| xiaomi| 3151|     OTHERS|       null|     null|\n",
      "|      cart|   1004741|2053013555631882655|electronics.smart...| xiaomi| 185.71|522877326|5fa4388c-3bf7-4a6...|   8|          3|electronics|smartphone|       2| xiaomi| 3151|     OTHERS|       null|     null|\n",
      "|      cart|   1004838|2053013555631882655|electronics.smart...|   oppo| 179.38|519484978|310cf234-b2a4-48e...|   8|          3|electronics|smartphone|       2|   oppo|  393|     OTHERS|    1004838|519484978|\n",
      "|      cart|   1004838|2053013555631882655|electronics.smart...|   oppo| 179.38|519484978|310cf234-b2a4-48e...|   8|          3|electronics|smartphone|       2|   oppo|  393|     OTHERS|    1004838|519484978|\n",
      "|      cart|   1002544|2053013555631882655|electronics.smart...|  apple| 464.13|535597803|1664252c-e49b-4e5...|   8|          3|electronics|smartphone|       2|  apple| 4608|     OTHERS|       null|     null|\n",
      "|      cart|   1002544|2053013555631882655|electronics.smart...|  apple| 464.13|535597803|1664252c-e49b-4e5...|   8|          3|electronics|smartphone|       2|  apple| 4608|     OTHERS|       null|     null|\n",
      "|      cart|   1004246|2053013555631882655|electronics.smart...|  apple| 736.18|541981044|f45085d8-75a2-4bf...|   8|          3|electronics|smartphone|       2|  apple| 4608|     OTHERS|       null|     null|\n",
      "|      cart|   1004833|2053013555631882655|electronics.smart...|samsung| 174.76|536229871|e2674777-f9e9-483...|   7|          3|electronics|smartphone|       2|samsung| 5868|     OTHERS|    1004833|536229871|\n",
      "|      cart|   1004833|2053013555631882655|electronics.smart...|samsung| 174.76|536229871|e2674777-f9e9-483...|   7|          3|electronics|smartphone|       2|samsung| 5868|     OTHERS|    1004833|536229871|\n",
      "|      cart|   1004785|2053013555631882655|electronics.smart...| huawei| 278.54|555470759|be94bf94-3e2f-4f1...|   8|          3|electronics|smartphone|       2| huawei| 1342|     OTHERS|    1004785|555470759|\n",
      "|      cart|   1004835|2053013555631882655|electronics.smart...|samsung| 230.89|532230882|58eaebc5-3e6f-496...|   8|          3|electronics|smartphone|       2|samsung| 5868|     OTHERS|    1004835|532230882|\n",
      "|      cart|   1004835|2053013555631882655|electronics.smart...|samsung| 230.89|532230882|58eaebc5-3e6f-496...|   8|          3|electronics|smartphone|       2|samsung| 5868|     OTHERS|    1004835|532230882|\n",
      "|      cart|   1004857|2053013555631882655|electronics.smart...|samsung| 130.73|551719803|26b31b4c-b7be-407...|   8|          3|electronics|smartphone|       2|samsung| 5868|     OTHERS|    1004857|551719803|\n",
      "|      cart|   1004857|2053013555631882655|electronics.smart...|samsung| 130.73|551719803|26b31b4c-b7be-407...|   8|          3|electronics|smartphone|       2|samsung| 5868|     OTHERS|    1004857|551719803|\n",
      "|      cart|   1004857|2053013555631882655|electronics.smart...|samsung| 130.73|551719803|26b31b4c-b7be-407...|   8|          3|electronics|smartphone|       2|samsung| 5868|     OTHERS|    1004857|551719803|\n",
      "|      cart|   1004857|2053013555631882655|electronics.smart...|samsung| 130.73|551719803|26b31b4c-b7be-407...|   8|          3|electronics|smartphone|       2|samsung| 5868|     OTHERS|    1004857|551719803|\n",
      "|      cart|   1004857|2053013555631882655|electronics.smart...|samsung| 130.73|551719803|26b31b4c-b7be-407...|   8|          3|electronics|smartphone|       2|samsung| 5868|     OTHERS|    1004857|551719803|\n",
      "|      cart|   1004857|2053013555631882655|electronics.smart...|samsung| 130.73|551719803|26b31b4c-b7be-407...|   8|          3|electronics|smartphone|       2|samsung| 5868|     OTHERS|    1004857|551719803|\n",
      "|      cart|   1004857|2053013555631882655|electronics.smart...|samsung| 130.73|551719803|26b31b4c-b7be-407...|   8|          3|electronics|smartphone|       2|samsung| 5868|     OTHERS|    1004857|551719803|\n",
      "+----------+----------+-------------------+--------------------+-------+-------+---------+--------------------+----+-----------+-----------+----------+--------+-------+-----+-----------+-----------+---------+\n",
      "only showing top 20 rows\n",
      "\n"
     ]
    }
   ],
   "source": [
    "df7.show()"
   ]
  },
  {
   "cell_type": "code",
   "execution_count": 306,
   "metadata": {},
   "outputs": [],
   "source": [
    "from pyspark.sql.functions import when\n",
    "df7 = df7.withColumn(\"is_purchased\", when((df7['product_id2'].isNull() ) &  (df7['user_id2'].isNull() )  , 0).\n",
    "                  otherwise(1))"
   ]
  },
  {
   "cell_type": "code",
   "execution_count": 307,
   "metadata": {},
   "outputs": [
    {
     "data": {
      "text/plain": [
       "pyspark.sql.dataframe.DataFrame"
      ]
     },
     "execution_count": 307,
     "metadata": {},
     "output_type": "execute_result"
    }
   ],
   "source": [
    "type(df7)"
   ]
  },
  {
   "cell_type": "code",
   "execution_count": 308,
   "metadata": {},
   "outputs": [
    {
     "name": "stdout",
     "output_type": "stream",
     "text": [
      "+----------+----------+-------------------+--------------------+-------+-------+---------+--------------------+----+-----------+-----------+----------+--------+-------+-----+-----------+-----------+---------+------------+\n",
      "|event_type|product_id|        category_id|       category_code|  brand|  PRICE|  user_id|        user_session|hour|day_of_week|  category1| category2|bin_time| brand2|count|brandshrink|product_id2| user_id2|is_purchased|\n",
      "+----------+----------+-------------------+--------------------+-------+-------+---------+--------------------+----+-----------+-----------+----------+--------+-------+-----+-----------+-----------+---------+------------+\n",
      "|      cart|   1004230|2053013555631882655|electronics.smart...|  apple|1145.33|555287219|d354cf9a-ae2c-458...|   8|          3|electronics|smartphone|       2|  apple| 4608|     OTHERS|       null|     null|           0|\n",
      "|      cart|   1004741|2053013555631882655|electronics.smart...| xiaomi| 185.71|522877326|5fa4388c-3bf7-4a6...|   9|          3|electronics|smartphone|       2| xiaomi| 3151|     OTHERS|       null|     null|           0|\n",
      "|      cart|   1004741|2053013555631882655|electronics.smart...| xiaomi| 185.71|522877326|5fa4388c-3bf7-4a6...|   8|          3|electronics|smartphone|       2| xiaomi| 3151|     OTHERS|       null|     null|           0|\n",
      "|      cart|   1004838|2053013555631882655|electronics.smart...|   oppo| 179.38|519484978|310cf234-b2a4-48e...|   8|          3|electronics|smartphone|       2|   oppo|  393|     OTHERS|    1004838|519484978|           1|\n",
      "|      cart|   1004838|2053013555631882655|electronics.smart...|   oppo| 179.38|519484978|310cf234-b2a4-48e...|   8|          3|electronics|smartphone|       2|   oppo|  393|     OTHERS|    1004838|519484978|           1|\n",
      "|      cart|   1002544|2053013555631882655|electronics.smart...|  apple| 464.13|535597803|1664252c-e49b-4e5...|   8|          3|electronics|smartphone|       2|  apple| 4608|     OTHERS|       null|     null|           0|\n",
      "|      cart|   1002544|2053013555631882655|electronics.smart...|  apple| 464.13|535597803|1664252c-e49b-4e5...|   8|          3|electronics|smartphone|       2|  apple| 4608|     OTHERS|       null|     null|           0|\n",
      "|      cart|   1004246|2053013555631882655|electronics.smart...|  apple| 736.18|541981044|f45085d8-75a2-4bf...|   8|          3|electronics|smartphone|       2|  apple| 4608|     OTHERS|       null|     null|           0|\n",
      "|      cart|   1004833|2053013555631882655|electronics.smart...|samsung| 174.76|536229871|e2674777-f9e9-483...|   7|          3|electronics|smartphone|       2|samsung| 5868|     OTHERS|    1004833|536229871|           1|\n",
      "|      cart|   1004833|2053013555631882655|electronics.smart...|samsung| 174.76|536229871|e2674777-f9e9-483...|   7|          3|electronics|smartphone|       2|samsung| 5868|     OTHERS|    1004833|536229871|           1|\n",
      "|      cart|   1004785|2053013555631882655|electronics.smart...| huawei| 278.54|555470759|be94bf94-3e2f-4f1...|   8|          3|electronics|smartphone|       2| huawei| 1342|     OTHERS|    1004785|555470759|           1|\n",
      "|      cart|   1004835|2053013555631882655|electronics.smart...|samsung| 230.89|532230882|58eaebc5-3e6f-496...|   8|          3|electronics|smartphone|       2|samsung| 5868|     OTHERS|    1004835|532230882|           1|\n",
      "|      cart|   1004835|2053013555631882655|electronics.smart...|samsung| 230.89|532230882|58eaebc5-3e6f-496...|   8|          3|electronics|smartphone|       2|samsung| 5868|     OTHERS|    1004835|532230882|           1|\n",
      "|      cart|   1004857|2053013555631882655|electronics.smart...|samsung| 130.73|551719803|26b31b4c-b7be-407...|   8|          3|electronics|smartphone|       2|samsung| 5868|     OTHERS|    1004857|551719803|           1|\n",
      "|      cart|   1004857|2053013555631882655|electronics.smart...|samsung| 130.73|551719803|26b31b4c-b7be-407...|   8|          3|electronics|smartphone|       2|samsung| 5868|     OTHERS|    1004857|551719803|           1|\n",
      "|      cart|   1004857|2053013555631882655|electronics.smart...|samsung| 130.73|551719803|26b31b4c-b7be-407...|   8|          3|electronics|smartphone|       2|samsung| 5868|     OTHERS|    1004857|551719803|           1|\n",
      "|      cart|   1004857|2053013555631882655|electronics.smart...|samsung| 130.73|551719803|26b31b4c-b7be-407...|   8|          3|electronics|smartphone|       2|samsung| 5868|     OTHERS|    1004857|551719803|           1|\n",
      "|      cart|   1004857|2053013555631882655|electronics.smart...|samsung| 130.73|551719803|26b31b4c-b7be-407...|   8|          3|electronics|smartphone|       2|samsung| 5868|     OTHERS|    1004857|551719803|           1|\n",
      "|      cart|   1004857|2053013555631882655|electronics.smart...|samsung| 130.73|551719803|26b31b4c-b7be-407...|   8|          3|electronics|smartphone|       2|samsung| 5868|     OTHERS|    1004857|551719803|           1|\n",
      "|      cart|   1004857|2053013555631882655|electronics.smart...|samsung| 130.73|551719803|26b31b4c-b7be-407...|   8|          3|electronics|smartphone|       2|samsung| 5868|     OTHERS|    1004857|551719803|           1|\n",
      "+----------+----------+-------------------+--------------------+-------+-------+---------+--------------------+----+-----------+-----------+----------+--------+-------+-----+-----------+-----------+---------+------------+\n",
      "only showing top 20 rows\n",
      "\n"
     ]
    }
   ],
   "source": [
    "df7.show()"
   ]
  },
  {
   "cell_type": "code",
   "execution_count": 309,
   "metadata": {},
   "outputs": [
    {
     "name": "stdout",
     "output_type": "stream",
     "text": [
      "+----------+----------+-------------------+--------------------+-------+-------+---------+--------------------+----+-----------+-----------+----------+--------+-------+-----+-----------+-----------+---------+------------+\n",
      "|event_type|product_id|        category_id|       category_code|  brand|  PRICE|  user_id|        user_session|hour|day_of_week|  category1| category2|bin_time| brand2|count|brandshrink|product_id2| user_id2|is_purchased|\n",
      "+----------+----------+-------------------+--------------------+-------+-------+---------+--------------------+----+-----------+-----------+----------+--------+-------+-----+-----------+-----------+---------+------------+\n",
      "|      cart|   1004230|2053013555631882655|electronics.smart...|  apple|1145.33|555287219|d354cf9a-ae2c-458...|   8|          3|electronics|smartphone|       2|  apple| 4608|     OTHERS|       null|     null|           0|\n",
      "|      cart|   1004741|2053013555631882655|electronics.smart...| xiaomi| 185.71|522877326|5fa4388c-3bf7-4a6...|   9|          3|electronics|smartphone|       2| xiaomi| 3151|     OTHERS|       null|     null|           0|\n",
      "|      cart|   1004741|2053013555631882655|electronics.smart...| xiaomi| 185.71|522877326|5fa4388c-3bf7-4a6...|   8|          3|electronics|smartphone|       2| xiaomi| 3151|     OTHERS|       null|     null|           0|\n",
      "|      cart|   1004838|2053013555631882655|electronics.smart...|   oppo| 179.38|519484978|310cf234-b2a4-48e...|   8|          3|electronics|smartphone|       2|   oppo|  393|     OTHERS|    1004838|519484978|           1|\n",
      "|      cart|   1004838|2053013555631882655|electronics.smart...|   oppo| 179.38|519484978|310cf234-b2a4-48e...|   8|          3|electronics|smartphone|       2|   oppo|  393|     OTHERS|    1004838|519484978|           1|\n",
      "|      cart|   1002544|2053013555631882655|electronics.smart...|  apple| 464.13|535597803|1664252c-e49b-4e5...|   8|          3|electronics|smartphone|       2|  apple| 4608|     OTHERS|       null|     null|           0|\n",
      "|      cart|   1002544|2053013555631882655|electronics.smart...|  apple| 464.13|535597803|1664252c-e49b-4e5...|   8|          3|electronics|smartphone|       2|  apple| 4608|     OTHERS|       null|     null|           0|\n",
      "|      cart|   1004246|2053013555631882655|electronics.smart...|  apple| 736.18|541981044|f45085d8-75a2-4bf...|   8|          3|electronics|smartphone|       2|  apple| 4608|     OTHERS|       null|     null|           0|\n",
      "|      cart|   1004833|2053013555631882655|electronics.smart...|samsung| 174.76|536229871|e2674777-f9e9-483...|   7|          3|electronics|smartphone|       2|samsung| 5868|     OTHERS|    1004833|536229871|           1|\n",
      "|      cart|   1004833|2053013555631882655|electronics.smart...|samsung| 174.76|536229871|e2674777-f9e9-483...|   7|          3|electronics|smartphone|       2|samsung| 5868|     OTHERS|    1004833|536229871|           1|\n",
      "|      cart|   1004785|2053013555631882655|electronics.smart...| huawei| 278.54|555470759|be94bf94-3e2f-4f1...|   8|          3|electronics|smartphone|       2| huawei| 1342|     OTHERS|    1004785|555470759|           1|\n",
      "|      cart|   1004835|2053013555631882655|electronics.smart...|samsung| 230.89|532230882|58eaebc5-3e6f-496...|   8|          3|electronics|smartphone|       2|samsung| 5868|     OTHERS|    1004835|532230882|           1|\n",
      "|      cart|   1004835|2053013555631882655|electronics.smart...|samsung| 230.89|532230882|58eaebc5-3e6f-496...|   8|          3|electronics|smartphone|       2|samsung| 5868|     OTHERS|    1004835|532230882|           1|\n",
      "|      cart|   1004857|2053013555631882655|electronics.smart...|samsung| 130.73|551719803|26b31b4c-b7be-407...|   8|          3|electronics|smartphone|       2|samsung| 5868|     OTHERS|    1004857|551719803|           1|\n",
      "|      cart|   1004857|2053013555631882655|electronics.smart...|samsung| 130.73|551719803|26b31b4c-b7be-407...|   8|          3|electronics|smartphone|       2|samsung| 5868|     OTHERS|    1004857|551719803|           1|\n",
      "|      cart|   1004857|2053013555631882655|electronics.smart...|samsung| 130.73|551719803|26b31b4c-b7be-407...|   8|          3|electronics|smartphone|       2|samsung| 5868|     OTHERS|    1004857|551719803|           1|\n",
      "|      cart|   1004857|2053013555631882655|electronics.smart...|samsung| 130.73|551719803|26b31b4c-b7be-407...|   8|          3|electronics|smartphone|       2|samsung| 5868|     OTHERS|    1004857|551719803|           1|\n",
      "|      cart|   1004857|2053013555631882655|electronics.smart...|samsung| 130.73|551719803|26b31b4c-b7be-407...|   8|          3|electronics|smartphone|       2|samsung| 5868|     OTHERS|    1004857|551719803|           1|\n",
      "|      cart|   1004857|2053013555631882655|electronics.smart...|samsung| 130.73|551719803|26b31b4c-b7be-407...|   8|          3|electronics|smartphone|       2|samsung| 5868|     OTHERS|    1004857|551719803|           1|\n",
      "|      cart|   1004857|2053013555631882655|electronics.smart...|samsung| 130.73|551719803|26b31b4c-b7be-407...|   8|          3|electronics|smartphone|       2|samsung| 5868|     OTHERS|    1004857|551719803|           1|\n",
      "+----------+----------+-------------------+--------------------+-------+-------+---------+--------------------+----+-----------+-----------+----------+--------+-------+-----+-----------+-----------+---------+------------+\n",
      "only showing top 20 rows\n",
      "\n"
     ]
    }
   ],
   "source": [
    "df7.show()"
   ]
  },
  {
   "cell_type": "code",
   "execution_count": 310,
   "metadata": {},
   "outputs": [
    {
     "name": "stdout",
     "output_type": "stream",
     "text": [
      "+----------+----------+-----------+-------------+-----+-----+-------+------------+----+-----------+---------+---------+--------+\n",
      "|event_type|product_id|category_id|category_code|brand|PRICE|user_id|user_session|hour|day_of_week|category1|category2|bin_time|\n",
      "+----------+----------+-----------+-------------+-----+-----+-------+------------+----+-----------+---------+---------+--------+\n",
      "|         0|         0|          0|            0|    0|    0|      0|           0|   0|          0|        0|        0|       0|\n",
      "+----------+----------+-----------+-------------+-----+-----+-------+------------+----+-----------+---------+---------+--------+\n",
      "\n"
     ]
    }
   ],
   "source": [
    "#check nulls\n",
    "\n",
    "\n",
    "df7.select([count(when(isnull(c), c)).alias(c) for c in df.columns]).show()"
   ]
  },
  {
   "cell_type": "code",
   "execution_count": 312,
   "metadata": {},
   "outputs": [
    {
     "name": "stdout",
     "output_type": "stream",
     "text": [
      "(1161, 19)\n"
     ]
    }
   ],
   "source": [
    "print((df7.count(), len(df7.columns)))"
   ]
  },
  {
   "cell_type": "code",
   "execution_count": 313,
   "metadata": {},
   "outputs": [],
   "source": [
    "df8 = df7"
   ]
  },
  {
   "cell_type": "code",
   "execution_count": 314,
   "metadata": {},
   "outputs": [
    {
     "data": {
      "text/plain": [
       "pyspark.sql.dataframe.DataFrame"
      ]
     },
     "execution_count": 314,
     "metadata": {},
     "output_type": "execute_result"
    }
   ],
   "source": [
    "type(df8)"
   ]
  },
  {
   "cell_type": "code",
   "execution_count": 315,
   "metadata": {},
   "outputs": [],
   "source": [
    "df7 = df7.drop('category_id','category_code','user_id2','product_id2','hour','brand2')"
   ]
  },
  {
   "cell_type": "code",
   "execution_count": 316,
   "metadata": {},
   "outputs": [
    {
     "name": "stdout",
     "output_type": "stream",
     "text": [
      "+----------+----------+------+-------+---------+--------------------+-----------+-----------+----------+--------+-----+-----------+------------+\n",
      "|event_type|product_id| brand|  PRICE|  user_id|        user_session|day_of_week|  category1| category2|bin_time|count|brandshrink|is_purchased|\n",
      "+----------+----------+------+-------+---------+--------------------+-----------+-----------+----------+--------+-----+-----------+------------+\n",
      "|      cart|   1004230| apple|1145.33|555287219|d354cf9a-ae2c-458...|          3|electronics|smartphone|       2| 4608|     OTHERS|           0|\n",
      "|      cart|   1004741|xiaomi| 185.71|522877326|5fa4388c-3bf7-4a6...|          3|electronics|smartphone|       2| 3151|     OTHERS|           0|\n",
      "+----------+----------+------+-------+---------+--------------------+-----------+-----------+----------+--------+-----+-----------+------------+\n",
      "only showing top 2 rows\n",
      "\n"
     ]
    }
   ],
   "source": [
    "df7.show(2)"
   ]
  },
  {
   "cell_type": "code",
   "execution_count": 320,
   "metadata": {},
   "outputs": [],
   "source": [
    "df7 = df7.withColumn(\"brandshrink2\", when((df7['count']< '242')   , 'OTHERS').\n",
    "                     otherwise(df7['brand']))"
   ]
  },
  {
   "cell_type": "code",
   "execution_count": 374,
   "metadata": {},
   "outputs": [],
   "source": [
    "df7 = df7.drop('brandshrink','event_type','day_of_week','count')"
   ]
  },
  {
   "cell_type": "code",
   "execution_count": 358,
   "metadata": {},
   "outputs": [
    {
     "name": "stdout",
     "output_type": "stream",
     "text": [
      "+----------+-------+-----------+-----------+----------+--------+-----+------------+----------------+\n",
      "|product_id|  PRICE|day_of_week|  category1| category2|bin_time|count|brandshrink2|is_purchased_str|\n",
      "+----------+-------+-----------+-----------+----------+--------+-----+------------+----------------+\n",
      "|   1004230|1145.33|          3|electronics|smartphone|       2| 4608|       apple|               0|\n",
      "|   1004741| 185.71|          3|electronics|smartphone|       2| 3151|      xiaomi|               0|\n",
      "+----------+-------+-----------+-----------+----------+--------+-----+------------+----------------+\n",
      "only showing top 2 rows\n",
      "\n"
     ]
    }
   ],
   "source": [
    "df7.show(2)"
   ]
  },
  {
   "cell_type": "code",
   "execution_count": 327,
   "metadata": {},
   "outputs": [],
   "source": [
    "df7 = df7.drop('brand','user_id','user_session')"
   ]
  },
  {
   "cell_type": "code",
   "execution_count": 328,
   "metadata": {},
   "outputs": [
    {
     "name": "stdout",
     "output_type": "stream",
     "text": [
      "+----------+----------+-----+-----------+---------+---------+--------+-----+------------+------------+\n",
      "|event_type|product_id|PRICE|day_of_week|category1|category2|bin_time|count|is_purchased|brandshrink2|\n",
      "+----------+----------+-----+-----------+---------+---------+--------+-----+------------+------------+\n",
      "|         0|         0|    0|          0|        0|        0|       0|    0|           0|           0|\n",
      "+----------+----------+-----+-----------+---------+---------+--------+-----+------------+------------+\n",
      "\n"
     ]
    }
   ],
   "source": [
    "df7.select([count(when(isnull(c), c)).alias(c) for c in df7.columns]).show()"
   ]
  },
  {
   "cell_type": "code",
   "execution_count": 375,
   "metadata": {},
   "outputs": [],
   "source": [
    "categorical_features = ['product_id' ,'category1','category2','bin_time','brandshrink2']\n",
    "\n",
    "continuous_features =['PRICE']\n",
    "\n",
    "\n"
   ]
  },
  {
   "cell_type": "code",
   "execution_count": 376,
   "metadata": {},
   "outputs": [],
   "source": [
    "#Spark pipeline\n",
    "\n",
    "from pyspark.ml.feature import OneHotEncoder, StringIndexer , VectorAssembler\n",
    "\n",
    "stages =[ ]"
   ]
  },
  {
   "cell_type": "code",
   "execution_count": 377,
   "metadata": {},
   "outputs": [],
   "source": [
    "#String Indexer  and OneHotEncoder\n",
    "\n",
    "for categoricalCol in categorical_features:\n",
    "    stringIndexer = StringIndexer(inputCol =categoricalCol , outputCol = categoricalCol + '_Index' )\n",
    "    encoder = OneHotEncoder(inputCols = [stringIndexer.getOutputCol()] , outputCols = [categoricalCol + '_encoded'])\n",
    "    stages +=[stringIndexer,encoder ]\n",
    "\n",
    "\n",
    "\n",
    "\n"
   ]
  },
  {
   "cell_type": "code",
   "execution_count": 378,
   "metadata": {},
   "outputs": [
    {
     "data": {
      "text/plain": [
       "[('product_id', 'string'),\n",
       " ('PRICE', 'float'),\n",
       " ('category1', 'string'),\n",
       " ('category2', 'string'),\n",
       " ('bin_time', 'int'),\n",
       " ('brandshrink2', 'string'),\n",
       " ('is_purchased_str', 'string')]"
      ]
     },
     "execution_count": 378,
     "metadata": {},
     "output_type": "execute_result"
    }
   ],
   "source": [
    "df7.dtypes"
   ]
  },
  {
   "cell_type": "code",
   "execution_count": 345,
   "metadata": {},
   "outputs": [],
   "source": [
    "from pyspark.sql.types import IntegerType,BooleanType,StringType\n",
    "\n",
    "df7 = df7.withColumn(\"is_purchased_str\", df7['is_purchased'].cast(StringType()))"
   ]
  },
  {
   "cell_type": "code",
   "execution_count": 346,
   "metadata": {},
   "outputs": [
    {
     "data": {
      "text/plain": [
       "[('event_type', 'string'),\n",
       " ('product_id', 'string'),\n",
       " ('PRICE', 'float'),\n",
       " ('day_of_week', 'int'),\n",
       " ('category1', 'string'),\n",
       " ('category2', 'string'),\n",
       " ('bin_time', 'int'),\n",
       " ('count', 'bigint'),\n",
       " ('is_purchased', 'int'),\n",
       " ('brandshrink2', 'string'),\n",
       " ('is_purchased_str', 'string')]"
      ]
     },
     "execution_count": 346,
     "metadata": {},
     "output_type": "execute_result"
    }
   ],
   "source": [
    "df7.dtypes"
   ]
  },
  {
   "cell_type": "code",
   "execution_count": 347,
   "metadata": {},
   "outputs": [],
   "source": [
    "df7 = df7.drop('is_purchased')"
   ]
  },
  {
   "cell_type": "code",
   "execution_count": 379,
   "metadata": {},
   "outputs": [],
   "source": [
    "#encoding target variable\n",
    "\n",
    "label_stringIndx = StringIndexer(inputCol ='is_purchased_str' , outputCol = 'label' )\n",
    "\n",
    "stages += [label_stringIndx]"
   ]
  },
  {
   "cell_type": "code",
   "execution_count": null,
   "metadata": {},
   "outputs": [],
   "source": []
  },
  {
   "cell_type": "code",
   "execution_count": null,
   "metadata": {},
   "outputs": [],
   "source": []
  },
  {
   "cell_type": "code",
   "execution_count": null,
   "metadata": {},
   "outputs": [],
   "source": []
  },
  {
   "cell_type": "code",
   "execution_count": 380,
   "metadata": {},
   "outputs": [
    {
     "data": {
      "text/plain": [
       "[StringIndexer_ee4fd732bac6,\n",
       " OneHotEncoder_3f7a6b28285d,\n",
       " StringIndexer_cce5d1f5ed96,\n",
       " OneHotEncoder_dae5c50d0692,\n",
       " StringIndexer_f20b6bb21ef4,\n",
       " OneHotEncoder_da6887a0e0db,\n",
       " StringIndexer_b207ad488721,\n",
       " OneHotEncoder_27a7608210f1,\n",
       " StringIndexer_e395d3638dee,\n",
       " OneHotEncoder_76f7d25b375e,\n",
       " StringIndexer_ba0ac845a097]"
      ]
     },
     "execution_count": 380,
     "metadata": {},
     "output_type": "execute_result"
    }
   ],
   "source": [
    "stages"
   ]
  },
  {
   "cell_type": "code",
   "execution_count": 381,
   "metadata": {},
   "outputs": [],
   "source": [
    "#vector Assemble\n",
    "\n",
    "assemblerInputs = [c +\"_encoded\" for c in categorical_features] + continuous_features\n",
    "\n",
    "assembler = VectorAssembler(inputCols = assemblerInputs , outputCol = \"features\" )\n",
    "\n",
    "stages += [assembler]"
   ]
  },
  {
   "cell_type": "code",
   "execution_count": 382,
   "metadata": {},
   "outputs": [
    {
     "data": {
      "text/plain": [
       "[StringIndexer_ee4fd732bac6,\n",
       " OneHotEncoder_3f7a6b28285d,\n",
       " StringIndexer_cce5d1f5ed96,\n",
       " OneHotEncoder_dae5c50d0692,\n",
       " StringIndexer_f20b6bb21ef4,\n",
       " OneHotEncoder_da6887a0e0db,\n",
       " StringIndexer_b207ad488721,\n",
       " OneHotEncoder_27a7608210f1,\n",
       " StringIndexer_e395d3638dee,\n",
       " OneHotEncoder_76f7d25b375e,\n",
       " StringIndexer_ba0ac845a097,\n",
       " VectorAssembler_c03cea389863]"
      ]
     },
     "execution_count": 382,
     "metadata": {},
     "output_type": "execute_result"
    }
   ],
   "source": [
    "stages"
   ]
  },
  {
   "cell_type": "code",
   "execution_count": 383,
   "metadata": {},
   "outputs": [
    {
     "data": {
      "text/plain": [
       "Pipeline_60d6e03e7204"
      ]
     },
     "execution_count": 383,
     "metadata": {},
     "output_type": "execute_result"
    }
   ],
   "source": [
    "#LOADING ALL STEPS IN THE PIPELINE\n",
    "\n",
    "from pyspark.ml import Pipeline\n",
    "\n",
    "pipeline = Pipeline(stages = stages)\n",
    "\n",
    "pipeline"
   ]
  },
  {
   "cell_type": "code",
   "execution_count": 384,
   "metadata": {},
   "outputs": [],
   "source": [
    "pipelineModel = pipeline.fit(df7)"
   ]
  },
  {
   "cell_type": "code",
   "execution_count": 385,
   "metadata": {},
   "outputs": [],
   "source": [
    "df7 = pipelineModel.transform(df7)"
   ]
  },
  {
   "cell_type": "code",
   "execution_count": 386,
   "metadata": {},
   "outputs": [
    {
     "name": "stdout",
     "output_type": "stream",
     "text": [
      "+----------+-------+-----------+----------+--------+------------+----------------+----------------+------------------+---------------+-----------------+---------------+-----------------+--------------+----------------+------------------+--------------------+-----+--------------------+\n",
      "|product_id|  PRICE|  category1| category2|bin_time|brandshrink2|is_purchased_str|product_id_Index|product_id_encoded|category1_Index|category1_encoded|category2_Index|category2_encoded|bin_time_Index|bin_time_encoded|brandshrink2_Index|brandshrink2_encoded|label|            features|\n",
      "+----------+-------+-----------+----------+--------+------------+----------------+----------------+------------------+---------------+-----------------+---------------+-----------------+--------------+----------------+------------------+--------------------+-----+--------------------+\n",
      "|   1004230|1145.33|electronics|smartphone|       2|       apple|               0|            85.0|  (152,[85],[1.0])|            0.0|    (6,[0],[1.0])|            0.0|   (13,[0],[1.0])|           0.0|   (1,[0],[1.0])|               0.0|      (12,[0],[1.0])|  1.0|(185,[85,152,158,...|\n",
      "|   1004741| 185.71|electronics|smartphone|       2|      xiaomi|               0|             6.0|   (152,[6],[1.0])|            0.0|    (6,[0],[1.0])|            0.0|   (13,[0],[1.0])|           0.0|   (1,[0],[1.0])|               2.0|      (12,[2],[1.0])|  1.0|(185,[6,152,158,1...|\n",
      "|   1004741| 185.71|electronics|smartphone|       2|      xiaomi|               0|             6.0|   (152,[6],[1.0])|            0.0|    (6,[0],[1.0])|            0.0|   (13,[0],[1.0])|           0.0|   (1,[0],[1.0])|               2.0|      (12,[2],[1.0])|  1.0|(185,[6,152,158,1...|\n",
      "|   1004838| 179.38|electronics|smartphone|       2|        oppo|               1|            10.0|  (152,[10],[1.0])|            0.0|    (6,[0],[1.0])|            0.0|   (13,[0],[1.0])|           0.0|   (1,[0],[1.0])|               5.0|      (12,[5],[1.0])|  0.0|(185,[10,152,158,...|\n",
      "|   1004838| 179.38|electronics|smartphone|       2|        oppo|               1|            10.0|  (152,[10],[1.0])|            0.0|    (6,[0],[1.0])|            0.0|   (13,[0],[1.0])|           0.0|   (1,[0],[1.0])|               5.0|      (12,[5],[1.0])|  0.0|(185,[10,152,158,...|\n",
      "+----------+-------+-----------+----------+--------+------------+----------------+----------------+------------------+---------------+-----------------+---------------+-----------------+--------------+----------------+------------------+--------------------+-----+--------------------+\n",
      "only showing top 5 rows\n",
      "\n"
     ]
    }
   ],
   "source": [
    "df7.show(5)"
   ]
  },
  {
   "cell_type": "code",
   "execution_count": 387,
   "metadata": {},
   "outputs": [
    {
     "name": "stdout",
     "output_type": "stream",
     "text": [
      "root\n",
      " |-- product_id: string (nullable = true)\n",
      " |-- PRICE: float (nullable = true)\n",
      " |-- category1: string (nullable = true)\n",
      " |-- category2: string (nullable = true)\n",
      " |-- bin_time: integer (nullable = true)\n",
      " |-- brandshrink2: string (nullable = true)\n",
      " |-- is_purchased_str: string (nullable = false)\n",
      " |-- product_id_Index: double (nullable = false)\n",
      " |-- product_id_encoded: vector (nullable = true)\n",
      " |-- category1_Index: double (nullable = false)\n",
      " |-- category1_encoded: vector (nullable = true)\n",
      " |-- category2_Index: double (nullable = false)\n",
      " |-- category2_encoded: vector (nullable = true)\n",
      " |-- bin_time_Index: double (nullable = false)\n",
      " |-- bin_time_encoded: vector (nullable = true)\n",
      " |-- brandshrink2_Index: double (nullable = false)\n",
      " |-- brandshrink2_encoded: vector (nullable = true)\n",
      " |-- label: double (nullable = false)\n",
      " |-- features: vector (nullable = true)\n",
      "\n"
     ]
    }
   ],
   "source": [
    "df7.printSchema()"
   ]
  },
  {
   "cell_type": "code",
   "execution_count": 388,
   "metadata": {},
   "outputs": [
    {
     "name": "stdout",
     "output_type": "stream",
     "text": [
      "+-----+-----+\n",
      "|label|count|\n",
      "+-----+-----+\n",
      "|  0.0|  965|\n",
      "|  1.0|  196|\n",
      "+-----+-----+\n",
      "\n"
     ]
    }
   ],
   "source": [
    "df7.groupBy(\"label\").count().orderBy('count', ascending= False).show()"
   ]
  },
  {
   "cell_type": "code",
   "execution_count": 389,
   "metadata": {},
   "outputs": [],
   "source": [
    "train , test = df7.randomSplit([0.7,0.3], seed =100)"
   ]
  },
  {
   "cell_type": "code",
   "execution_count": 390,
   "metadata": {},
   "outputs": [
    {
     "data": {
      "text/plain": [
       "802"
      ]
     },
     "execution_count": 390,
     "metadata": {},
     "output_type": "execute_result"
    }
   ],
   "source": [
    "train.count()"
   ]
  },
  {
   "cell_type": "code",
   "execution_count": 391,
   "metadata": {},
   "outputs": [
    {
     "data": {
      "text/plain": [
       "359"
      ]
     },
     "execution_count": 391,
     "metadata": {},
     "output_type": "execute_result"
    }
   ],
   "source": [
    "test.count()"
   ]
  },
  {
   "cell_type": "code",
   "execution_count": 395,
   "metadata": {},
   "outputs": [],
   "source": [
    "#from pyspark.ml.classification import RandomForestClassifer\n",
    "from pyspark.ml.classification import RandomForestClassifier"
   ]
  },
  {
   "cell_type": "code",
   "execution_count": 397,
   "metadata": {},
   "outputs": [],
   "source": [
    "rf = RandomForestClassifier( featuresCol = 'features' , labelCol ='label', maxDepth =5, impurity ='gini', numTrees =25, seed=100)"
   ]
  },
  {
   "cell_type": "code",
   "execution_count": 398,
   "metadata": {},
   "outputs": [],
   "source": [
    "rfmodel = rf.fit(train)"
   ]
  },
  {
   "cell_type": "code",
   "execution_count": 400,
   "metadata": {},
   "outputs": [
    {
     "name": "stdout",
     "output_type": "stream",
     "text": [
      "RandomForestClassificationModel: uid=RandomForestClassifier_fb203363240b, numTrees=25, numClasses=2, numFeatures=185\n",
      "  Tree 0 (weight 1.0):\n",
      "    If (feature 28 in {1.0})\n",
      "     Predict: 1.0\n",
      "    Else (feature 28 not in {1.0})\n",
      "     If (feature 184 <= 459.7149963378906)\n",
      "      If (feature 173 in {1.0})\n",
      "       If (feature 160 in {1.0})\n",
      "        Predict: 1.0\n",
      "       Else (feature 160 not in {1.0})\n",
      "        If (feature 113 in {1.0})\n",
      "         Predict: 1.0\n",
      "        Else (feature 113 not in {1.0})\n",
      "         Predict: 0.0\n",
      "      Else (feature 173 not in {1.0})\n",
      "       If (feature 160 in {1.0})\n",
      "        Predict: 0.0\n",
      "       Else (feature 160 not in {1.0})\n",
      "        If (feature 172 in {1.0})\n",
      "         Predict: 1.0\n",
      "        Else (feature 172 not in {1.0})\n",
      "         Predict: 0.0\n",
      "     Else (feature 184 > 459.7149963378906)\n",
      "      If (feature 172 in {0.0})\n",
      "       If (feature 184 <= 705.9500122070312)\n",
      "        Predict: 0.0\n",
      "       Else (feature 184 > 705.9500122070312)\n",
      "        Predict: 1.0\n",
      "      Else (feature 172 not in {0.0})\n",
      "       If (feature 184 <= 515.2149963378906)\n",
      "        Predict: 0.0\n",
      "       Else (feature 184 > 515.2149963378906)\n",
      "        If (feature 74 in {1.0})\n",
      "         Predict: 1.0\n",
      "        Else (feature 74 not in {1.0})\n",
      "         Predict: 0.0\n",
      "  Tree 1 (weight 1.0):\n",
      "    If (feature 124 in {1.0})\n",
      "     Predict: 1.0\n",
      "    Else (feature 124 not in {1.0})\n",
      "     If (feature 54 in {1.0})\n",
      "      Predict: 1.0\n",
      "     Else (feature 54 not in {1.0})\n",
      "      If (feature 172 in {1.0})\n",
      "       Predict: 0.0\n",
      "      Else (feature 172 not in {1.0})\n",
      "       If (feature 184 <= 391.9550018310547)\n",
      "        If (feature 46 in {1.0})\n",
      "         Predict: 1.0\n",
      "        Else (feature 46 not in {1.0})\n",
      "         Predict: 0.0\n",
      "       Else (feature 184 > 391.9550018310547)\n",
      "        If (feature 153 in {1.0})\n",
      "         Predict: 1.0\n",
      "        Else (feature 153 not in {1.0})\n",
      "         Predict: 0.0\n",
      "  Tree 2 (weight 1.0):\n",
      "    If (feature 172 in {1.0})\n",
      "     If (feature 162 in {1.0})\n",
      "      Predict: 0.0\n",
      "     Else (feature 162 not in {1.0})\n",
      "      If (feature 159 in {1.0})\n",
      "       Predict: 1.0\n",
      "      Else (feature 159 not in {1.0})\n",
      "       Predict: 0.0\n",
      "    Else (feature 172 not in {1.0})\n",
      "     If (feature 173 in {0.0})\n",
      "      If (feature 167 in {1.0})\n",
      "       Predict: 1.0\n",
      "      Else (feature 167 not in {1.0})\n",
      "       If (feature 178 in {1.0})\n",
      "        Predict: 1.0\n",
      "       Else (feature 178 not in {1.0})\n",
      "        If (feature 148 in {1.0})\n",
      "         Predict: 1.0\n",
      "        Else (feature 148 not in {1.0})\n",
      "         Predict: 0.0\n",
      "     Else (feature 173 not in {0.0})\n",
      "      If (feature 184 <= 163.34500122070312)\n",
      "       If (feature 159 in {1.0})\n",
      "        Predict: 1.0\n",
      "       Else (feature 159 not in {1.0})\n",
      "        If (feature 184 <= 130.85499572753906)\n",
      "         Predict: 0.0\n",
      "        Else (feature 184 > 130.85499572753906)\n",
      "         Predict: 1.0\n",
      "      Else (feature 184 > 163.34500122070312)\n",
      "       If (feature 152 in {0.0})\n",
      "        Predict: 0.0\n",
      "       Else (feature 152 not in {0.0})\n",
      "        If (feature 70 in {1.0})\n",
      "         Predict: 1.0\n",
      "        Else (feature 70 not in {1.0})\n",
      "         Predict: 0.0\n",
      "  Tree 3 (weight 1.0):\n",
      "    If (feature 30 in {1.0})\n",
      "     Predict: 1.0\n",
      "    Else (feature 30 not in {1.0})\n",
      "     If (feature 172 in {1.0})\n",
      "      If (feature 21 in {1.0})\n",
      "       Predict: 0.0\n",
      "      Else (feature 21 not in {1.0})\n",
      "       If (feature 34 in {1.0})\n",
      "        Predict: 1.0\n",
      "       Else (feature 34 not in {1.0})\n",
      "        Predict: 0.0\n",
      "     Else (feature 172 not in {1.0})\n",
      "      If (feature 155 in {1.0})\n",
      "       Predict: 1.0\n",
      "      Else (feature 155 not in {1.0})\n",
      "       If (feature 121 in {1.0})\n",
      "        Predict: 1.0\n",
      "       Else (feature 121 not in {1.0})\n",
      "        If (feature 32 in {1.0})\n",
      "         Predict: 1.0\n",
      "        Else (feature 32 not in {1.0})\n",
      "         Predict: 0.0\n",
      "  Tree 4 (weight 1.0):\n",
      "    If (feature 113 in {1.0})\n",
      "     Predict: 1.0\n",
      "    Else (feature 113 not in {1.0})\n",
      "     If (feature 34 in {1.0})\n",
      "      Predict: 1.0\n",
      "     Else (feature 34 not in {1.0})\n",
      "      If (feature 52 in {1.0})\n",
      "       Predict: 1.0\n",
      "      Else (feature 52 not in {1.0})\n",
      "       If (feature 159 in {1.0})\n",
      "        If (feature 139 in {1.0})\n",
      "         Predict: 0.0\n",
      "        Else (feature 139 not in {1.0})\n",
      "         Predict: 1.0\n",
      "       Else (feature 159 not in {1.0})\n",
      "        If (feature 30 in {1.0})\n",
      "         Predict: 1.0\n",
      "        Else (feature 30 not in {1.0})\n",
      "         Predict: 0.0\n",
      "  Tree 5 (weight 1.0):\n",
      "    If (feature 69 in {1.0})\n",
      "     Predict: 1.0\n",
      "    Else (feature 69 not in {1.0})\n",
      "     If (feature 160 in {1.0})\n",
      "      Predict: 1.0\n",
      "     Else (feature 160 not in {1.0})\n",
      "      If (feature 184 <= 231.26499938964844)\n",
      "       If (feature 159 in {1.0})\n",
      "        Predict: 1.0\n",
      "       Else (feature 159 not in {1.0})\n",
      "        If (feature 46 in {1.0})\n",
      "         Predict: 1.0\n",
      "        Else (feature 46 not in {1.0})\n",
      "         Predict: 0.0\n",
      "      Else (feature 184 > 231.26499938964844)\n",
      "       If (feature 3 in {1.0})\n",
      "        Predict: 0.0\n",
      "       Else (feature 3 not in {1.0})\n",
      "        If (feature 163 in {1.0})\n",
      "         Predict: 1.0\n",
      "        Else (feature 163 not in {1.0})\n",
      "         Predict: 0.0\n",
      "  Tree 6 (weight 1.0):\n",
      "    If (feature 113 in {1.0})\n",
      "     Predict: 1.0\n",
      "    Else (feature 113 not in {1.0})\n",
      "     If (feature 9 in {1.0})\n",
      "      Predict: 1.0\n",
      "     Else (feature 9 not in {1.0})\n",
      "      If (feature 178 in {1.0})\n",
      "       If (feature 184 <= 154.12000274658203)\n",
      "        Predict: 1.0\n",
      "       Else (feature 184 > 154.12000274658203)\n",
      "        Predict: 0.0\n",
      "      Else (feature 178 not in {1.0})\n",
      "       If (feature 32 in {1.0})\n",
      "        Predict: 1.0\n",
      "       Else (feature 32 not in {1.0})\n",
      "        If (feature 34 in {1.0})\n",
      "         Predict: 1.0\n",
      "        Else (feature 34 not in {1.0})\n",
      "         Predict: 0.0\n",
      "  Tree 7 (weight 1.0):\n",
      "    If (feature 158 in {0.0})\n",
      "     If (feature 16 in {1.0})\n",
      "      Predict: 0.0\n",
      "     Else (feature 16 not in {1.0})\n",
      "      If (feature 178 in {1.0})\n",
      "       Predict: 0.0\n",
      "      Else (feature 178 not in {1.0})\n",
      "       If (feature 174 in {1.0})\n",
      "        Predict: 0.0\n",
      "       Else (feature 174 not in {1.0})\n",
      "        If (feature 161 in {1.0})\n",
      "         Predict: 0.0\n",
      "        Else (feature 161 not in {1.0})\n",
      "         Predict: 1.0\n",
      "    Else (feature 158 not in {0.0})\n",
      "     If (feature 172 in {1.0})\n",
      "      If (feature 74 in {1.0})\n",
      "       Predict: 1.0\n",
      "      Else (feature 74 not in {1.0})\n",
      "       Predict: 0.0\n",
      "     Else (feature 172 not in {1.0})\n",
      "      If (feature 46 in {1.0})\n",
      "       Predict: 1.0\n",
      "      Else (feature 46 not in {1.0})\n",
      "       If (feature 64 in {1.0})\n",
      "        Predict: 1.0\n",
      "       Else (feature 64 not in {1.0})\n",
      "        If (feature 110 in {1.0})\n",
      "         Predict: 1.0\n",
      "        Else (feature 110 not in {1.0})\n",
      "         Predict: 0.0\n",
      "  Tree 8 (weight 1.0):\n",
      "    If (feature 36 in {1.0})\n",
      "     Predict: 1.0\n",
      "    Else (feature 36 not in {1.0})\n",
      "     If (feature 20 in {1.0})\n",
      "      Predict: 1.0\n",
      "     Else (feature 20 not in {1.0})\n",
      "      If (feature 172 in {1.0})\n",
      "       If (feature 85 in {1.0})\n",
      "        Predict: 1.0\n",
      "       Else (feature 85 not in {1.0})\n",
      "        Predict: 0.0\n",
      "      Else (feature 172 not in {1.0})\n",
      "       If (feature 38 in {1.0})\n",
      "        Predict: 0.0\n",
      "       Else (feature 38 not in {1.0})\n",
      "        If (feature 52 in {1.0})\n",
      "         Predict: 1.0\n",
      "        Else (feature 52 not in {1.0})\n",
      "         Predict: 0.0\n",
      "  Tree 9 (weight 1.0):\n",
      "    If (feature 53 in {1.0})\n",
      "     Predict: 1.0\n",
      "    Else (feature 53 not in {1.0})\n",
      "     If (feature 0 in {1.0})\n",
      "      Predict: 0.0\n",
      "     Else (feature 0 not in {1.0})\n",
      "      If (feature 158 in {0.0})\n",
      "       If (feature 166 in {1.0})\n",
      "        Predict: 1.0\n",
      "       Else (feature 166 not in {1.0})\n",
      "        Predict: 0.0\n",
      "      Else (feature 158 not in {0.0})\n",
      "       If (feature 54 in {1.0})\n",
      "        Predict: 1.0\n",
      "       Else (feature 54 not in {1.0})\n",
      "        Predict: 0.0\n",
      "  Tree 10 (weight 1.0):\n",
      "    If (feature 30 in {1.0})\n",
      "     Predict: 1.0\n",
      "    Else (feature 30 not in {1.0})\n",
      "     If (feature 173 in {1.0})\n",
      "      If (feature 184 <= 130.7449951171875)\n",
      "       Predict: 0.0\n",
      "      Else (feature 184 > 130.7449951171875)\n",
      "       If (feature 152 in {0.0})\n",
      "        Predict: 0.0\n",
      "       Else (feature 152 not in {0.0})\n",
      "        If (feature 160 in {1.0})\n",
      "         Predict: 1.0\n",
      "        Else (feature 160 not in {1.0})\n",
      "         Predict: 0.0\n",
      "     Else (feature 173 not in {1.0})\n",
      "      If (feature 172 in {0.0})\n",
      "       If (feature 184 <= 154.12000274658203)\n",
      "        Predict: 0.0\n",
      "       Else (feature 184 > 154.12000274658203)\n",
      "        Predict: 1.0\n",
      "      Else (feature 172 not in {0.0})\n",
      "       If (feature 74 in {1.0})\n",
      "        Predict: 1.0\n",
      "       Else (feature 74 not in {1.0})\n",
      "        Predict: 0.0\n",
      "  Tree 11 (weight 1.0):\n",
      "    If (feature 159 in {1.0})\n",
      "     If (feature 174 in {1.0})\n",
      "      Predict: 1.0\n",
      "     Else (feature 174 not in {1.0})\n",
      "      If (feature 34 in {1.0})\n",
      "       Predict: 1.0\n",
      "      Else (feature 34 not in {1.0})\n",
      "       If (feature 139 in {1.0})\n",
      "        Predict: 0.0\n",
      "       Else (feature 139 not in {1.0})\n",
      "        Predict: 1.0\n",
      "    Else (feature 159 not in {1.0})\n",
      "     If (feature 9 in {1.0})\n",
      "      Predict: 1.0\n",
      "     Else (feature 9 not in {1.0})\n",
      "      If (feature 172 in {1.0})\n",
      "       If (feature 120 in {1.0})\n",
      "        Predict: 1.0\n",
      "       Else (feature 120 not in {1.0})\n",
      "        If (feature 30 in {1.0})\n",
      "         Predict: 1.0\n",
      "        Else (feature 30 not in {1.0})\n",
      "         Predict: 0.0\n",
      "      Else (feature 172 not in {1.0})\n",
      "       If (feature 54 in {1.0})\n",
      "        Predict: 1.0\n",
      "       Else (feature 54 not in {1.0})\n",
      "        If (feature 6 in {1.0})\n",
      "         Predict: 1.0\n",
      "        Else (feature 6 not in {1.0})\n",
      "         Predict: 0.0\n",
      "  Tree 12 (weight 1.0):\n",
      "    If (feature 160 in {1.0})\n",
      "     Predict: 1.0\n",
      "    Else (feature 160 not in {1.0})\n",
      "     If (feature 0 in {1.0})\n",
      "      Predict: 0.0\n",
      "     Else (feature 0 not in {1.0})\n",
      "      If (feature 166 in {1.0})\n",
      "       Predict: 1.0\n",
      "      Else (feature 166 not in {1.0})\n",
      "       If (feature 55 in {1.0})\n",
      "        Predict: 1.0\n",
      "       Else (feature 55 not in {1.0})\n",
      "        If (feature 48 in {1.0})\n",
      "         Predict: 1.0\n",
      "        Else (feature 48 not in {1.0})\n",
      "         Predict: 0.0\n",
      "  Tree 13 (weight 1.0):\n",
      "    If (feature 158 in {0.0})\n",
      "     If (feature 155 in {1.0})\n",
      "      Predict: 1.0\n",
      "     Else (feature 155 not in {1.0})\n",
      "      If (feature 8 in {1.0})\n",
      "       Predict: 1.0\n",
      "      Else (feature 8 not in {1.0})\n",
      "       If (feature 34 in {1.0})\n",
      "        Predict: 1.0\n",
      "       Else (feature 34 not in {1.0})\n",
      "        If (feature 32 in {1.0})\n",
      "         Predict: 1.0\n",
      "        Else (feature 32 not in {1.0})\n",
      "         Predict: 0.0\n",
      "    Else (feature 158 not in {0.0})\n",
      "     If (feature 177 in {1.0})\n",
      "      Predict: 0.0\n",
      "     Else (feature 177 not in {1.0})\n",
      "      If (feature 174 in {1.0})\n",
      "       If (feature 25 in {1.0})\n",
      "        Predict: 0.0\n",
      "       Else (feature 25 not in {1.0})\n",
      "        Predict: 1.0\n",
      "      Else (feature 174 not in {1.0})\n",
      "       If (feature 175 in {1.0})\n",
      "        Predict: 0.0\n",
      "       Else (feature 175 not in {1.0})\n",
      "        If (feature 113 in {1.0})\n",
      "         Predict: 1.0\n",
      "        Else (feature 113 not in {1.0})\n",
      "         Predict: 0.0\n",
      "  Tree 14 (weight 1.0):\n",
      "    If (feature 54 in {1.0})\n",
      "     Predict: 1.0\n",
      "    Else (feature 54 not in {1.0})\n",
      "     If (feature 36 in {1.0})\n",
      "      Predict: 1.0\n",
      "     Else (feature 36 not in {1.0})\n",
      "      If (feature 129 in {1.0})\n",
      "       Predict: 1.0\n",
      "      Else (feature 129 not in {1.0})\n",
      "       If (feature 65 in {1.0})\n",
      "        Predict: 1.0\n",
      "       Else (feature 65 not in {1.0})\n",
      "        If (feature 159 in {1.0})\n",
      "         Predict: 1.0\n",
      "        Else (feature 159 not in {1.0})\n",
      "         Predict: 0.0\n",
      "  Tree 15 (weight 1.0):\n",
      "    If (feature 0 in {1.0})\n",
      "     Predict: 0.0\n",
      "    Else (feature 0 not in {1.0})\n",
      "     If (feature 6 in {1.0})\n",
      "      Predict: 1.0\n",
      "     Else (feature 6 not in {1.0})\n",
      "      If (feature 8 in {1.0})\n",
      "       Predict: 1.0\n",
      "      Else (feature 8 not in {1.0})\n",
      "       If (feature 5 in {1.0})\n",
      "        Predict: 0.0\n",
      "       Else (feature 5 not in {1.0})\n",
      "        If (feature 85 in {1.0})\n",
      "         Predict: 1.0\n",
      "        Else (feature 85 not in {1.0})\n",
      "         Predict: 0.0\n",
      "  Tree 16 (weight 1.0):\n",
      "    If (feature 9 in {1.0})\n",
      "     Predict: 1.0\n",
      "    Else (feature 9 not in {1.0})\n",
      "     If (feature 17 in {1.0})\n",
      "      Predict: 1.0\n",
      "     Else (feature 17 not in {1.0})\n",
      "      If (feature 55 in {1.0})\n",
      "       Predict: 1.0\n",
      "      Else (feature 55 not in {1.0})\n",
      "       If (feature 159 in {1.0})\n",
      "        Predict: 1.0\n",
      "       Else (feature 159 not in {1.0})\n",
      "        If (feature 149 in {1.0})\n",
      "         Predict: 1.0\n",
      "        Else (feature 149 not in {1.0})\n",
      "         Predict: 0.0\n",
      "  Tree 17 (weight 1.0):\n",
      "    If (feature 152 in {0.0})\n",
      "     If (feature 176 in {0.0})\n",
      "      If (feature 180 in {1.0})\n",
      "       Predict: 0.0\n",
      "      Else (feature 180 not in {1.0})\n",
      "       If (feature 174 in {1.0})\n",
      "        Predict: 1.0\n",
      "       Else (feature 174 not in {1.0})\n",
      "        Predict: 0.0\n",
      "     Else (feature 176 not in {0.0})\n",
      "      Predict: 1.0\n",
      "    Else (feature 152 not in {0.0})\n",
      "     If (feature 172 in {1.0})\n",
      "      If (feature 34 in {1.0})\n",
      "       Predict: 1.0\n",
      "      Else (feature 34 not in {1.0})\n",
      "       If (feature 139 in {1.0})\n",
      "        Predict: 0.0\n",
      "       Else (feature 139 not in {1.0})\n",
      "        If (feature 44 in {1.0})\n",
      "         Predict: 1.0\n",
      "        Else (feature 44 not in {1.0})\n",
      "         Predict: 0.0\n",
      "     Else (feature 172 not in {1.0})\n",
      "      If (feature 144 in {1.0})\n",
      "       Predict: 1.0\n",
      "      Else (feature 144 not in {1.0})\n",
      "       If (feature 159 in {1.0})\n",
      "        Predict: 1.0\n",
      "       Else (feature 159 not in {1.0})\n",
      "        If (feature 174 in {1.0})\n",
      "         Predict: 1.0\n",
      "        Else (feature 174 not in {1.0})\n",
      "         Predict: 0.0\n",
      "  Tree 18 (weight 1.0):\n",
      "    If (feature 6 in {1.0})\n",
      "     Predict: 1.0\n",
      "    Else (feature 6 not in {1.0})\n",
      "     If (feature 121 in {1.0})\n",
      "      Predict: 1.0\n",
      "     Else (feature 121 not in {1.0})\n",
      "      If (feature 172 in {1.0})\n",
      "       If (feature 45 in {1.0})\n",
      "        Predict: 1.0\n",
      "       Else (feature 45 not in {1.0})\n",
      "        If (feature 158 in {0.0})\n",
      "         Predict: 1.0\n",
      "        Else (feature 158 not in {0.0})\n",
      "         Predict: 0.0\n",
      "      Else (feature 172 not in {1.0})\n",
      "       If (feature 158 in {0.0})\n",
      "        If (feature 144 in {1.0})\n",
      "         Predict: 1.0\n",
      "        Else (feature 144 not in {1.0})\n",
      "         Predict: 0.0\n",
      "       Else (feature 158 not in {0.0})\n",
      "        If (feature 52 in {1.0})\n",
      "         Predict: 1.0\n",
      "        Else (feature 52 not in {1.0})\n",
      "         Predict: 0.0\n",
      "  Tree 19 (weight 1.0):\n",
      "    If (feature 152 in {0.0})\n",
      "     If (feature 155 in {1.0})\n",
      "      Predict: 1.0\n",
      "     Else (feature 155 not in {1.0})\n",
      "      If (feature 42 in {1.0})\n",
      "       Predict: 0.0\n",
      "      Else (feature 42 not in {1.0})\n",
      "       If (feature 176 in {0.0})\n",
      "        If (feature 184 <= 93.92499923706055)\n",
      "         Predict: 0.0\n",
      "        Else (feature 184 > 93.92499923706055)\n",
      "         Predict: 1.0\n",
      "       Else (feature 176 not in {0.0})\n",
      "        Predict: 1.0\n",
      "    Else (feature 152 not in {0.0})\n",
      "     If (feature 46 in {1.0})\n",
      "      Predict: 1.0\n",
      "     Else (feature 46 not in {1.0})\n",
      "      If (feature 172 in {1.0})\n",
      "       If (feature 158 in {0.0})\n",
      "        Predict: 1.0\n",
      "       Else (feature 158 not in {0.0})\n",
      "        Predict: 0.0\n",
      "      Else (feature 172 not in {1.0})\n",
      "       If (feature 129 in {1.0})\n",
      "        Predict: 1.0\n",
      "       Else (feature 129 not in {1.0})\n",
      "        If (feature 50 in {1.0})\n",
      "         Predict: 1.0\n",
      "        Else (feature 50 not in {1.0})\n",
      "         Predict: 0.0\n",
      "  Tree 20 (weight 1.0):\n",
      "    If (feature 159 in {1.0})\n",
      "     Predict: 1.0\n",
      "    Else (feature 159 not in {1.0})\n",
      "     If (feature 184 <= 459.7149963378906)\n",
      "      If (feature 137 in {1.0})\n",
      "       Predict: 1.0\n",
      "      Else (feature 137 not in {1.0})\n",
      "       If (feature 48 in {1.0})\n",
      "        Predict: 1.0\n",
      "       Else (feature 48 not in {1.0})\n",
      "        Predict: 0.0\n",
      "     Else (feature 184 > 459.7149963378906)\n",
      "      If (feature 23 in {1.0})\n",
      "       Predict: 0.0\n",
      "      Else (feature 23 not in {1.0})\n",
      "       If (feature 120 in {1.0})\n",
      "        Predict: 1.0\n",
      "       Else (feature 120 not in {1.0})\n",
      "        Predict: 0.0\n",
      "  Tree 21 (weight 1.0):\n",
      "    If (feature 159 in {1.0})\n",
      "     If (feature 173 in {1.0})\n",
      "      Predict: 1.0\n",
      "     Else (feature 173 not in {1.0})\n",
      "      If (feature 139 in {1.0})\n",
      "       Predict: 0.0\n",
      "      Else (feature 139 not in {1.0})\n",
      "       Predict: 1.0\n",
      "    Else (feature 159 not in {1.0})\n",
      "     If (feature 30 in {1.0})\n",
      "      Predict: 1.0\n",
      "     Else (feature 30 not in {1.0})\n",
      "      If (feature 174 in {1.0})\n",
      "       If (feature 184 <= 154.12000274658203)\n",
      "        Predict: 0.0\n",
      "       Else (feature 184 > 154.12000274658203)\n",
      "        Predict: 1.0\n",
      "      Else (feature 174 not in {1.0})\n",
      "       If (feature 167 in {1.0})\n",
      "        Predict: 1.0\n",
      "       Else (feature 167 not in {1.0})\n",
      "        If (feature 128 in {1.0})\n",
      "         Predict: 1.0\n",
      "        Else (feature 128 not in {1.0})\n",
      "         Predict: 0.0\n",
      "  Tree 22 (weight 1.0):\n",
      "    If (feature 124 in {1.0})\n",
      "     Predict: 1.0\n",
      "    Else (feature 124 not in {1.0})\n",
      "     If (feature 0 in {1.0})\n",
      "      Predict: 0.0\n",
      "     Else (feature 0 not in {1.0})\n",
      "      If (feature 4 in {1.0})\n",
      "       Predict: 0.0\n",
      "      Else (feature 4 not in {1.0})\n",
      "       If (feature 184 <= 735.614990234375)\n",
      "        If (feature 163 in {1.0})\n",
      "         Predict: 1.0\n",
      "        Else (feature 163 not in {1.0})\n",
      "         Predict: 0.0\n",
      "       Else (feature 184 > 735.614990234375)\n",
      "        If (feature 184 <= 742.1399841308594)\n",
      "         Predict: 1.0\n",
      "        Else (feature 184 > 742.1399841308594)\n",
      "         Predict: 0.0\n",
      "  Tree 23 (weight 1.0):\n",
      "    If (feature 9 in {1.0})\n",
      "     Predict: 1.0\n",
      "    Else (feature 9 not in {1.0})\n",
      "     If (feature 184 <= 459.7149963378906)\n",
      "      If (feature 26 in {1.0})\n",
      "       Predict: 0.0\n",
      "      Else (feature 26 not in {1.0})\n",
      "       If (feature 28 in {1.0})\n",
      "        Predict: 1.0\n",
      "       Else (feature 28 not in {1.0})\n",
      "        If (feature 52 in {1.0})\n",
      "         Predict: 1.0\n",
      "        Else (feature 52 not in {1.0})\n",
      "         Predict: 0.0\n",
      "     Else (feature 184 > 459.7149963378906)\n",
      "      If (feature 85 in {1.0})\n",
      "       Predict: 1.0\n",
      "      Else (feature 85 not in {1.0})\n",
      "       If (feature 160 in {1.0})\n",
      "        Predict: 1.0\n",
      "       Else (feature 160 not in {1.0})\n",
      "        Predict: 0.0\n",
      "  Tree 24 (weight 1.0):\n",
      "    If (feature 172 in {1.0})\n",
      "     If (feature 34 in {1.0})\n",
      "      Predict: 1.0\n",
      "     Else (feature 34 not in {1.0})\n",
      "      If (feature 0 in {1.0})\n",
      "       Predict: 0.0\n",
      "      Else (feature 0 not in {1.0})\n",
      "       If (feature 13 in {1.0})\n",
      "        Predict: 0.0\n",
      "       Else (feature 13 not in {1.0})\n",
      "        If (feature 159 in {1.0})\n",
      "         Predict: 1.0\n",
      "        Else (feature 159 not in {1.0})\n",
      "         Predict: 0.0\n",
      "    Else (feature 172 not in {1.0})\n",
      "     If (feature 158 in {0.0})\n",
      "      If (feature 20 in {1.0})\n",
      "       Predict: 0.0\n",
      "      Else (feature 20 not in {1.0})\n",
      "       If (feature 179 in {1.0})\n",
      "        Predict: 0.0\n",
      "       Else (feature 179 not in {1.0})\n",
      "        If (feature 152 in {0.0})\n",
      "         Predict: 0.0\n",
      "        Else (feature 152 not in {0.0})\n",
      "         Predict: 1.0\n",
      "     Else (feature 158 not in {0.0})\n",
      "      Predict: 0.0\n",
      "\n"
     ]
    }
   ],
   "source": [
    "print(rfmodel.toDebugString)"
   ]
  },
  {
   "cell_type": "code",
   "execution_count": 401,
   "metadata": {},
   "outputs": [],
   "source": [
    "prediction = rfmodel.transform(test)"
   ]
  },
  {
   "cell_type": "code",
   "execution_count": 402,
   "metadata": {},
   "outputs": [
    {
     "data": {
      "text/plain": [
       "DataFrame[product_id: string, PRICE: float, category1: string, category2: string, bin_time: int, brandshrink2: string, is_purchased_str: string, product_id_Index: double, product_id_encoded: vector, category1_Index: double, category1_encoded: vector, category2_Index: double, category2_encoded: vector, bin_time_Index: double, bin_time_encoded: vector, brandshrink2_Index: double, brandshrink2_encoded: vector, label: double, features: vector, rawPrediction: vector, probability: vector, prediction: double]"
      ]
     },
     "execution_count": 402,
     "metadata": {},
     "output_type": "execute_result"
    }
   ],
   "source": [
    "prediction\n"
   ]
  },
  {
   "cell_type": "code",
   "execution_count": 403,
   "metadata": {},
   "outputs": [
    {
     "name": "stdout",
     "output_type": "stream",
     "text": [
      "+----------+------+-----------+----------+--------+------------+----------------+----------------+------------------+---------------+-----------------+---------------+-----------------+--------------+----------------+------------------+--------------------+-----+--------------------+--------------------+--------------------+----------+\n",
      "|product_id| PRICE|  category1| category2|bin_time|brandshrink2|is_purchased_str|product_id_Index|product_id_encoded|category1_Index|category1_encoded|category2_Index|category2_encoded|bin_time_Index|bin_time_encoded|brandshrink2_Index|brandshrink2_encoded|label|            features|       rawPrediction|         probability|prediction|\n",
      "+----------+------+-----------+----------+--------+------------+----------------+----------------+------------------+---------------+-----------------+---------------+-----------------+--------------+----------------+------------------+--------------------+-----+--------------------+--------------------+--------------------+----------+\n",
      "|   1004838|179.38|electronics|smartphone|       2|        oppo|               1|            10.0|  (152,[10],[1.0])|            0.0|    (6,[0],[1.0])|            0.0|   (13,[0],[1.0])|           0.0|   (1,[0],[1.0])|               5.0|      (12,[5],[1.0])|  0.0|(185,[10,152,158,...|[17.7665422780245...|[0.71066169112098...|       0.0|\n",
      "|   1002544|464.13|electronics|smartphone|       2|       apple|               0|             0.0|   (152,[0],[1.0])|            0.0|    (6,[0],[1.0])|            0.0|   (13,[0],[1.0])|           0.0|   (1,[0],[1.0])|               0.0|      (12,[0],[1.0])|  1.0|(185,[0,152,158,1...|[23.3100006826992...|[0.93240002730796...|       0.0|\n",
      "|   1004833|174.76|electronics|smartphone|       2|     samsung|               1|             1.0|   (152,[1],[1.0])|            0.0|    (6,[0],[1.0])|            0.0|   (13,[0],[1.0])|           0.0|   (1,[0],[1.0])|               1.0|      (12,[1],[1.0])|  0.0|(185,[1,152,158,1...|[18.8627943565485...|[0.75451177426194...|       0.0|\n",
      "|   1004833|174.76|electronics|smartphone|       2|     samsung|               1|             1.0|   (152,[1],[1.0])|            0.0|    (6,[0],[1.0])|            0.0|   (13,[0],[1.0])|           0.0|   (1,[0],[1.0])|               1.0|      (12,[1],[1.0])|  0.0|(185,[1,152,158,1...|[18.8627943565485...|[0.75451177426194...|       0.0|\n",
      "|   1004857|130.73|electronics|smartphone|       2|     samsung|               1|             5.0|   (152,[5],[1.0])|            0.0|    (6,[0],[1.0])|            0.0|   (13,[0],[1.0])|           0.0|   (1,[0],[1.0])|               1.0|      (12,[1],[1.0])|  0.0|(185,[5,152,158,1...|[19.5371176577679...|[0.78148470631071...|       0.0|\n",
      "|   1004857|130.73|electronics|smartphone|       2|     samsung|               1|             5.0|   (152,[5],[1.0])|            0.0|    (6,[0],[1.0])|            0.0|   (13,[0],[1.0])|           0.0|   (1,[0],[1.0])|               1.0|      (12,[1],[1.0])|  0.0|(185,[5,152,158,1...|[19.5371176577679...|[0.78148470631071...|       0.0|\n",
      "|   1004857|130.73|electronics|smartphone|       2|     samsung|               1|             5.0|   (152,[5],[1.0])|            0.0|    (6,[0],[1.0])|            0.0|   (13,[0],[1.0])|           0.0|   (1,[0],[1.0])|               1.0|      (12,[1],[1.0])|  0.0|(185,[5,152,158,1...|[19.5371176577679...|[0.78148470631071...|       0.0|\n",
      "|   1004857|130.73|electronics|smartphone|       2|     samsung|               1|             5.0|   (152,[5],[1.0])|            0.0|    (6,[0],[1.0])|            0.0|   (13,[0],[1.0])|           0.0|   (1,[0],[1.0])|               1.0|      (12,[1],[1.0])|  0.0|(185,[5,152,158,1...|[19.5371176577679...|[0.78148470631071...|       0.0|\n",
      "|   1004857|130.73|electronics|smartphone|       2|     samsung|               1|             5.0|   (152,[5],[1.0])|            0.0|    (6,[0],[1.0])|            0.0|   (13,[0],[1.0])|           0.0|   (1,[0],[1.0])|               1.0|      (12,[1],[1.0])|  0.0|(185,[5,152,158,1...|[19.5371176577679...|[0.78148470631071...|       0.0|\n",
      "|   1004739|197.55|electronics|smartphone|       2|      xiaomi|               0|            24.0|  (152,[24],[1.0])|            0.0|    (6,[0],[1.0])|            0.0|   (13,[0],[1.0])|           0.0|   (1,[0],[1.0])|               2.0|      (12,[2],[1.0])|  1.0|(185,[24,152,158,...|[16.6577247513253...|[0.66630899005301...|       0.0|\n",
      "|   1004856|130.76|electronics|smartphone|       2|     samsung|               0|             2.0|   (152,[2],[1.0])|            0.0|    (6,[0],[1.0])|            0.0|   (13,[0],[1.0])|           0.0|   (1,[0],[1.0])|               1.0|      (12,[1],[1.0])|  1.0|(185,[2,152,158,1...|[18.9525547051324...|[0.75810218820529...|       0.0|\n",
      "|   1002633|360.08|electronics|smartphone|       2|       apple|               1|            21.0|  (152,[21],[1.0])|            0.0|    (6,[0],[1.0])|            0.0|   (13,[0],[1.0])|           0.0|   (1,[0],[1.0])|               0.0|      (12,[0],[1.0])|  0.0|(185,[21,152,158,...|[20.7984106255533...|[0.83193642502213...|       0.0|\n",
      "|   1004833|174.75|electronics|smartphone|       2|     samsung|               1|             1.0|   (152,[1],[1.0])|            0.0|    (6,[0],[1.0])|            0.0|   (13,[0],[1.0])|           0.0|   (1,[0],[1.0])|               1.0|      (12,[1],[1.0])|  0.0|(185,[1,152,158,1...|[18.8627943565485...|[0.75451177426194...|       0.0|\n",
      "|   1004767|254.82|electronics|smartphone|       2|     samsung|               1|             3.0|   (152,[3],[1.0])|            0.0|    (6,[0],[1.0])|            0.0|   (13,[0],[1.0])|           0.0|   (1,[0],[1.0])|               1.0|      (12,[1],[1.0])|  0.0|(185,[3,152,158,1...|[18.9168407628870...|[0.75667363051548...|       0.0|\n",
      "|   1004767|254.82|electronics|smartphone|       2|     samsung|               1|             3.0|   (152,[3],[1.0])|            0.0|    (6,[0],[1.0])|            0.0|   (13,[0],[1.0])|           0.0|   (1,[0],[1.0])|               1.0|      (12,[1],[1.0])|  0.0|(185,[3,152,158,1...|[18.9168407628870...|[0.75667363051548...|       0.0|\n",
      "|   1002544|464.08|electronics|smartphone|       2|       apple|               1|             0.0|   (152,[0],[1.0])|            0.0|    (6,[0],[1.0])|            0.0|   (13,[0],[1.0])|           0.0|   (1,[0],[1.0])|               0.0|      (12,[0],[1.0])|  0.0|(185,[0,152,158,1...|[23.3100006826992...|[0.93240002730796...|       0.0|\n",
      "|   1801805|256.88|electronics|     video|       2|       artel|               1|            19.0|  (152,[19],[1.0])|            0.0|    (6,[0],[1.0])|            2.0|   (13,[2],[1.0])|           0.0|   (1,[0],[1.0])|               6.0|      (12,[6],[1.0])|  0.0|(185,[19,152,160,...|[15.9677559322123...|[0.63871023728849...|       0.0|\n",
      "|   1801805|256.88|electronics|     video|       2|       artel|               1|            19.0|  (152,[19],[1.0])|            0.0|    (6,[0],[1.0])|            2.0|   (13,[2],[1.0])|           0.0|   (1,[0],[1.0])|               6.0|      (12,[6],[1.0])|  0.0|(185,[19,152,160,...|[15.9677559322123...|[0.63871023728849...|       0.0|\n",
      "|   1003316|946.97|electronics|smartphone|       2|       apple|               0|            55.0|  (152,[55],[1.0])|            0.0|    (6,[0],[1.0])|            0.0|   (13,[0],[1.0])|           0.0|   (1,[0],[1.0])|               0.0|      (12,[0],[1.0])|  1.0|(185,[55,152,158,...|[19.6653526896703...|[0.78661410758681...|       0.0|\n",
      "|   1004750|197.43|electronics|smartphone|       2|     samsung|               1|            14.0|  (152,[14],[1.0])|            0.0|    (6,[0],[1.0])|            0.0|   (13,[0],[1.0])|           0.0|   (1,[0],[1.0])|               1.0|      (12,[1],[1.0])|  0.0|(185,[14,152,158,...|[18.8627943565485...|[0.75451177426194...|       0.0|\n",
      "+----------+------+-----------+----------+--------+------------+----------------+----------------+------------------+---------------+-----------------+---------------+-----------------+--------------+----------------+------------------+--------------------+-----+--------------------+--------------------+--------------------+----------+\n",
      "only showing top 20 rows\n",
      "\n"
     ]
    }
   ],
   "source": [
    "prediction.show()"
   ]
  },
  {
   "cell_type": "code",
   "execution_count": 404,
   "metadata": {},
   "outputs": [
    {
     "name": "stdout",
     "output_type": "stream",
     "text": [
      "+-----+----------+--------------------+--------------------+\n",
      "|label|prediction|       rawPrediction|         probability|\n",
      "+-----+----------+--------------------+--------------------+\n",
      "|  0.0|       0.0|[17.7665422780245...|[0.71066169112098...|\n",
      "|  1.0|       0.0|[23.3100006826992...|[0.93240002730796...|\n",
      "|  0.0|       0.0|[18.8627943565485...|[0.75451177426194...|\n",
      "|  0.0|       0.0|[18.8627943565485...|[0.75451177426194...|\n",
      "|  0.0|       0.0|[19.5371176577679...|[0.78148470631071...|\n",
      "+-----+----------+--------------------+--------------------+\n",
      "only showing top 5 rows\n",
      "\n"
     ]
    }
   ],
   "source": [
    "prediction.select('label', 'prediction','rawPrediction','probability').show(5)"
   ]
  },
  {
   "cell_type": "code",
   "execution_count": 405,
   "metadata": {},
   "outputs": [],
   "source": [
    "from pyspark.ml.evaluation import MulticlassClassificationEvaluator"
   ]
  },
  {
   "cell_type": "code",
   "execution_count": 408,
   "metadata": {},
   "outputs": [],
   "source": [
    "evaluator = MulticlassClassificationEvaluator(labelCol =\"label\", predictionCol =\"prediction\", metricName =\"accuracy\")"
   ]
  },
  {
   "cell_type": "code",
   "execution_count": 410,
   "metadata": {},
   "outputs": [],
   "source": [
    "accuracy = evaluator.evaluate(prediction)"
   ]
  },
  {
   "cell_type": "code",
   "execution_count": 411,
   "metadata": {},
   "outputs": [
    {
     "name": "stdout",
     "output_type": "stream",
     "text": [
      "0.8523676880222841\n"
     ]
    }
   ],
   "source": [
    "print(accuracy)"
   ]
  },
  {
   "cell_type": "code",
   "execution_count": 412,
   "metadata": {},
   "outputs": [
    {
     "data": {
      "text/plain": [
       "SparseVector(185, {0: 0.1204, 3: 0.0011, 4: 0.0015, 5: 0.0015, 6: 0.0065, 8: 0.0066, 9: 0.0263, 13: 0.0007, 16: 0.0056, 17: 0.0049, 20: 0.0064, 21: 0.0, 23: 0.0, 25: 0.002, 26: 0.0017, 28: 0.0031, 30: 0.0175, 32: 0.0134, 34: 0.0347, 36: 0.0133, 38: 0.0005, 42: 0.0013, 44: 0.0032, 45: 0.0036, 46: 0.0067, 48: 0.0072, 50: 0.0015, 52: 0.0132, 53: 0.004, 54: 0.0137, 55: 0.0066, 64: 0.0006, 65: 0.0014, 69: 0.0023, 70: 0.0009, 74: 0.0039, 85: 0.0058, 110: 0.0006, 113: 0.0105, 120: 0.004, 121: 0.0045, 124: 0.0084, 128: 0.004, 129: 0.0038, 137: 0.002, 139: 0.0036, 144: 0.0021, 148: 0.0015, 149: 0.0052, 152: 0.0112, 153: 0.0013, 155: 0.0053, 158: 0.0709, 159: 0.1416, 160: 0.0385, 161: 0.0006, 162: 0.0, 163: 0.0027, 166: 0.004, 167: 0.0031, 172: 0.1723, 173: 0.0125, 174: 0.0255, 175: 0.003, 176: 0.0012, 177: 0.0016, 178: 0.0036, 179: 0.0017, 180: 0.0014, 184: 0.104})"
      ]
     },
     "execution_count": 412,
     "metadata": {},
     "output_type": "execute_result"
    }
   ],
   "source": [
    "# Feature importance\n",
    "\n",
    "rfmodel.featureImportances"
   ]
  },
  {
   "cell_type": "code",
   "execution_count": 416,
   "metadata": {},
   "outputs": [],
   "source": [
    "import pandas as pd\n",
    "\n",
    "def ExtractFeatureImp(featureImp, dataset, featuresCol):\n",
    "    list_extract =[]\n",
    "    for i in dataset.schema[featuresCol].metadata[\"ml_attr\"][\"attrs\"]:\n",
    "        list_extract = list_extract + dataset.schema[featuresCol].metadata[\"ml_attr\"][\"attrs\"][i]\n",
    "    varlist = pd.DataFrame(list_extract)\n",
    "    varlist[\"score\"] = varlist['idx'].apply(lambda x: featureImp[x])\n",
    "    return(varlist.sort_values('score', ascending =False))\n",
    "        \n",
    "    "
   ]
  },
  {
   "cell_type": "code",
   "execution_count": 443,
   "metadata": {},
   "outputs": [
    {
     "data": {
      "text/html": [
       "<div>\n",
       "<style scoped>\n",
       "    .dataframe tbody tr th:only-of-type {\n",
       "        vertical-align: middle;\n",
       "    }\n",
       "\n",
       "    .dataframe tbody tr th {\n",
       "        vertical-align: top;\n",
       "    }\n",
       "\n",
       "    .dataframe thead th {\n",
       "        text-align: right;\n",
       "    }\n",
       "</style>\n",
       "<table border=\"1\" class=\"dataframe\">\n",
       "  <thead>\n",
       "    <tr style=\"text-align: right;\">\n",
       "      <th></th>\n",
       "      <th>idx</th>\n",
       "      <th>name</th>\n",
       "      <th>score</th>\n",
       "    </tr>\n",
       "  </thead>\n",
       "  <tbody>\n",
       "    <tr>\n",
       "      <th>173</th>\n",
       "      <td>172</td>\n",
       "      <td>brandshrink2_encoded_apple</td>\n",
       "      <td>0.172261</td>\n",
       "    </tr>\n",
       "    <tr>\n",
       "      <th>160</th>\n",
       "      <td>159</td>\n",
       "      <td>category2_encoded_audio</td>\n",
       "      <td>0.141603</td>\n",
       "    </tr>\n",
       "    <tr>\n",
       "      <th>1</th>\n",
       "      <td>0</td>\n",
       "      <td>product_id_encoded_1002544</td>\n",
       "      <td>0.120427</td>\n",
       "    </tr>\n",
       "    <tr>\n",
       "      <th>0</th>\n",
       "      <td>184</td>\n",
       "      <td>PRICE</td>\n",
       "      <td>0.103955</td>\n",
       "    </tr>\n",
       "    <tr>\n",
       "      <th>159</th>\n",
       "      <td>158</td>\n",
       "      <td>category2_encoded_smartphone</td>\n",
       "      <td>0.070921</td>\n",
       "    </tr>\n",
       "    <tr>\n",
       "      <th>161</th>\n",
       "      <td>160</td>\n",
       "      <td>category2_encoded_video</td>\n",
       "      <td>0.038495</td>\n",
       "    </tr>\n",
       "    <tr>\n",
       "      <th>35</th>\n",
       "      <td>34</td>\n",
       "      <td>product_id_encoded_4804055</td>\n",
       "      <td>0.034661</td>\n",
       "    </tr>\n",
       "    <tr>\n",
       "      <th>10</th>\n",
       "      <td>9</td>\n",
       "      <td>product_id_encoded_1005100</td>\n",
       "      <td>0.026297</td>\n",
       "    </tr>\n",
       "    <tr>\n",
       "      <th>175</th>\n",
       "      <td>174</td>\n",
       "      <td>brandshrink2_encoded_xiaomi</td>\n",
       "      <td>0.025494</td>\n",
       "    </tr>\n",
       "    <tr>\n",
       "      <th>31</th>\n",
       "      <td>30</td>\n",
       "      <td>product_id_encoded_1005126</td>\n",
       "      <td>0.017469</td>\n",
       "    </tr>\n",
       "  </tbody>\n",
       "</table>\n",
       "</div>"
      ],
      "text/plain": [
       "     idx                          name     score\n",
       "173  172    brandshrink2_encoded_apple  0.172261\n",
       "160  159       category2_encoded_audio  0.141603\n",
       "1      0    product_id_encoded_1002544  0.120427\n",
       "0    184                         PRICE  0.103955\n",
       "159  158  category2_encoded_smartphone  0.070921\n",
       "161  160       category2_encoded_video  0.038495\n",
       "35    34    product_id_encoded_4804055  0.034661\n",
       "10     9    product_id_encoded_1005100  0.026297\n",
       "175  174   brandshrink2_encoded_xiaomi  0.025494\n",
       "31    30    product_id_encoded_1005126  0.017469"
      ]
     },
     "execution_count": 443,
     "metadata": {},
     "output_type": "execute_result"
    }
   ],
   "source": [
    "ExtractFeatureImp(rfmodel.featureImportances, prediction, 'features').head(10)"
   ]
  },
  {
   "cell_type": "code",
   "execution_count": 445,
   "metadata": {},
   "outputs": [],
   "source": [
    "from pyspark.ml.classification import LogisticRegression\n",
    "lr = LogisticRegression(labelCol =\"label\" , featuresCol = \"features\")\n",
    "lrmodel = lr.fit(train)"
   ]
  },
  {
   "cell_type": "code",
   "execution_count": 446,
   "metadata": {},
   "outputs": [],
   "source": [
    "lrpredict_train = lrmodel.transform(train)\n",
    "lrpredict_test = lrmodel.transform(test)"
   ]
  },
  {
   "cell_type": "code",
   "execution_count": 447,
   "metadata": {},
   "outputs": [
    {
     "name": "stdout",
     "output_type": "stream",
     "text": [
      "+----------+------+-----------+----------+--------+------------+----------------+----------------+------------------+---------------+-----------------+---------------+-----------------+--------------+----------------+------------------+--------------------+-----+--------------------+--------------------+--------------------+----------+\n",
      "|product_id| PRICE|  category1| category2|bin_time|brandshrink2|is_purchased_str|product_id_Index|product_id_encoded|category1_Index|category1_encoded|category2_Index|category2_encoded|bin_time_Index|bin_time_encoded|brandshrink2_Index|brandshrink2_encoded|label|            features|       rawPrediction|         probability|prediction|\n",
      "+----------+------+-----------+----------+--------+------------+----------------+----------------+------------------+---------------+-----------------+---------------+-----------------+--------------+----------------+------------------+--------------------+-----+--------------------+--------------------+--------------------+----------+\n",
      "|   1004838|179.38|electronics|smartphone|       2|        oppo|               1|            10.0|  (152,[10],[1.0])|            0.0|    (6,[0],[1.0])|            0.0|   (13,[0],[1.0])|           0.0|   (1,[0],[1.0])|               5.0|      (12,[5],[1.0])|  0.0|(185,[10,152,158,...|[0.91646962757225...|[0.71432222221223...|       0.0|\n",
      "|   1002544|464.13|electronics|smartphone|       2|       apple|               0|             0.0|   (152,[0],[1.0])|            0.0|    (6,[0],[1.0])|            0.0|   (13,[0],[1.0])|           0.0|   (1,[0],[1.0])|               0.0|      (12,[0],[1.0])|  1.0|(185,[0,152,158,1...|[4.39793949194506...|[0.98784685254248...|       0.0|\n",
      "|   1004833|174.76|electronics|smartphone|       2|     samsung|               1|             1.0|   (152,[1],[1.0])|            0.0|    (6,[0],[1.0])|            0.0|   (13,[0],[1.0])|           0.0|   (1,[0],[1.0])|               1.0|      (12,[1],[1.0])|  0.0|(185,[1,152,158,1...|[1.15494430998160...|[0.76041285624183...|       0.0|\n",
      "|   1004833|174.76|electronics|smartphone|       2|     samsung|               1|             1.0|   (152,[1],[1.0])|            0.0|    (6,[0],[1.0])|            0.0|   (13,[0],[1.0])|           0.0|   (1,[0],[1.0])|               1.0|      (12,[1],[1.0])|  0.0|(185,[1,152,158,1...|[1.15494430998160...|[0.76041285624183...|       0.0|\n",
      "|   1004857|130.73|electronics|smartphone|       2|     samsung|               1|             5.0|   (152,[5],[1.0])|            0.0|    (6,[0],[1.0])|            0.0|   (13,[0],[1.0])|           0.0|   (1,[0],[1.0])|               1.0|      (12,[1],[1.0])|  0.0|(185,[5,152,158,1...|[17.5314572985764...|[0.99999997566760...|       0.0|\n",
      "|   1004857|130.73|electronics|smartphone|       2|     samsung|               1|             5.0|   (152,[5],[1.0])|            0.0|    (6,[0],[1.0])|            0.0|   (13,[0],[1.0])|           0.0|   (1,[0],[1.0])|               1.0|      (12,[1],[1.0])|  0.0|(185,[5,152,158,1...|[17.5314572985764...|[0.99999997566760...|       0.0|\n",
      "|   1004857|130.73|electronics|smartphone|       2|     samsung|               1|             5.0|   (152,[5],[1.0])|            0.0|    (6,[0],[1.0])|            0.0|   (13,[0],[1.0])|           0.0|   (1,[0],[1.0])|               1.0|      (12,[1],[1.0])|  0.0|(185,[5,152,158,1...|[17.5314572985764...|[0.99999997566760...|       0.0|\n",
      "|   1004857|130.73|electronics|smartphone|       2|     samsung|               1|             5.0|   (152,[5],[1.0])|            0.0|    (6,[0],[1.0])|            0.0|   (13,[0],[1.0])|           0.0|   (1,[0],[1.0])|               1.0|      (12,[1],[1.0])|  0.0|(185,[5,152,158,1...|[17.5314572985764...|[0.99999997566760...|       0.0|\n",
      "|   1004857|130.73|electronics|smartphone|       2|     samsung|               1|             5.0|   (152,[5],[1.0])|            0.0|    (6,[0],[1.0])|            0.0|   (13,[0],[1.0])|           0.0|   (1,[0],[1.0])|               1.0|      (12,[1],[1.0])|  0.0|(185,[5,152,158,1...|[17.5314572985764...|[0.99999997566760...|       0.0|\n",
      "|   1004739|197.55|electronics|smartphone|       2|      xiaomi|               0|            24.0|  (152,[24],[1.0])|            0.0|    (6,[0],[1.0])|            0.0|   (13,[0],[1.0])|           0.0|   (1,[0],[1.0])|               2.0|      (12,[2],[1.0])|  1.0|(185,[24,152,158,...|[17.3498894114310...|[0.99999997082312...|       0.0|\n",
      "|   1004856|130.76|electronics|smartphone|       2|     samsung|               0|             2.0|   (152,[2],[1.0])|            0.0|    (6,[0],[1.0])|            0.0|   (13,[0],[1.0])|           0.0|   (1,[0],[1.0])|               1.0|      (12,[1],[1.0])|  1.0|(185,[2,152,158,1...|[0.75328192617711...|[0.67989339354085...|       0.0|\n",
      "|   1002633|360.08|electronics|smartphone|       2|       apple|               1|            21.0|  (152,[21],[1.0])|            0.0|    (6,[0],[1.0])|            0.0|   (13,[0],[1.0])|           0.0|   (1,[0],[1.0])|               0.0|      (12,[0],[1.0])|  0.0|(185,[21,152,158,...|[11.9914068128698...|[0.99999380280018...|       0.0|\n",
      "|   1004833|174.75|electronics|smartphone|       2|     samsung|               1|             1.0|   (152,[1],[1.0])|            0.0|    (6,[0],[1.0])|            0.0|   (13,[0],[1.0])|           0.0|   (1,[0],[1.0])|               1.0|      (12,[1],[1.0])|  0.0|(185,[1,152,158,1...|[1.15496262736123...|[0.76041619338036...|       0.0|\n",
      "|   1004767|254.82|electronics|smartphone|       2|     samsung|               1|             3.0|   (152,[3],[1.0])|            0.0|    (6,[0],[1.0])|            0.0|   (13,[0],[1.0])|           0.0|   (1,[0],[1.0])|               1.0|      (12,[1],[1.0])|  0.0|(185,[3,152,158,1...|[1.61113960979747...|[0.83356954614478...|       0.0|\n",
      "|   1004767|254.82|electronics|smartphone|       2|     samsung|               1|             3.0|   (152,[3],[1.0])|            0.0|    (6,[0],[1.0])|            0.0|   (13,[0],[1.0])|           0.0|   (1,[0],[1.0])|               1.0|      (12,[1],[1.0])|  0.0|(185,[3,152,158,1...|[1.61113960979747...|[0.83356954614478...|       0.0|\n",
      "|   1002544|464.08|electronics|smartphone|       2|       apple|               1|             0.0|   (152,[0],[1.0])|            0.0|    (6,[0],[1.0])|            0.0|   (13,[0],[1.0])|           0.0|   (1,[0],[1.0])|               0.0|      (12,[0],[1.0])|  0.0|(185,[0,152,158,1...|[4.39803116273964...|[0.98784795304227...|       0.0|\n",
      "|   1801805|256.88|electronics|     video|       2|       artel|               1|            19.0|  (152,[19],[1.0])|            0.0|    (6,[0],[1.0])|            2.0|   (13,[2],[1.0])|           0.0|   (1,[0],[1.0])|               6.0|      (12,[6],[1.0])|  0.0|(185,[19,152,160,...|[16.1163337201453...|[0.99999989982366...|       0.0|\n",
      "|   1801805|256.88|electronics|     video|       2|       artel|               1|            19.0|  (152,[19],[1.0])|            0.0|    (6,[0],[1.0])|            2.0|   (13,[2],[1.0])|           0.0|   (1,[0],[1.0])|               6.0|      (12,[6],[1.0])|  0.0|(185,[19,152,160,...|[16.1163337201453...|[0.99999989982366...|       0.0|\n",
      "|   1003316|946.97|electronics|smartphone|       2|       apple|               0|            55.0|  (152,[55],[1.0])|            0.0|    (6,[0],[1.0])|            0.0|   (13,[0],[1.0])|           0.0|   (1,[0],[1.0])|               0.0|      (12,[0],[1.0])|  1.0|(185,[55,152,158,...|[-24.004578408221...|[3.75788994363679...|       1.0|\n",
      "|   1004750|197.43|electronics|smartphone|       2|     samsung|               1|            14.0|  (152,[14],[1.0])|            0.0|    (6,[0],[1.0])|            0.0|   (13,[0],[1.0])|           0.0|   (1,[0],[1.0])|               1.0|      (12,[1],[1.0])|  0.0|(185,[14,152,158,...|[17.647354616685,...|[0.99999997833038...|       0.0|\n",
      "+----------+------+-----------+----------+--------+------------+----------------+----------------+------------------+---------------+-----------------+---------------+-----------------+--------------+----------------+------------------+--------------------+-----+--------------------+--------------------+--------------------+----------+\n",
      "only showing top 20 rows\n",
      "\n"
     ]
    }
   ],
   "source": [
    "lrpredict_test.show()"
   ]
  },
  {
   "cell_type": "code",
   "execution_count": 448,
   "metadata": {},
   "outputs": [
    {
     "name": "stdout",
     "output_type": "stream",
     "text": [
      "+-----+----------+--------------------+--------------------+\n",
      "|label|prediction|       rawPrediction|         probability|\n",
      "+-----+----------+--------------------+--------------------+\n",
      "|  0.0|       0.0|[0.91646962757225...|[0.71432222221223...|\n",
      "|  1.0|       0.0|[4.39793949194506...|[0.98784685254248...|\n",
      "|  0.0|       0.0|[1.15494430998160...|[0.76041285624183...|\n",
      "|  0.0|       0.0|[1.15494430998160...|[0.76041285624183...|\n",
      "|  0.0|       0.0|[17.5314572985764...|[0.99999997566760...|\n",
      "+-----+----------+--------------------+--------------------+\n",
      "only showing top 5 rows\n",
      "\n"
     ]
    }
   ],
   "source": [
    "lrpredict_test.select('label', 'prediction','rawPrediction','probability').show(5)"
   ]
  },
  {
   "cell_type": "code",
   "execution_count": 455,
   "metadata": {},
   "outputs": [],
   "source": [
    "from pyspark.ml.evaluation import BinaryClassificationEvaluator"
   ]
  },
  {
   "cell_type": "code",
   "execution_count": 456,
   "metadata": {},
   "outputs": [],
   "source": [
    "lrevaluator = BinaryClassificationEvaluator()"
   ]
  },
  {
   "cell_type": "code",
   "execution_count": 457,
   "metadata": {},
   "outputs": [],
   "source": [
    "lraccuracy = lrevaluator.evaluate(prediction)"
   ]
  },
  {
   "cell_type": "code",
   "execution_count": 458,
   "metadata": {},
   "outputs": [
    {
     "name": "stdout",
     "output_type": "stream",
     "text": [
      "0.8410716487853002\n"
     ]
    }
   ],
   "source": [
    "print(lraccuracy)"
   ]
  },
  {
   "cell_type": "code",
   "execution_count": 459,
   "metadata": {},
   "outputs": [],
   "source": [
    "#Run the decision tree classifier function as follows:\n",
    "from pyspark.ml.classification import DecisionTreeClassifier\n",
    "\n",
    "\n",
    "\n"
   ]
  },
  {
   "cell_type": "code",
   "execution_count": 460,
   "metadata": {},
   "outputs": [],
   "source": [
    "dt = DecisionTreeClassifier(featuresCol=\"features\", labelCol=\"label\")\n",
    "#Fit the training data\n",
    "dtmodel = dt.fit(train)"
   ]
  },
  {
   "cell_type": "code",
   "execution_count": 462,
   "metadata": {
    "scrolled": true
   },
   "outputs": [
    {
     "name": "stdout",
     "output_type": "stream",
     "text": [
      "+----------+-----+--------------------+\n",
      "|prediction|label|            features|\n",
      "+----------+-----+--------------------+\n",
      "|       0.0|  0.0|(185,[10,152,158,...|\n",
      "|       0.0|  1.0|(185,[0,152,158,1...|\n",
      "|       0.0|  0.0|(185,[1,152,158,1...|\n",
      "|       0.0|  0.0|(185,[1,152,158,1...|\n",
      "|       0.0|  0.0|(185,[5,152,158,1...|\n",
      "+----------+-----+--------------------+\n",
      "only showing top 5 rows\n",
      "\n"
     ]
    }
   ],
   "source": [
    "#Transform the test data as follows:\n",
    "dtpredictions = dtmodel.transform(test)\n",
    "\n",
    "#View the resultant dataframe to analyse better as follows:\n",
    "dtpredictions.select(\"prediction\", \"label\", \"features\").show(5)"
   ]
  },
  {
   "cell_type": "code",
   "execution_count": 463,
   "metadata": {},
   "outputs": [],
   "source": [
    "from pyspark.ml.evaluation import MulticlassClassificationEvaluator\n",
    "\n",
    "#Run the evaluator function as follows:\n",
    "dtevaluator=MulticlassClassificationEvaluator(labelCol=\"label\",predictionCol=\"prediction\",metricName=\"accuracy\")\n",
    "\n",
    "#View the accuracy as follows:\n",
    "dtaccuracy = evaluator.evaluate(dtpredictions)"
   ]
  },
  {
   "cell_type": "code",
   "execution_count": 464,
   "metadata": {},
   "outputs": [
    {
     "name": "stdout",
     "output_type": "stream",
     "text": [
      "0.8635097493036211\n"
     ]
    }
   ],
   "source": [
    "print(dtaccuracy)"
   ]
  }
 ],
 "metadata": {
  "kernelspec": {
   "display_name": "Python 3",
   "language": "python",
   "name": "python3"
  },
  "language_info": {
   "codemirror_mode": {
    "name": "ipython",
    "version": 3
   },
   "file_extension": ".py",
   "mimetype": "text/x-python",
   "name": "python",
   "nbconvert_exporter": "python",
   "pygments_lexer": "ipython3",
   "version": "3.8.8"
  }
 },
 "nbformat": 4,
 "nbformat_minor": 4
}
